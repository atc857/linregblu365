{
  "nbformat": 4,
  "nbformat_minor": 0,
  "metadata": {
    "colab": {
      "provenance": [],
      "toc_visible": true,
      "mount_file_id": "1u6o5Jp9S90DGvykCam0I9pt-AooacHzf",
      "authorship_tag": "ABX9TyOe/36v9W+bpvjPaM4c8pQ8",
      "include_colab_link": true
    },
    "kernelspec": {
      "name": "python3",
      "display_name": "Python 3"
    },
    "language_info": {
      "name": "python"
    }
  },
  "cells": [
    {
      "cell_type": "markdown",
      "metadata": {
        "id": "view-in-github",
        "colab_type": "text"
      },
      "source": [
        "<a href=\"https://colab.research.google.com/github/atc857/linregblu365/blob/main/blu365_mod2_fgv.ipynb\" target=\"_parent\"><img src=\"https://colab.research.google.com/assets/colab-badge.svg\" alt=\"Open In Colab\"/></a>"
      ]
    },
    {
      "cell_type": "markdown",
      "source": [
        "## Dados iniciais\n",
        "\n",
        "**Integrantes do Grupo**:\n",
        "\n",
        "André Telles Campos\n",
        "\n",
        "Jeann Wilson C. Aguiar\n",
        "\n",
        "Leandro Moura\n",
        "\n",
        "Thálita Fernandes de Araújo\n",
        "\n"
      ],
      "metadata": {
        "id": "cYhM43v_2xYq"
      }
    },
    {
      "cell_type": "markdown",
      "source": [
        "**Instruções**\n",
        "\n",
        "Descrição: a base em anexo, da empresa Blu365, trata de um problema de recuperação de crédito. No arquivo .xlsx a base propriamente dita. Nos arquivos .pdf e .mp4 temos uma apresentação explicando o modelo a ser desenvolvido, feita pelo head de Data Science da empresa, Sr.João Netto (ex-FGV).\n",
        "\n",
        "No arquivo: dados brutos e descrição das principais variáveis nome do arquivo: blu365_dataset_recuperação_de_crédito.xlsx\n",
        "\n",
        "A disciplina é inicial: o negócio é entender o processo, escolher as variáveis de entrada, limpar os dados, criar o modelo e avaliar. Não é necessário se preocupar em selecionar as melhores variáveis, reduzir categorias etc. Precisa apenas escolher as variáveis, codificar, separar em treino e teste, calcular os parâmetros (possivelmente pelo solver do excel), testar o modelo e avaliar com a curva ROC.\n",
        "\n",
        "Fazer apenas o modelo de regressão linear."
      ],
      "metadata": {
        "id": "TiII_-OkSX5D"
      }
    },
    {
      "cell_type": "markdown",
      "source": [
        "**Dicionário de dados**\n",
        "\n",
        "|  Variável |  Descrição |\n",
        "|---|---|\n",
        "|datadisparo   |  Data do disparo de SMS |\n",
        "|  ddd | ddd do telefone para o qual o SMS foi enviado  |\n",
        "| sms_entregue  | quantidade histórica de SMSs com status de \"entregue\" para esse número  |\n",
        "| sms_enviado  | quantidade histórica de SMSs com status de \"enviado\" para esse número  |\n",
        "| sms_naoentregue  | quantidade histórica de SMSs com status de \"não entregue\" para esse número  |\n",
        "| sms_rejeitado  | quantidade histórica de SMSs com status de \"rejeitado\" para esse número  |\n",
        "| sms_invalido  | quantidade histórica de SMSs com status de \"invalido\" para esse número  |\n",
        "| data_atraso  | data de atraso da dívida  |\n",
        "| valor  | valor total da dívida em atraso  |\n",
        "| operadora  | operadora do celular do inadimplente  |\n",
        "| qtd_hist_acessos  | quantidade histórica de acessos da pessoa na plataforma BLU  |\n",
        "| data_maisrecente_acesso  | data do acesso mais recente  |\n",
        "| data_maisantiga_acesso  | data do acesso mais antigo  |\n",
        "| sms_total_tent  | total histórico de tentativas de envio de SMSs para o número  |\n",
        "| idade  | idade  |\n",
        "| genero  | genero  |\n",
        "| compradoronline  | índice de A (mais alto) a H indicando se a pessoa tem costume de comprar online |\n",
        "| vendedoronline  | índice de A (mais alto) a H indicando se a pessoa tem costume de vender online  |\n",
        "| utilizacaoweb  | índice de A (mais alto) a H indicando se a pessoa tem costume de usar a web  |\n",
        "|rendaestimada | renda estimada da pessoa |\n",
        "| acesso | variável a ser prevista: se a pessoa acessou ou não o site após o disparo |\n",
        "| acordo | variável a ser prevista: se a pessoa fez ou não um acordo no site após o disparo |\n"
      ],
      "metadata": {
        "id": "Zh5eFcRUDPzm"
      }
    },
    {
      "cell_type": "code",
      "execution_count": 1,
      "metadata": {
        "id": "bbZy-LbbQM8n"
      },
      "outputs": [],
      "source": [
        "# Importação das bibliotecas necessárias\n",
        "import pandas as pd\n",
        "import numpy as np\n",
        "import seaborn as sns\n",
        "from matplotlib import pyplot as plt\n",
        "from sklearn import linear_model\n",
        "from sklearn.model_selection import train_test_split\n",
        "from sklearn import metrics"
      ]
    },
    {
      "cell_type": "code",
      "source": [
        "# Leitura da base de dados\n",
        "dir_file = \"https://media.githubusercontent.com/media/atc857/linregblu365/main/blu365_dataset.csv\"\n",
        "df = pd.read_csv(dir_file, sep=';')"
      ],
      "metadata": {
        "id": "yXwAiKbSS2X3"
      },
      "execution_count": 2,
      "outputs": []
    },
    {
      "cell_type": "code",
      "source": [
        "df.head()"
      ],
      "metadata": {
        "colab": {
          "base_uri": "https://localhost:8080/",
          "height": 256
        },
        "id": "QRnZXiLZRt_W",
        "outputId": "ee491968-b08b-4346-c7c8-137a7c78e971"
      },
      "execution_count": 3,
      "outputs": [
        {
          "output_type": "execute_result",
          "data": {
            "text/plain": [
              "  datadisparo  ddd  sms_entregue  sms_enviado  sms_naoentregue  sms_rejeitado  \\\n",
              "0  19/05/2020   62             0            0                0              0   \n",
              "1  27/04/2020   67             3            0                0              0   \n",
              "2  14/05/2020   51             1            0                0              0   \n",
              "3  13/05/2020   51             0            0                0              0   \n",
              "4  25/05/2020   62             0            0               12              0   \n",
              "\n",
              "   sms_invalido data_atraso   valor operadora  ...  data_maisantiga_acesso  \\\n",
              "0             0  24/05/2019  126.21     Claro  ...                     NaN   \n",
              "1             0  14/04/2017  244.29      Vivo  ...                     NaN   \n",
              "2             0  04/09/2019   51.00     Claro  ...                     NaN   \n",
              "3             0  14/11/2019  307.91       Tim  ...                     NaN   \n",
              "4             0  14/03/2017  154.12       Tim  ...                     NaN   \n",
              "\n",
              "  sms_total_tent idade  genero  compradoronline vendedoronline utilizacaoweb  \\\n",
              "0              0  22.0       M                H              H             H   \n",
              "1              3  56.0       F                D              H             D   \n",
              "2              1  45.0       M                B              H             B   \n",
              "3              0  35.0       F                B              H             B   \n",
              "4             12  43.0       F                A              H             A   \n",
              "\n",
              "  rendaestimada acesso acordo  \n",
              "0           NaN      0      0  \n",
              "1      ATE 2 SM      0      0  \n",
              "2      ATE 2 SM      0      0  \n",
              "3     4 A 10 SM      0      0  \n",
              "4           NaN      0      0  \n",
              "\n",
              "[5 rows x 22 columns]"
            ],
            "text/html": [
              "\n",
              "  <div id=\"df-47aac4ee-1b04-4c8b-b054-6a5c185b8995\" class=\"colab-df-container\">\n",
              "    <div>\n",
              "<style scoped>\n",
              "    .dataframe tbody tr th:only-of-type {\n",
              "        vertical-align: middle;\n",
              "    }\n",
              "\n",
              "    .dataframe tbody tr th {\n",
              "        vertical-align: top;\n",
              "    }\n",
              "\n",
              "    .dataframe thead th {\n",
              "        text-align: right;\n",
              "    }\n",
              "</style>\n",
              "<table border=\"1\" class=\"dataframe\">\n",
              "  <thead>\n",
              "    <tr style=\"text-align: right;\">\n",
              "      <th></th>\n",
              "      <th>datadisparo</th>\n",
              "      <th>ddd</th>\n",
              "      <th>sms_entregue</th>\n",
              "      <th>sms_enviado</th>\n",
              "      <th>sms_naoentregue</th>\n",
              "      <th>sms_rejeitado</th>\n",
              "      <th>sms_invalido</th>\n",
              "      <th>data_atraso</th>\n",
              "      <th>valor</th>\n",
              "      <th>operadora</th>\n",
              "      <th>...</th>\n",
              "      <th>data_maisantiga_acesso</th>\n",
              "      <th>sms_total_tent</th>\n",
              "      <th>idade</th>\n",
              "      <th>genero</th>\n",
              "      <th>compradoronline</th>\n",
              "      <th>vendedoronline</th>\n",
              "      <th>utilizacaoweb</th>\n",
              "      <th>rendaestimada</th>\n",
              "      <th>acesso</th>\n",
              "      <th>acordo</th>\n",
              "    </tr>\n",
              "  </thead>\n",
              "  <tbody>\n",
              "    <tr>\n",
              "      <th>0</th>\n",
              "      <td>19/05/2020</td>\n",
              "      <td>62</td>\n",
              "      <td>0</td>\n",
              "      <td>0</td>\n",
              "      <td>0</td>\n",
              "      <td>0</td>\n",
              "      <td>0</td>\n",
              "      <td>24/05/2019</td>\n",
              "      <td>126.21</td>\n",
              "      <td>Claro</td>\n",
              "      <td>...</td>\n",
              "      <td>NaN</td>\n",
              "      <td>0</td>\n",
              "      <td>22.0</td>\n",
              "      <td>M</td>\n",
              "      <td>H</td>\n",
              "      <td>H</td>\n",
              "      <td>H</td>\n",
              "      <td>NaN</td>\n",
              "      <td>0</td>\n",
              "      <td>0</td>\n",
              "    </tr>\n",
              "    <tr>\n",
              "      <th>1</th>\n",
              "      <td>27/04/2020</td>\n",
              "      <td>67</td>\n",
              "      <td>3</td>\n",
              "      <td>0</td>\n",
              "      <td>0</td>\n",
              "      <td>0</td>\n",
              "      <td>0</td>\n",
              "      <td>14/04/2017</td>\n",
              "      <td>244.29</td>\n",
              "      <td>Vivo</td>\n",
              "      <td>...</td>\n",
              "      <td>NaN</td>\n",
              "      <td>3</td>\n",
              "      <td>56.0</td>\n",
              "      <td>F</td>\n",
              "      <td>D</td>\n",
              "      <td>H</td>\n",
              "      <td>D</td>\n",
              "      <td>ATE 2 SM</td>\n",
              "      <td>0</td>\n",
              "      <td>0</td>\n",
              "    </tr>\n",
              "    <tr>\n",
              "      <th>2</th>\n",
              "      <td>14/05/2020</td>\n",
              "      <td>51</td>\n",
              "      <td>1</td>\n",
              "      <td>0</td>\n",
              "      <td>0</td>\n",
              "      <td>0</td>\n",
              "      <td>0</td>\n",
              "      <td>04/09/2019</td>\n",
              "      <td>51.00</td>\n",
              "      <td>Claro</td>\n",
              "      <td>...</td>\n",
              "      <td>NaN</td>\n",
              "      <td>1</td>\n",
              "      <td>45.0</td>\n",
              "      <td>M</td>\n",
              "      <td>B</td>\n",
              "      <td>H</td>\n",
              "      <td>B</td>\n",
              "      <td>ATE 2 SM</td>\n",
              "      <td>0</td>\n",
              "      <td>0</td>\n",
              "    </tr>\n",
              "    <tr>\n",
              "      <th>3</th>\n",
              "      <td>13/05/2020</td>\n",
              "      <td>51</td>\n",
              "      <td>0</td>\n",
              "      <td>0</td>\n",
              "      <td>0</td>\n",
              "      <td>0</td>\n",
              "      <td>0</td>\n",
              "      <td>14/11/2019</td>\n",
              "      <td>307.91</td>\n",
              "      <td>Tim</td>\n",
              "      <td>...</td>\n",
              "      <td>NaN</td>\n",
              "      <td>0</td>\n",
              "      <td>35.0</td>\n",
              "      <td>F</td>\n",
              "      <td>B</td>\n",
              "      <td>H</td>\n",
              "      <td>B</td>\n",
              "      <td>4 A 10 SM</td>\n",
              "      <td>0</td>\n",
              "      <td>0</td>\n",
              "    </tr>\n",
              "    <tr>\n",
              "      <th>4</th>\n",
              "      <td>25/05/2020</td>\n",
              "      <td>62</td>\n",
              "      <td>0</td>\n",
              "      <td>0</td>\n",
              "      <td>12</td>\n",
              "      <td>0</td>\n",
              "      <td>0</td>\n",
              "      <td>14/03/2017</td>\n",
              "      <td>154.12</td>\n",
              "      <td>Tim</td>\n",
              "      <td>...</td>\n",
              "      <td>NaN</td>\n",
              "      <td>12</td>\n",
              "      <td>43.0</td>\n",
              "      <td>F</td>\n",
              "      <td>A</td>\n",
              "      <td>H</td>\n",
              "      <td>A</td>\n",
              "      <td>NaN</td>\n",
              "      <td>0</td>\n",
              "      <td>0</td>\n",
              "    </tr>\n",
              "  </tbody>\n",
              "</table>\n",
              "<p>5 rows × 22 columns</p>\n",
              "</div>\n",
              "    <div class=\"colab-df-buttons\">\n",
              "\n",
              "  <div class=\"colab-df-container\">\n",
              "    <button class=\"colab-df-convert\" onclick=\"convertToInteractive('df-47aac4ee-1b04-4c8b-b054-6a5c185b8995')\"\n",
              "            title=\"Convert this dataframe to an interactive table.\"\n",
              "            style=\"display:none;\">\n",
              "\n",
              "  <svg xmlns=\"http://www.w3.org/2000/svg\" height=\"24px\" viewBox=\"0 -960 960 960\">\n",
              "    <path d=\"M120-120v-720h720v720H120Zm60-500h600v-160H180v160Zm220 220h160v-160H400v160Zm0 220h160v-160H400v160ZM180-400h160v-160H180v160Zm440 0h160v-160H620v160ZM180-180h160v-160H180v160Zm440 0h160v-160H620v160Z\"/>\n",
              "  </svg>\n",
              "    </button>\n",
              "\n",
              "  <style>\n",
              "    .colab-df-container {\n",
              "      display:flex;\n",
              "      gap: 12px;\n",
              "    }\n",
              "\n",
              "    .colab-df-convert {\n",
              "      background-color: #E8F0FE;\n",
              "      border: none;\n",
              "      border-radius: 50%;\n",
              "      cursor: pointer;\n",
              "      display: none;\n",
              "      fill: #1967D2;\n",
              "      height: 32px;\n",
              "      padding: 0 0 0 0;\n",
              "      width: 32px;\n",
              "    }\n",
              "\n",
              "    .colab-df-convert:hover {\n",
              "      background-color: #E2EBFA;\n",
              "      box-shadow: 0px 1px 2px rgba(60, 64, 67, 0.3), 0px 1px 3px 1px rgba(60, 64, 67, 0.15);\n",
              "      fill: #174EA6;\n",
              "    }\n",
              "\n",
              "    .colab-df-buttons div {\n",
              "      margin-bottom: 4px;\n",
              "    }\n",
              "\n",
              "    [theme=dark] .colab-df-convert {\n",
              "      background-color: #3B4455;\n",
              "      fill: #D2E3FC;\n",
              "    }\n",
              "\n",
              "    [theme=dark] .colab-df-convert:hover {\n",
              "      background-color: #434B5C;\n",
              "      box-shadow: 0px 1px 3px 1px rgba(0, 0, 0, 0.15);\n",
              "      filter: drop-shadow(0px 1px 2px rgba(0, 0, 0, 0.3));\n",
              "      fill: #FFFFFF;\n",
              "    }\n",
              "  </style>\n",
              "\n",
              "    <script>\n",
              "      const buttonEl =\n",
              "        document.querySelector('#df-47aac4ee-1b04-4c8b-b054-6a5c185b8995 button.colab-df-convert');\n",
              "      buttonEl.style.display =\n",
              "        google.colab.kernel.accessAllowed ? 'block' : 'none';\n",
              "\n",
              "      async function convertToInteractive(key) {\n",
              "        const element = document.querySelector('#df-47aac4ee-1b04-4c8b-b054-6a5c185b8995');\n",
              "        const dataTable =\n",
              "          await google.colab.kernel.invokeFunction('convertToInteractive',\n",
              "                                                    [key], {});\n",
              "        if (!dataTable) return;\n",
              "\n",
              "        const docLinkHtml = 'Like what you see? Visit the ' +\n",
              "          '<a target=\"_blank\" href=https://colab.research.google.com/notebooks/data_table.ipynb>data table notebook</a>'\n",
              "          + ' to learn more about interactive tables.';\n",
              "        element.innerHTML = '';\n",
              "        dataTable['output_type'] = 'display_data';\n",
              "        await google.colab.output.renderOutput(dataTable, element);\n",
              "        const docLink = document.createElement('div');\n",
              "        docLink.innerHTML = docLinkHtml;\n",
              "        element.appendChild(docLink);\n",
              "      }\n",
              "    </script>\n",
              "  </div>\n",
              "\n",
              "\n",
              "<div id=\"df-ee9050b1-0df3-46f0-a376-8d0032169d7e\">\n",
              "  <button class=\"colab-df-quickchart\" onclick=\"quickchart('df-ee9050b1-0df3-46f0-a376-8d0032169d7e')\"\n",
              "            title=\"Suggest charts\"\n",
              "            style=\"display:none;\">\n",
              "\n",
              "<svg xmlns=\"http://www.w3.org/2000/svg\" height=\"24px\"viewBox=\"0 0 24 24\"\n",
              "     width=\"24px\">\n",
              "    <g>\n",
              "        <path d=\"M19 3H5c-1.1 0-2 .9-2 2v14c0 1.1.9 2 2 2h14c1.1 0 2-.9 2-2V5c0-1.1-.9-2-2-2zM9 17H7v-7h2v7zm4 0h-2V7h2v10zm4 0h-2v-4h2v4z\"/>\n",
              "    </g>\n",
              "</svg>\n",
              "  </button>\n",
              "\n",
              "<style>\n",
              "  .colab-df-quickchart {\n",
              "      --bg-color: #E8F0FE;\n",
              "      --fill-color: #1967D2;\n",
              "      --hover-bg-color: #E2EBFA;\n",
              "      --hover-fill-color: #174EA6;\n",
              "      --disabled-fill-color: #AAA;\n",
              "      --disabled-bg-color: #DDD;\n",
              "  }\n",
              "\n",
              "  [theme=dark] .colab-df-quickchart {\n",
              "      --bg-color: #3B4455;\n",
              "      --fill-color: #D2E3FC;\n",
              "      --hover-bg-color: #434B5C;\n",
              "      --hover-fill-color: #FFFFFF;\n",
              "      --disabled-bg-color: #3B4455;\n",
              "      --disabled-fill-color: #666;\n",
              "  }\n",
              "\n",
              "  .colab-df-quickchart {\n",
              "    background-color: var(--bg-color);\n",
              "    border: none;\n",
              "    border-radius: 50%;\n",
              "    cursor: pointer;\n",
              "    display: none;\n",
              "    fill: var(--fill-color);\n",
              "    height: 32px;\n",
              "    padding: 0;\n",
              "    width: 32px;\n",
              "  }\n",
              "\n",
              "  .colab-df-quickchart:hover {\n",
              "    background-color: var(--hover-bg-color);\n",
              "    box-shadow: 0 1px 2px rgba(60, 64, 67, 0.3), 0 1px 3px 1px rgba(60, 64, 67, 0.15);\n",
              "    fill: var(--button-hover-fill-color);\n",
              "  }\n",
              "\n",
              "  .colab-df-quickchart-complete:disabled,\n",
              "  .colab-df-quickchart-complete:disabled:hover {\n",
              "    background-color: var(--disabled-bg-color);\n",
              "    fill: var(--disabled-fill-color);\n",
              "    box-shadow: none;\n",
              "  }\n",
              "\n",
              "  .colab-df-spinner {\n",
              "    border: 2px solid var(--fill-color);\n",
              "    border-color: transparent;\n",
              "    border-bottom-color: var(--fill-color);\n",
              "    animation:\n",
              "      spin 1s steps(1) infinite;\n",
              "  }\n",
              "\n",
              "  @keyframes spin {\n",
              "    0% {\n",
              "      border-color: transparent;\n",
              "      border-bottom-color: var(--fill-color);\n",
              "      border-left-color: var(--fill-color);\n",
              "    }\n",
              "    20% {\n",
              "      border-color: transparent;\n",
              "      border-left-color: var(--fill-color);\n",
              "      border-top-color: var(--fill-color);\n",
              "    }\n",
              "    30% {\n",
              "      border-color: transparent;\n",
              "      border-left-color: var(--fill-color);\n",
              "      border-top-color: var(--fill-color);\n",
              "      border-right-color: var(--fill-color);\n",
              "    }\n",
              "    40% {\n",
              "      border-color: transparent;\n",
              "      border-right-color: var(--fill-color);\n",
              "      border-top-color: var(--fill-color);\n",
              "    }\n",
              "    60% {\n",
              "      border-color: transparent;\n",
              "      border-right-color: var(--fill-color);\n",
              "    }\n",
              "    80% {\n",
              "      border-color: transparent;\n",
              "      border-right-color: var(--fill-color);\n",
              "      border-bottom-color: var(--fill-color);\n",
              "    }\n",
              "    90% {\n",
              "      border-color: transparent;\n",
              "      border-bottom-color: var(--fill-color);\n",
              "    }\n",
              "  }\n",
              "</style>\n",
              "\n",
              "  <script>\n",
              "    async function quickchart(key) {\n",
              "      const quickchartButtonEl =\n",
              "        document.querySelector('#' + key + ' button');\n",
              "      quickchartButtonEl.disabled = true;  // To prevent multiple clicks.\n",
              "      quickchartButtonEl.classList.add('colab-df-spinner');\n",
              "      try {\n",
              "        const charts = await google.colab.kernel.invokeFunction(\n",
              "            'suggestCharts', [key], {});\n",
              "      } catch (error) {\n",
              "        console.error('Error during call to suggestCharts:', error);\n",
              "      }\n",
              "      quickchartButtonEl.classList.remove('colab-df-spinner');\n",
              "      quickchartButtonEl.classList.add('colab-df-quickchart-complete');\n",
              "    }\n",
              "    (() => {\n",
              "      let quickchartButtonEl =\n",
              "        document.querySelector('#df-ee9050b1-0df3-46f0-a376-8d0032169d7e button');\n",
              "      quickchartButtonEl.style.display =\n",
              "        google.colab.kernel.accessAllowed ? 'block' : 'none';\n",
              "    })();\n",
              "  </script>\n",
              "</div>\n",
              "\n",
              "    </div>\n",
              "  </div>\n"
            ]
          },
          "metadata": {},
          "execution_count": 3
        }
      ]
    },
    {
      "cell_type": "code",
      "source": [
        "df.info()"
      ],
      "metadata": {
        "colab": {
          "base_uri": "https://localhost:8080/"
        },
        "id": "BKklmX-hTjaa",
        "outputId": "c18f98ca-a714-48d8-d162-85b61755fb27"
      },
      "execution_count": 4,
      "outputs": [
        {
          "output_type": "stream",
          "name": "stdout",
          "text": [
            "<class 'pandas.core.frame.DataFrame'>\n",
            "RangeIndex: 686383 entries, 0 to 686382\n",
            "Data columns (total 22 columns):\n",
            " #   Column                   Non-Null Count   Dtype  \n",
            "---  ------                   --------------   -----  \n",
            " 0   datadisparo              686383 non-null  object \n",
            " 1   ddd                      686383 non-null  int64  \n",
            " 2   sms_entregue             686383 non-null  int64  \n",
            " 3   sms_enviado              686383 non-null  int64  \n",
            " 4   sms_naoentregue          686383 non-null  int64  \n",
            " 5   sms_rejeitado            686383 non-null  int64  \n",
            " 6   sms_invalido             686383 non-null  int64  \n",
            " 7   data_atraso              686383 non-null  object \n",
            " 8   valor                    686383 non-null  float64\n",
            " 9   operadora                686383 non-null  object \n",
            " 10  qtd_hist_acessos         686383 non-null  int64  \n",
            " 11  data_maisrecente_acesso  77512 non-null   object \n",
            " 12  data_maisantiga_acesso   77512 non-null   object \n",
            " 13  sms_total_tent           686383 non-null  int64  \n",
            " 14  idade                    684648 non-null  float64\n",
            " 15  genero                   684650 non-null  object \n",
            " 16  compradoronline          684650 non-null  object \n",
            " 17  vendedoronline           684650 non-null  object \n",
            " 18  utilizacaoweb            684650 non-null  object \n",
            " 19  rendaestimada            520483 non-null  object \n",
            " 20  acesso                   686383 non-null  int64  \n",
            " 21  acordo                   686383 non-null  int64  \n",
            "dtypes: float64(2), int64(10), object(10)\n",
            "memory usage: 115.2+ MB\n"
          ]
        }
      ]
    },
    {
      "cell_type": "code",
      "source": [
        "# Converte as colunas de data para datetime no pandas\n",
        "df['datadisparo'] = pd.to_datetime(df['datadisparo'], errors='coerce')\n",
        "df['data_atraso'] = pd.to_datetime(df['data_atraso'], errors='coerce')\n",
        "df['data_maisrecente_acesso'] = pd.to_datetime(df['data_maisrecente_acesso'], errors='coerce')\n",
        "df['data_maisantiga_acesso'] = pd.to_datetime(df['data_maisantiga_acesso'], errors='coerce')"
      ],
      "metadata": {
        "colab": {
          "base_uri": "https://localhost:8080/"
        },
        "id": "5vV9q-5jTb7E",
        "outputId": "6392d7cd-88c4-4982-af22-0a70c37ebff9"
      },
      "execution_count": 5,
      "outputs": [
        {
          "output_type": "stream",
          "name": "stderr",
          "text": [
            "<ipython-input-5-e483585deb03>:2: UserWarning: Parsing dates in DD/MM/YYYY format when dayfirst=False (the default) was specified. This may lead to inconsistently parsed dates! Specify a format to ensure consistent parsing.\n",
            "  df['datadisparo'] = pd.to_datetime(df['datadisparo'], errors='coerce')\n",
            "<ipython-input-5-e483585deb03>:3: UserWarning: Parsing dates in DD/MM/YYYY format when dayfirst=False (the default) was specified. This may lead to inconsistently parsed dates! Specify a format to ensure consistent parsing.\n",
            "  df['data_atraso'] = pd.to_datetime(df['data_atraso'], errors='coerce')\n",
            "<ipython-input-5-e483585deb03>:4: UserWarning: Parsing dates in DD/MM/YYYY format when dayfirst=False (the default) was specified. This may lead to inconsistently parsed dates! Specify a format to ensure consistent parsing.\n",
            "  df['data_maisrecente_acesso'] = pd.to_datetime(df['data_maisrecente_acesso'], errors='coerce')\n",
            "<ipython-input-5-e483585deb03>:5: UserWarning: Parsing dates in DD/MM/YYYY format when dayfirst=False (the default) was specified. This may lead to inconsistently parsed dates! Specify a format to ensure consistent parsing.\n",
            "  df['data_maisantiga_acesso'] = pd.to_datetime(df['data_maisantiga_acesso'], errors='coerce')\n"
          ]
        }
      ]
    },
    {
      "cell_type": "code",
      "source": [
        "df.info()"
      ],
      "metadata": {
        "colab": {
          "base_uri": "https://localhost:8080/"
        },
        "id": "Gg2dD89eTdLV",
        "outputId": "ef6eed35-b3f0-44b5-aceb-e5e174fbb399"
      },
      "execution_count": 6,
      "outputs": [
        {
          "output_type": "stream",
          "name": "stdout",
          "text": [
            "<class 'pandas.core.frame.DataFrame'>\n",
            "RangeIndex: 686383 entries, 0 to 686382\n",
            "Data columns (total 22 columns):\n",
            " #   Column                   Non-Null Count   Dtype         \n",
            "---  ------                   --------------   -----         \n",
            " 0   datadisparo              686383 non-null  datetime64[ns]\n",
            " 1   ddd                      686383 non-null  int64         \n",
            " 2   sms_entregue             686383 non-null  int64         \n",
            " 3   sms_enviado              686383 non-null  int64         \n",
            " 4   sms_naoentregue          686383 non-null  int64         \n",
            " 5   sms_rejeitado            686383 non-null  int64         \n",
            " 6   sms_invalido             686383 non-null  int64         \n",
            " 7   data_atraso              686383 non-null  datetime64[ns]\n",
            " 8   valor                    686383 non-null  float64       \n",
            " 9   operadora                686383 non-null  object        \n",
            " 10  qtd_hist_acessos         686383 non-null  int64         \n",
            " 11  data_maisrecente_acesso  77512 non-null   datetime64[ns]\n",
            " 12  data_maisantiga_acesso   77512 non-null   datetime64[ns]\n",
            " 13  sms_total_tent           686383 non-null  int64         \n",
            " 14  idade                    684648 non-null  float64       \n",
            " 15  genero                   684650 non-null  object        \n",
            " 16  compradoronline          684650 non-null  object        \n",
            " 17  vendedoronline           684650 non-null  object        \n",
            " 18  utilizacaoweb            684650 non-null  object        \n",
            " 19  rendaestimada            520483 non-null  object        \n",
            " 20  acesso                   686383 non-null  int64         \n",
            " 21  acordo                   686383 non-null  int64         \n",
            "dtypes: datetime64[ns](4), float64(2), int64(10), object(6)\n",
            "memory usage: 115.2+ MB\n"
          ]
        }
      ]
    },
    {
      "cell_type": "code",
      "source": [
        "# Verifica a quantidade de valores ausentes nas colunas\n",
        "df.isnull().sum()"
      ],
      "metadata": {
        "colab": {
          "base_uri": "https://localhost:8080/"
        },
        "id": "8Ag-IM7Mvisn",
        "outputId": "445d5405-8fda-4de0-aadd-9c6be93b4d7a"
      },
      "execution_count": 7,
      "outputs": [
        {
          "output_type": "execute_result",
          "data": {
            "text/plain": [
              "datadisparo                     0\n",
              "ddd                             0\n",
              "sms_entregue                    0\n",
              "sms_enviado                     0\n",
              "sms_naoentregue                 0\n",
              "sms_rejeitado                   0\n",
              "sms_invalido                    0\n",
              "data_atraso                     0\n",
              "valor                           0\n",
              "operadora                       0\n",
              "qtd_hist_acessos                0\n",
              "data_maisrecente_acesso    608871\n",
              "data_maisantiga_acesso     608871\n",
              "sms_total_tent                  0\n",
              "idade                        1735\n",
              "genero                       1733\n",
              "compradoronline              1733\n",
              "vendedoronline               1733\n",
              "utilizacaoweb                1733\n",
              "rendaestimada              165900\n",
              "acesso                          0\n",
              "acordo                          0\n",
              "dtype: int64"
            ]
          },
          "metadata": {},
          "execution_count": 7
        }
      ]
    },
    {
      "cell_type": "code",
      "source": [
        "# Resumo das principais medidas estatísitcas do dataset\n",
        "df.describe()"
      ],
      "metadata": {
        "colab": {
          "base_uri": "https://localhost:8080/",
          "height": 300
        },
        "id": "krWkWrmoV_Cr",
        "outputId": "63d1df54-1aa6-41e8-a876-77543e739a02"
      },
      "execution_count": 8,
      "outputs": [
        {
          "output_type": "execute_result",
          "data": {
            "text/plain": [
              "                 ddd   sms_entregue    sms_enviado  sms_naoentregue  \\\n",
              "count  686383.000000  686383.000000  686383.000000    686383.000000   \n",
              "mean       54.100716       2.225027       0.050928         0.938616   \n",
              "std        11.441091       3.472402       0.649311         2.474068   \n",
              "min        11.000000       0.000000       0.000000         0.000000   \n",
              "25%        44.000000       0.000000       0.000000         0.000000   \n",
              "50%        54.000000       0.000000       0.000000         0.000000   \n",
              "75%        62.000000       3.000000       0.000000         0.000000   \n",
              "max        99.000000      23.000000      20.000000        22.000000   \n",
              "\n",
              "       sms_rejeitado  sms_invalido          valor  qtd_hist_acessos  \\\n",
              "count  686383.000000      686383.0  686383.000000     686383.000000   \n",
              "mean        0.002046           0.0     268.770910          0.182840   \n",
              "std         0.185847           0.0     291.660576          0.655077   \n",
              "min         0.000000           0.0       5.300000          0.000000   \n",
              "25%         0.000000           0.0     110.520000          0.000000   \n",
              "50%         0.000000           0.0     225.970000          0.000000   \n",
              "75%         0.000000           0.0     343.995000          0.000000   \n",
              "max        18.000000           0.0   61952.930000         20.000000   \n",
              "\n",
              "       sms_total_tent          idade         acesso         acordo  \n",
              "count   686383.000000  684648.000000  686383.000000  686383.000000  \n",
              "mean         3.208181      40.644479       0.027453       0.003374  \n",
              "std          3.755364      14.697298       0.163398       0.057990  \n",
              "min          0.000000       6.000000       0.000000       0.000000  \n",
              "25%          0.000000      29.000000       0.000000       0.000000  \n",
              "50%          2.000000      38.000000       0.000000       0.000000  \n",
              "75%          5.000000      49.000000       0.000000       0.000000  \n",
              "max         23.000000     136.000000       1.000000       1.000000  "
            ],
            "text/html": [
              "\n",
              "  <div id=\"df-a67faca3-e1b7-4e23-b047-279fd56d8842\" class=\"colab-df-container\">\n",
              "    <div>\n",
              "<style scoped>\n",
              "    .dataframe tbody tr th:only-of-type {\n",
              "        vertical-align: middle;\n",
              "    }\n",
              "\n",
              "    .dataframe tbody tr th {\n",
              "        vertical-align: top;\n",
              "    }\n",
              "\n",
              "    .dataframe thead th {\n",
              "        text-align: right;\n",
              "    }\n",
              "</style>\n",
              "<table border=\"1\" class=\"dataframe\">\n",
              "  <thead>\n",
              "    <tr style=\"text-align: right;\">\n",
              "      <th></th>\n",
              "      <th>ddd</th>\n",
              "      <th>sms_entregue</th>\n",
              "      <th>sms_enviado</th>\n",
              "      <th>sms_naoentregue</th>\n",
              "      <th>sms_rejeitado</th>\n",
              "      <th>sms_invalido</th>\n",
              "      <th>valor</th>\n",
              "      <th>qtd_hist_acessos</th>\n",
              "      <th>sms_total_tent</th>\n",
              "      <th>idade</th>\n",
              "      <th>acesso</th>\n",
              "      <th>acordo</th>\n",
              "    </tr>\n",
              "  </thead>\n",
              "  <tbody>\n",
              "    <tr>\n",
              "      <th>count</th>\n",
              "      <td>686383.000000</td>\n",
              "      <td>686383.000000</td>\n",
              "      <td>686383.000000</td>\n",
              "      <td>686383.000000</td>\n",
              "      <td>686383.000000</td>\n",
              "      <td>686383.0</td>\n",
              "      <td>686383.000000</td>\n",
              "      <td>686383.000000</td>\n",
              "      <td>686383.000000</td>\n",
              "      <td>684648.000000</td>\n",
              "      <td>686383.000000</td>\n",
              "      <td>686383.000000</td>\n",
              "    </tr>\n",
              "    <tr>\n",
              "      <th>mean</th>\n",
              "      <td>54.100716</td>\n",
              "      <td>2.225027</td>\n",
              "      <td>0.050928</td>\n",
              "      <td>0.938616</td>\n",
              "      <td>0.002046</td>\n",
              "      <td>0.0</td>\n",
              "      <td>268.770910</td>\n",
              "      <td>0.182840</td>\n",
              "      <td>3.208181</td>\n",
              "      <td>40.644479</td>\n",
              "      <td>0.027453</td>\n",
              "      <td>0.003374</td>\n",
              "    </tr>\n",
              "    <tr>\n",
              "      <th>std</th>\n",
              "      <td>11.441091</td>\n",
              "      <td>3.472402</td>\n",
              "      <td>0.649311</td>\n",
              "      <td>2.474068</td>\n",
              "      <td>0.185847</td>\n",
              "      <td>0.0</td>\n",
              "      <td>291.660576</td>\n",
              "      <td>0.655077</td>\n",
              "      <td>3.755364</td>\n",
              "      <td>14.697298</td>\n",
              "      <td>0.163398</td>\n",
              "      <td>0.057990</td>\n",
              "    </tr>\n",
              "    <tr>\n",
              "      <th>min</th>\n",
              "      <td>11.000000</td>\n",
              "      <td>0.000000</td>\n",
              "      <td>0.000000</td>\n",
              "      <td>0.000000</td>\n",
              "      <td>0.000000</td>\n",
              "      <td>0.0</td>\n",
              "      <td>5.300000</td>\n",
              "      <td>0.000000</td>\n",
              "      <td>0.000000</td>\n",
              "      <td>6.000000</td>\n",
              "      <td>0.000000</td>\n",
              "      <td>0.000000</td>\n",
              "    </tr>\n",
              "    <tr>\n",
              "      <th>25%</th>\n",
              "      <td>44.000000</td>\n",
              "      <td>0.000000</td>\n",
              "      <td>0.000000</td>\n",
              "      <td>0.000000</td>\n",
              "      <td>0.000000</td>\n",
              "      <td>0.0</td>\n",
              "      <td>110.520000</td>\n",
              "      <td>0.000000</td>\n",
              "      <td>0.000000</td>\n",
              "      <td>29.000000</td>\n",
              "      <td>0.000000</td>\n",
              "      <td>0.000000</td>\n",
              "    </tr>\n",
              "    <tr>\n",
              "      <th>50%</th>\n",
              "      <td>54.000000</td>\n",
              "      <td>0.000000</td>\n",
              "      <td>0.000000</td>\n",
              "      <td>0.000000</td>\n",
              "      <td>0.000000</td>\n",
              "      <td>0.0</td>\n",
              "      <td>225.970000</td>\n",
              "      <td>0.000000</td>\n",
              "      <td>2.000000</td>\n",
              "      <td>38.000000</td>\n",
              "      <td>0.000000</td>\n",
              "      <td>0.000000</td>\n",
              "    </tr>\n",
              "    <tr>\n",
              "      <th>75%</th>\n",
              "      <td>62.000000</td>\n",
              "      <td>3.000000</td>\n",
              "      <td>0.000000</td>\n",
              "      <td>0.000000</td>\n",
              "      <td>0.000000</td>\n",
              "      <td>0.0</td>\n",
              "      <td>343.995000</td>\n",
              "      <td>0.000000</td>\n",
              "      <td>5.000000</td>\n",
              "      <td>49.000000</td>\n",
              "      <td>0.000000</td>\n",
              "      <td>0.000000</td>\n",
              "    </tr>\n",
              "    <tr>\n",
              "      <th>max</th>\n",
              "      <td>99.000000</td>\n",
              "      <td>23.000000</td>\n",
              "      <td>20.000000</td>\n",
              "      <td>22.000000</td>\n",
              "      <td>18.000000</td>\n",
              "      <td>0.0</td>\n",
              "      <td>61952.930000</td>\n",
              "      <td>20.000000</td>\n",
              "      <td>23.000000</td>\n",
              "      <td>136.000000</td>\n",
              "      <td>1.000000</td>\n",
              "      <td>1.000000</td>\n",
              "    </tr>\n",
              "  </tbody>\n",
              "</table>\n",
              "</div>\n",
              "    <div class=\"colab-df-buttons\">\n",
              "\n",
              "  <div class=\"colab-df-container\">\n",
              "    <button class=\"colab-df-convert\" onclick=\"convertToInteractive('df-a67faca3-e1b7-4e23-b047-279fd56d8842')\"\n",
              "            title=\"Convert this dataframe to an interactive table.\"\n",
              "            style=\"display:none;\">\n",
              "\n",
              "  <svg xmlns=\"http://www.w3.org/2000/svg\" height=\"24px\" viewBox=\"0 -960 960 960\">\n",
              "    <path d=\"M120-120v-720h720v720H120Zm60-500h600v-160H180v160Zm220 220h160v-160H400v160Zm0 220h160v-160H400v160ZM180-400h160v-160H180v160Zm440 0h160v-160H620v160ZM180-180h160v-160H180v160Zm440 0h160v-160H620v160Z\"/>\n",
              "  </svg>\n",
              "    </button>\n",
              "\n",
              "  <style>\n",
              "    .colab-df-container {\n",
              "      display:flex;\n",
              "      gap: 12px;\n",
              "    }\n",
              "\n",
              "    .colab-df-convert {\n",
              "      background-color: #E8F0FE;\n",
              "      border: none;\n",
              "      border-radius: 50%;\n",
              "      cursor: pointer;\n",
              "      display: none;\n",
              "      fill: #1967D2;\n",
              "      height: 32px;\n",
              "      padding: 0 0 0 0;\n",
              "      width: 32px;\n",
              "    }\n",
              "\n",
              "    .colab-df-convert:hover {\n",
              "      background-color: #E2EBFA;\n",
              "      box-shadow: 0px 1px 2px rgba(60, 64, 67, 0.3), 0px 1px 3px 1px rgba(60, 64, 67, 0.15);\n",
              "      fill: #174EA6;\n",
              "    }\n",
              "\n",
              "    .colab-df-buttons div {\n",
              "      margin-bottom: 4px;\n",
              "    }\n",
              "\n",
              "    [theme=dark] .colab-df-convert {\n",
              "      background-color: #3B4455;\n",
              "      fill: #D2E3FC;\n",
              "    }\n",
              "\n",
              "    [theme=dark] .colab-df-convert:hover {\n",
              "      background-color: #434B5C;\n",
              "      box-shadow: 0px 1px 3px 1px rgba(0, 0, 0, 0.15);\n",
              "      filter: drop-shadow(0px 1px 2px rgba(0, 0, 0, 0.3));\n",
              "      fill: #FFFFFF;\n",
              "    }\n",
              "  </style>\n",
              "\n",
              "    <script>\n",
              "      const buttonEl =\n",
              "        document.querySelector('#df-a67faca3-e1b7-4e23-b047-279fd56d8842 button.colab-df-convert');\n",
              "      buttonEl.style.display =\n",
              "        google.colab.kernel.accessAllowed ? 'block' : 'none';\n",
              "\n",
              "      async function convertToInteractive(key) {\n",
              "        const element = document.querySelector('#df-a67faca3-e1b7-4e23-b047-279fd56d8842');\n",
              "        const dataTable =\n",
              "          await google.colab.kernel.invokeFunction('convertToInteractive',\n",
              "                                                    [key], {});\n",
              "        if (!dataTable) return;\n",
              "\n",
              "        const docLinkHtml = 'Like what you see? Visit the ' +\n",
              "          '<a target=\"_blank\" href=https://colab.research.google.com/notebooks/data_table.ipynb>data table notebook</a>'\n",
              "          + ' to learn more about interactive tables.';\n",
              "        element.innerHTML = '';\n",
              "        dataTable['output_type'] = 'display_data';\n",
              "        await google.colab.output.renderOutput(dataTable, element);\n",
              "        const docLink = document.createElement('div');\n",
              "        docLink.innerHTML = docLinkHtml;\n",
              "        element.appendChild(docLink);\n",
              "      }\n",
              "    </script>\n",
              "  </div>\n",
              "\n",
              "\n",
              "<div id=\"df-dc5833ff-0be4-4101-9a40-240dd144a9b2\">\n",
              "  <button class=\"colab-df-quickchart\" onclick=\"quickchart('df-dc5833ff-0be4-4101-9a40-240dd144a9b2')\"\n",
              "            title=\"Suggest charts\"\n",
              "            style=\"display:none;\">\n",
              "\n",
              "<svg xmlns=\"http://www.w3.org/2000/svg\" height=\"24px\"viewBox=\"0 0 24 24\"\n",
              "     width=\"24px\">\n",
              "    <g>\n",
              "        <path d=\"M19 3H5c-1.1 0-2 .9-2 2v14c0 1.1.9 2 2 2h14c1.1 0 2-.9 2-2V5c0-1.1-.9-2-2-2zM9 17H7v-7h2v7zm4 0h-2V7h2v10zm4 0h-2v-4h2v4z\"/>\n",
              "    </g>\n",
              "</svg>\n",
              "  </button>\n",
              "\n",
              "<style>\n",
              "  .colab-df-quickchart {\n",
              "      --bg-color: #E8F0FE;\n",
              "      --fill-color: #1967D2;\n",
              "      --hover-bg-color: #E2EBFA;\n",
              "      --hover-fill-color: #174EA6;\n",
              "      --disabled-fill-color: #AAA;\n",
              "      --disabled-bg-color: #DDD;\n",
              "  }\n",
              "\n",
              "  [theme=dark] .colab-df-quickchart {\n",
              "      --bg-color: #3B4455;\n",
              "      --fill-color: #D2E3FC;\n",
              "      --hover-bg-color: #434B5C;\n",
              "      --hover-fill-color: #FFFFFF;\n",
              "      --disabled-bg-color: #3B4455;\n",
              "      --disabled-fill-color: #666;\n",
              "  }\n",
              "\n",
              "  .colab-df-quickchart {\n",
              "    background-color: var(--bg-color);\n",
              "    border: none;\n",
              "    border-radius: 50%;\n",
              "    cursor: pointer;\n",
              "    display: none;\n",
              "    fill: var(--fill-color);\n",
              "    height: 32px;\n",
              "    padding: 0;\n",
              "    width: 32px;\n",
              "  }\n",
              "\n",
              "  .colab-df-quickchart:hover {\n",
              "    background-color: var(--hover-bg-color);\n",
              "    box-shadow: 0 1px 2px rgba(60, 64, 67, 0.3), 0 1px 3px 1px rgba(60, 64, 67, 0.15);\n",
              "    fill: var(--button-hover-fill-color);\n",
              "  }\n",
              "\n",
              "  .colab-df-quickchart-complete:disabled,\n",
              "  .colab-df-quickchart-complete:disabled:hover {\n",
              "    background-color: var(--disabled-bg-color);\n",
              "    fill: var(--disabled-fill-color);\n",
              "    box-shadow: none;\n",
              "  }\n",
              "\n",
              "  .colab-df-spinner {\n",
              "    border: 2px solid var(--fill-color);\n",
              "    border-color: transparent;\n",
              "    border-bottom-color: var(--fill-color);\n",
              "    animation:\n",
              "      spin 1s steps(1) infinite;\n",
              "  }\n",
              "\n",
              "  @keyframes spin {\n",
              "    0% {\n",
              "      border-color: transparent;\n",
              "      border-bottom-color: var(--fill-color);\n",
              "      border-left-color: var(--fill-color);\n",
              "    }\n",
              "    20% {\n",
              "      border-color: transparent;\n",
              "      border-left-color: var(--fill-color);\n",
              "      border-top-color: var(--fill-color);\n",
              "    }\n",
              "    30% {\n",
              "      border-color: transparent;\n",
              "      border-left-color: var(--fill-color);\n",
              "      border-top-color: var(--fill-color);\n",
              "      border-right-color: var(--fill-color);\n",
              "    }\n",
              "    40% {\n",
              "      border-color: transparent;\n",
              "      border-right-color: var(--fill-color);\n",
              "      border-top-color: var(--fill-color);\n",
              "    }\n",
              "    60% {\n",
              "      border-color: transparent;\n",
              "      border-right-color: var(--fill-color);\n",
              "    }\n",
              "    80% {\n",
              "      border-color: transparent;\n",
              "      border-right-color: var(--fill-color);\n",
              "      border-bottom-color: var(--fill-color);\n",
              "    }\n",
              "    90% {\n",
              "      border-color: transparent;\n",
              "      border-bottom-color: var(--fill-color);\n",
              "    }\n",
              "  }\n",
              "</style>\n",
              "\n",
              "  <script>\n",
              "    async function quickchart(key) {\n",
              "      const quickchartButtonEl =\n",
              "        document.querySelector('#' + key + ' button');\n",
              "      quickchartButtonEl.disabled = true;  // To prevent multiple clicks.\n",
              "      quickchartButtonEl.classList.add('colab-df-spinner');\n",
              "      try {\n",
              "        const charts = await google.colab.kernel.invokeFunction(\n",
              "            'suggestCharts', [key], {});\n",
              "      } catch (error) {\n",
              "        console.error('Error during call to suggestCharts:', error);\n",
              "      }\n",
              "      quickchartButtonEl.classList.remove('colab-df-spinner');\n",
              "      quickchartButtonEl.classList.add('colab-df-quickchart-complete');\n",
              "    }\n",
              "    (() => {\n",
              "      let quickchartButtonEl =\n",
              "        document.querySelector('#df-dc5833ff-0be4-4101-9a40-240dd144a9b2 button');\n",
              "      quickchartButtonEl.style.display =\n",
              "        google.colab.kernel.accessAllowed ? 'block' : 'none';\n",
              "    })();\n",
              "  </script>\n",
              "</div>\n",
              "\n",
              "    </div>\n",
              "  </div>\n"
            ]
          },
          "metadata": {},
          "execution_count": 8
        }
      ]
    },
    {
      "cell_type": "code",
      "source": [
        "# Mapa de calor para a correlação entre variáveis\n",
        "plt.figure(figsize=(12,8))\n",
        "sns.heatmap(df.corr(), annot=True, cmap=\"Blues\")\n",
        "plt.show()"
      ],
      "metadata": {
        "colab": {
          "base_uri": "https://localhost:8080/",
          "height": 846
        },
        "id": "J1B_niYRHQ0V",
        "outputId": "6fc52cde-81e1-4653-f411-c631871aecdb"
      },
      "execution_count": 9,
      "outputs": [
        {
          "output_type": "stream",
          "name": "stderr",
          "text": [
            "<ipython-input-9-d6e0f38d264e>:3: FutureWarning: The default value of numeric_only in DataFrame.corr is deprecated. In a future version, it will default to False. Select only valid columns or specify the value of numeric_only to silence this warning.\n",
            "  sns.heatmap(df.corr(), annot=True, cmap=\"Blues\")\n"
          ]
        },
        {
          "output_type": "display_data",
          "data": {
            "text/plain": [
              "<Figure size 1200x800 with 2 Axes>"
            ],
            "image/png": "[encoded data removed]"
          },
          "metadata": {}
        }
      ]
    },
    {
      "cell_type": "markdown",
      "source": [
        "# Manipulação de variáveis\n",
        "\n",
        "Preparação da base de dados"
      ],
      "metadata": {
        "id": "B0jBn614ufa6"
      }
    },
    {
      "cell_type": "markdown",
      "source": [
        "Vamos considerar um modelo com as seguintes variáveis inicialmente:\n",
        "\n",
        "- acesso-acordo\n",
        "- datadisparo\n",
        "- sms_entregue\n",
        "- sms_enviado\n",
        "- sms_naoentregue\n",
        "- sms_rejeitado\n",
        "- sms_invalido\n",
        "- data_atraso\n",
        "- valor\n",
        "- operadora\n",
        "- qtd_hist_acessos\n",
        "- sms_total_tent\n",
        "- idade\n",
        "- genero\n",
        "- utilizacaoweb\n",
        "- rendaestimada\n",
        "- dias_atraso = datadisparo - data_atraso\n",
        "- dia_semana = datadisparo.dt.dayofweek"
      ],
      "metadata": {
        "id": "rF5TA_YIRgRt"
      }
    },
    {
      "cell_type": "code",
      "source": [
        "df.columns"
      ],
      "metadata": {
        "colab": {
          "base_uri": "https://localhost:8080/"
        },
        "id": "oKrQF1-tW56D",
        "outputId": "44d8b342-f346-473b-c4e0-cbb91d9ed3d6"
      },
      "execution_count": 10,
      "outputs": [
        {
          "output_type": "execute_result",
          "data": {
            "text/plain": [
              "Index(['datadisparo', 'ddd', 'sms_entregue', 'sms_enviado', 'sms_naoentregue',\n",
              "       'sms_rejeitado', 'sms_invalido', 'data_atraso', 'valor', 'operadora',\n",
              "       'qtd_hist_acessos', 'data_maisrecente_acesso', 'data_maisantiga_acesso',\n",
              "       'sms_total_tent', 'idade', 'genero', 'compradoronline',\n",
              "       'vendedoronline', 'utilizacaoweb', 'rendaestimada', 'acesso', 'acordo'],\n",
              "      dtype='object')"
            ]
          },
          "metadata": {},
          "execution_count": 10
        }
      ]
    },
    {
      "cell_type": "code",
      "source": [
        "# Copia a base original para um dataframe apenas com as colunas de interesse do modelo\n",
        "base = df[['acesso','acordo','datadisparo','sms_entregue','sms_enviado','sms_naoentregue','sms_rejeitado',\n",
        "           'sms_invalido','data_atraso','valor','operadora','qtd_hist_acessos',\n",
        "           'sms_total_tent','idade','genero','utilizacaoweb','rendaestimada']]"
      ],
      "metadata": {
        "id": "2Z0MOe5oWFQ5"
      },
      "execution_count": 11,
      "outputs": []
    },
    {
      "cell_type": "code",
      "source": [
        "base.info()"
      ],
      "metadata": {
        "colab": {
          "base_uri": "https://localhost:8080/"
        },
        "id": "QgnBOtIrZXDg",
        "outputId": "ebc89043-5359-4ed7-99e7-14153d1087f3"
      },
      "execution_count": 12,
      "outputs": [
        {
          "output_type": "stream",
          "name": "stdout",
          "text": [
            "<class 'pandas.core.frame.DataFrame'>\n",
            "RangeIndex: 686383 entries, 0 to 686382\n",
            "Data columns (total 17 columns):\n",
            " #   Column            Non-Null Count   Dtype         \n",
            "---  ------            --------------   -----         \n",
            " 0   acesso            686383 non-null  int64         \n",
            " 1   acordo            686383 non-null  int64         \n",
            " 2   datadisparo       686383 non-null  datetime64[ns]\n",
            " 3   sms_entregue      686383 non-null  int64         \n",
            " 4   sms_enviado       686383 non-null  int64         \n",
            " 5   sms_naoentregue   686383 non-null  int64         \n",
            " 6   sms_rejeitado     686383 non-null  int64         \n",
            " 7   sms_invalido      686383 non-null  int64         \n",
            " 8   data_atraso       686383 non-null  datetime64[ns]\n",
            " 9   valor             686383 non-null  float64       \n",
            " 10  operadora         686383 non-null  object        \n",
            " 11  qtd_hist_acessos  686383 non-null  int64         \n",
            " 12  sms_total_tent    686383 non-null  int64         \n",
            " 13  idade             684648 non-null  float64       \n",
            " 14  genero            684650 non-null  object        \n",
            " 15  utilizacaoweb     684650 non-null  object        \n",
            " 16  rendaestimada     520483 non-null  object        \n",
            "dtypes: datetime64[ns](2), float64(2), int64(9), object(4)\n",
            "memory usage: 89.0+ MB\n"
          ]
        }
      ]
    },
    {
      "cell_type": "code",
      "source": [
        "# Estratégia para lidar com os dados faltantes\n",
        "# Uma opção é eliminar esses dados da base .dropna()\n",
        "# Outra opção é preencher as células com algum valor representativo (por exemplo, zero ou valor anterior ou valor médio etc.) .fillna()\n",
        "base.dropna(inplace=True)"
      ],
      "metadata": {
        "colab": {
          "base_uri": "https://localhost:8080/"
        },
        "id": "wTjBZCV1b_oy",
        "outputId": "2d81e0ec-a4dc-42f4-fc7e-a27d2d539781"
      },
      "execution_count": 13,
      "outputs": [
        {
          "output_type": "stream",
          "name": "stderr",
          "text": [
            "<ipython-input-13-597b8d2fa6c0>:4: SettingWithCopyWarning: \n",
            "A value is trying to be set on a copy of a slice from a DataFrame\n",
            "\n",
            "See the caveats in the documentation: https://pandas.pydata.org/pandas-docs/stable/user_guide/indexing.html#returning-a-view-versus-a-copy\n",
            "  base.dropna(inplace=True)\n"
          ]
        }
      ]
    },
    {
      "cell_type": "code",
      "source": [
        "# Tamanho da base após retirada das linhas com valores ausentes\n",
        "base.shape"
      ],
      "metadata": {
        "colab": {
          "base_uri": "https://localhost:8080/"
        },
        "id": "vxwDrcFwcIiM",
        "outputId": "2b1bcd15-c89c-403e-f159-5238bcbeaa3a"
      },
      "execution_count": 14,
      "outputs": [
        {
          "output_type": "execute_result",
          "data": {
            "text/plain": [
              "(520483, 17)"
            ]
          },
          "metadata": {},
          "execution_count": 14
        }
      ]
    },
    {
      "cell_type": "code",
      "source": [
        "# Cria coluna de dias de atraso da dívida até a data do disparo\n",
        "base['dias_atraso'] = base['datadisparo'] - base['data_atraso']"
      ],
      "metadata": {
        "id": "l6Vlhte9BADL",
        "colab": {
          "base_uri": "https://localhost:8080/"
        },
        "outputId": "b1b245c3-e2d9-4630-b3ad-5756100366d6"
      },
      "execution_count": 15,
      "outputs": [
        {
          "output_type": "stream",
          "name": "stderr",
          "text": [
            "<ipython-input-15-cf14615f91ed>:2: SettingWithCopyWarning: \n",
            "A value is trying to be set on a copy of a slice from a DataFrame.\n",
            "Try using .loc[row_indexer,col_indexer] = value instead\n",
            "\n",
            "See the caveats in the documentation: https://pandas.pydata.org/pandas-docs/stable/user_guide/indexing.html#returning-a-view-versus-a-copy\n",
            "  base['dias_atraso'] = base['datadisparo'] - base['data_atraso']\n"
          ]
        }
      ]
    },
    {
      "cell_type": "code",
      "source": [
        "# Converte a coluna dias_atraso em inteiro\n",
        "base['dias_atraso'] = base['dias_atraso'].dt.days"
      ],
      "metadata": {
        "id": "kkYinVE0A_9f",
        "colab": {
          "base_uri": "https://localhost:8080/"
        },
        "outputId": "c7e81cd7-2554-470a-8885-d42ce27b5081"
      },
      "execution_count": 16,
      "outputs": [
        {
          "output_type": "stream",
          "name": "stderr",
          "text": [
            "<ipython-input-16-dde3e983d18a>:2: SettingWithCopyWarning: \n",
            "A value is trying to be set on a copy of a slice from a DataFrame.\n",
            "Try using .loc[row_indexer,col_indexer] = value instead\n",
            "\n",
            "See the caveats in the documentation: https://pandas.pydata.org/pandas-docs/stable/user_guide/indexing.html#returning-a-view-versus-a-copy\n",
            "  base['dias_atraso'] = base['dias_atraso'].dt.days\n"
          ]
        }
      ]
    },
    {
      "cell_type": "code",
      "source": [
        "# Cria coluna dia da semana a partir da coluna data de disparo\n",
        "base['dia_semana'] = base['datadisparo'].dt.day_name()"
      ],
      "metadata": {
        "colab": {
          "base_uri": "https://localhost:8080/"
        },
        "id": "ESJ3oiuKTlB5",
        "outputId": "711198b2-8155-4811-a596-e2d36cfa952f"
      },
      "execution_count": 17,
      "outputs": [
        {
          "output_type": "stream",
          "name": "stderr",
          "text": [
            "<ipython-input-17-82a0442e4dab>:2: SettingWithCopyWarning: \n",
            "A value is trying to be set on a copy of a slice from a DataFrame.\n",
            "Try using .loc[row_indexer,col_indexer] = value instead\n",
            "\n",
            "See the caveats in the documentation: https://pandas.pydata.org/pandas-docs/stable/user_guide/indexing.html#returning-a-view-versus-a-copy\n",
            "  base['dia_semana'] = base['datadisparo'].dt.day_name()\n"
          ]
        }
      ]
    },
    {
      "cell_type": "code",
      "source": [
        "# Cria colunas dummy a partir da variável categórica dia_semana\n",
        "base = pd.get_dummies(base, columns=[\"dia_semana\"], prefix=\"\")"
      ],
      "metadata": {
        "id": "oM-ouXtmR7hE"
      },
      "execution_count": 18,
      "outputs": []
    },
    {
      "cell_type": "code",
      "source": [
        "# Cria colunas dummy a partir da variável categórica genero\n",
        "base = pd.get_dummies(base, columns=[\"genero\"], prefix=\"\")"
      ],
      "metadata": {
        "id": "FuBbfPOtR7cK"
      },
      "execution_count": 19,
      "outputs": []
    },
    {
      "cell_type": "code",
      "source": [
        "# Cria colunas dummy a partir da variável categórica operadora\n",
        "base = pd.get_dummies(base, columns=[\"operadora\"], prefix=\"\")"
      ],
      "metadata": {
        "id": "p8VVf1dVVoBb"
      },
      "execution_count": 20,
      "outputs": []
    },
    {
      "cell_type": "code",
      "source": [
        "# Cria colunas dummy a partir da variável categórica utilizacaoweb\n",
        "base = pd.get_dummies(base, columns=[\"utilizacaoweb\"], prefix=\"\")"
      ],
      "metadata": {
        "id": "1wV2I1AwbX5a"
      },
      "execution_count": 21,
      "outputs": []
    },
    {
      "cell_type": "code",
      "source": [
        "# Cria colunas dummy a partir da variável categórica rendaestimada\n",
        "base = pd.get_dummies(base, columns=[\"rendaestimada\"], prefix=\"\")"
      ],
      "metadata": {
        "id": "9GULDRWSbXzY"
      },
      "execution_count": 22,
      "outputs": []
    },
    {
      "cell_type": "code",
      "source": [
        "base.info()"
      ],
      "metadata": {
        "colab": {
          "base_uri": "https://localhost:8080/"
        },
        "id": "UDDvv7mEcmUI",
        "outputId": "b1185690-f863-4a3f-bce7-a41d3171d09c"
      },
      "execution_count": 23,
      "outputs": [
        {
          "output_type": "stream",
          "name": "stdout",
          "text": [
            "<class 'pandas.core.frame.DataFrame'>\n",
            "Int64Index: 520483 entries, 1 to 686382\n",
            "Data columns (total 46 columns):\n",
            " #   Column            Non-Null Count   Dtype         \n",
            "---  ------            --------------   -----         \n",
            " 0   acesso            520483 non-null  int64         \n",
            " 1   acordo            520483 non-null  int64         \n",
            " 2   datadisparo       520483 non-null  datetime64[ns]\n",
            " 3   sms_entregue      520483 non-null  int64         \n",
            " 4   sms_enviado       520483 non-null  int64         \n",
            " 5   sms_naoentregue   520483 non-null  int64         \n",
            " 6   sms_rejeitado     520483 non-null  int64         \n",
            " 7   sms_invalido      520483 non-null  int64         \n",
            " 8   data_atraso       520483 non-null  datetime64[ns]\n",
            " 9   valor             520483 non-null  float64       \n",
            " 10  qtd_hist_acessos  520483 non-null  int64         \n",
            " 11  sms_total_tent    520483 non-null  int64         \n",
            " 12  idade             520483 non-null  float64       \n",
            " 13  dias_atraso       520483 non-null  int64         \n",
            " 14  _Friday           520483 non-null  uint8         \n",
            " 15  _Monday           520483 non-null  uint8         \n",
            " 16  _Saturday         520483 non-null  uint8         \n",
            " 17  _Sunday           520483 non-null  uint8         \n",
            " 18  _Thursday         520483 non-null  uint8         \n",
            " 19  _Tuesday          520483 non-null  uint8         \n",
            " 20  _Wednesday        520483 non-null  uint8         \n",
            " 21  _F                520483 non-null  uint8         \n",
            " 22  _M                520483 non-null  uint8         \n",
            " 23  _U                520483 non-null  uint8         \n",
            " 24  _Claro            520483 non-null  uint8         \n",
            " 25  _Nextel           520483 non-null  uint8         \n",
            " 26  _Oi               520483 non-null  uint8         \n",
            " 27  _Outros           520483 non-null  uint8         \n",
            " 28  _Tim              520483 non-null  uint8         \n",
            " 29  _Vivo             520483 non-null  uint8         \n",
            " 30  _A                520483 non-null  uint8         \n",
            " 31  _B                520483 non-null  uint8         \n",
            " 32  _C                520483 non-null  uint8         \n",
            " 33  _D                520483 non-null  uint8         \n",
            " 34  _E                520483 non-null  uint8         \n",
            " 35  _F                520483 non-null  uint8         \n",
            " 36  _G                520483 non-null  uint8         \n",
            " 37  _H                520483 non-null  uint8         \n",
            " 38  _1/2 A 1 SM       520483 non-null  uint8         \n",
            " 39  _10 A 20 SM       520483 non-null  uint8         \n",
            " 40  _2 A 4 SM         520483 non-null  uint8         \n",
            " 41  _4 A 10 SM        520483 non-null  uint8         \n",
            " 42  _ACIMA DE 20 SM   520483 non-null  uint8         \n",
            " 43  _ATE 2 SM         520483 non-null  uint8         \n",
            " 44  _DE 1 A 1-5 SM    520483 non-null  uint8         \n",
            " 45  _SEM INFORMACAO   520483 non-null  uint8         \n",
            "dtypes: datetime64[ns](2), float64(2), int64(10), uint8(32)\n",
            "memory usage: 75.4 MB\n"
          ]
        }
      ]
    },
    {
      "cell_type": "code",
      "source": [
        "base.head()"
      ],
      "metadata": {
        "colab": {
          "base_uri": "https://localhost:8080/",
          "height": 288
        },
        "id": "UlSniF32UF3r",
        "outputId": "cb0d3dd0-cb85-43e7-f769-532e12c109c6"
      },
      "execution_count": 24,
      "outputs": [
        {
          "output_type": "execute_result",
          "data": {
            "text/plain": [
              "   acesso  acordo datadisparo  sms_entregue  sms_enviado  sms_naoentregue  \\\n",
              "1       0       0  2020-04-27             3            0                0   \n",
              "2       0       0  2020-05-14             1            0                0   \n",
              "3       0       0  2020-05-13             0            0                0   \n",
              "5       0       0  2020-05-19             0            0                1   \n",
              "6       0       0  2020-05-13             0            0                0   \n",
              "\n",
              "   sms_rejeitado  sms_invalido data_atraso   valor  ...  _G  _H  _1/2 A 1 SM  \\\n",
              "1              0             0  2017-04-14  244.29  ...   0   0            0   \n",
              "2              0             0  2019-04-09   51.00  ...   0   0            0   \n",
              "3              0             0  2019-11-14  307.91  ...   0   0            0   \n",
              "5              0             0  2019-07-27   98.24  ...   0   0            0   \n",
              "6              0             0  2019-10-15   71.16  ...   1   0            0   \n",
              "\n",
              "   _10 A 20 SM  _2 A 4 SM  _4 A 10 SM  _ACIMA DE 20 SM  _ATE 2 SM  \\\n",
              "1            0          0           0                0          1   \n",
              "2            0          0           0                0          1   \n",
              "3            0          0           1                0          0   \n",
              "5            0          1           0                0          0   \n",
              "6            0          0           0                0          1   \n",
              "\n",
              "   _DE 1 A 1-5 SM  _SEM INFORMACAO  \n",
              "1               0                0  \n",
              "2               0                0  \n",
              "3               0                0  \n",
              "5               0                0  \n",
              "6               0                0  \n",
              "\n",
              "[5 rows x 46 columns]"
            ],
            "text/html": [
              "\n",
              "  <div id=\"df-dec85c07-4b01-4ed2-81e8-6187a4329759\" class=\"colab-df-container\">\n",
              "    <div>\n",
              "<style scoped>\n",
              "    .dataframe tbody tr th:only-of-type {\n",
              "        vertical-align: middle;\n",
              "    }\n",
              "\n",
              "    .dataframe tbody tr th {\n",
              "        vertical-align: top;\n",
              "    }\n",
              "\n",
              "    .dataframe thead th {\n",
              "        text-align: right;\n",
              "    }\n",
              "</style>\n",
              "<table border=\"1\" class=\"dataframe\">\n",
              "  <thead>\n",
              "    <tr style=\"text-align: right;\">\n",
              "      <th></th>\n",
              "      <th>acesso</th>\n",
              "      <th>acordo</th>\n",
              "      <th>datadisparo</th>\n",
              "      <th>sms_entregue</th>\n",
              "      <th>sms_enviado</th>\n",
              "      <th>sms_naoentregue</th>\n",
              "      <th>sms_rejeitado</th>\n",
              "      <th>sms_invalido</th>\n",
              "      <th>data_atraso</th>\n",
              "      <th>valor</th>\n",
              "      <th>...</th>\n",
              "      <th>_G</th>\n",
              "      <th>_H</th>\n",
              "      <th>_1/2 A 1 SM</th>\n",
              "      <th>_10 A 20 SM</th>\n",
              "      <th>_2 A 4 SM</th>\n",
              "      <th>_4 A 10 SM</th>\n",
              "      <th>_ACIMA DE 20 SM</th>\n",
              "      <th>_ATE 2 SM</th>\n",
              "      <th>_DE 1 A 1-5 SM</th>\n",
              "      <th>_SEM INFORMACAO</th>\n",
              "    </tr>\n",
              "  </thead>\n",
              "  <tbody>\n",
              "    <tr>\n",
              "      <th>1</th>\n",
              "      <td>0</td>\n",
              "      <td>0</td>\n",
              "      <td>2020-04-27</td>\n",
              "      <td>3</td>\n",
              "      <td>0</td>\n",
              "      <td>0</td>\n",
              "      <td>0</td>\n",
              "      <td>0</td>\n",
              "      <td>2017-04-14</td>\n",
              "      <td>244.29</td>\n",
              "      <td>...</td>\n",
              "      <td>0</td>\n",
              "      <td>0</td>\n",
              "      <td>0</td>\n",
              "      <td>0</td>\n",
              "      <td>0</td>\n",
              "      <td>0</td>\n",
              "      <td>0</td>\n",
              "      <td>1</td>\n",
              "      <td>0</td>\n",
              "      <td>0</td>\n",
              "    </tr>\n",
              "    <tr>\n",
              "      <th>2</th>\n",
              "      <td>0</td>\n",
              "      <td>0</td>\n",
              "      <td>2020-05-14</td>\n",
              "      <td>1</td>\n",
              "      <td>0</td>\n",
              "      <td>0</td>\n",
              "      <td>0</td>\n",
              "      <td>0</td>\n",
              "      <td>2019-04-09</td>\n",
              "      <td>51.00</td>\n",
              "      <td>...</td>\n",
              "      <td>0</td>\n",
              "      <td>0</td>\n",
              "      <td>0</td>\n",
              "      <td>0</td>\n",
              "      <td>0</td>\n",
              "      <td>0</td>\n",
              "      <td>0</td>\n",
              "      <td>1</td>\n",
              "      <td>0</td>\n",
              "      <td>0</td>\n",
              "    </tr>\n",
              "    <tr>\n",
              "      <th>3</th>\n",
              "      <td>0</td>\n",
              "      <td>0</td>\n",
              "      <td>2020-05-13</td>\n",
              "      <td>0</td>\n",
              "      <td>0</td>\n",
              "      <td>0</td>\n",
              "      <td>0</td>\n",
              "      <td>0</td>\n",
              "      <td>2019-11-14</td>\n",
              "      <td>307.91</td>\n",
              "      <td>...</td>\n",
              "      <td>0</td>\n",
              "      <td>0</td>\n",
              "      <td>0</td>\n",
              "      <td>0</td>\n",
              "      <td>0</td>\n",
              "      <td>1</td>\n",
              "      <td>0</td>\n",
              "      <td>0</td>\n",
              "      <td>0</td>\n",
              "      <td>0</td>\n",
              "    </tr>\n",
              "    <tr>\n",
              "      <th>5</th>\n",
              "      <td>0</td>\n",
              "      <td>0</td>\n",
              "      <td>2020-05-19</td>\n",
              "      <td>0</td>\n",
              "      <td>0</td>\n",
              "      <td>1</td>\n",
              "      <td>0</td>\n",
              "      <td>0</td>\n",
              "      <td>2019-07-27</td>\n",
              "      <td>98.24</td>\n",
              "      <td>...</td>\n",
              "      <td>0</td>\n",
              "      <td>0</td>\n",
              "      <td>0</td>\n",
              "      <td>0</td>\n",
              "      <td>1</td>\n",
              "      <td>0</td>\n",
              "      <td>0</td>\n",
              "      <td>0</td>\n",
              "      <td>0</td>\n",
              "      <td>0</td>\n",
              "    </tr>\n",
              "    <tr>\n",
              "      <th>6</th>\n",
              "      <td>0</td>\n",
              "      <td>0</td>\n",
              "      <td>2020-05-13</td>\n",
              "      <td>0</td>\n",
              "      <td>0</td>\n",
              "      <td>0</td>\n",
              "      <td>0</td>\n",
              "      <td>0</td>\n",
              "      <td>2019-10-15</td>\n",
              "      <td>71.16</td>\n",
              "      <td>...</td>\n",
              "      <td>1</td>\n",
              "      <td>0</td>\n",
              "      <td>0</td>\n",
              "      <td>0</td>\n",
              "      <td>0</td>\n",
              "      <td>0</td>\n",
              "      <td>0</td>\n",
              "      <td>1</td>\n",
              "      <td>0</td>\n",
              "      <td>0</td>\n",
              "    </tr>\n",
              "  </tbody>\n",
              "</table>\n",
              "<p>5 rows × 46 columns</p>\n",
              "</div>\n",
              "    <div class=\"colab-df-buttons\">\n",
              "\n",
              "  <div class=\"colab-df-container\">\n",
              "    <button class=\"colab-df-convert\" onclick=\"convertToInteractive('df-dec85c07-4b01-4ed2-81e8-6187a4329759')\"\n",
              "            title=\"Convert this dataframe to an interactive table.\"\n",
              "            style=\"display:none;\">\n",
              "\n",
              "  <svg xmlns=\"http://www.w3.org/2000/svg\" height=\"24px\" viewBox=\"0 -960 960 960\">\n",
              "    <path d=\"M120-120v-720h720v720H120Zm60-500h600v-160H180v160Zm220 220h160v-160H400v160Zm0 220h160v-160H400v160ZM180-400h160v-160H180v160Zm440 0h160v-160H620v160ZM180-180h160v-160H180v160Zm440 0h160v-160H620v160Z\"/>\n",
              "  </svg>\n",
              "    </button>\n",
              "\n",
              "  <style>\n",
              "    .colab-df-container {\n",
              "      display:flex;\n",
              "      gap: 12px;\n",
              "    }\n",
              "\n",
              "    .colab-df-convert {\n",
              "      background-color: #E8F0FE;\n",
              "      border: none;\n",
              "      border-radius: 50%;\n",
              "      cursor: pointer;\n",
              "      display: none;\n",
              "      fill: #1967D2;\n",
              "      height: 32px;\n",
              "      padding: 0 0 0 0;\n",
              "      width: 32px;\n",
              "    }\n",
              "\n",
              "    .colab-df-convert:hover {\n",
              "      background-color: #E2EBFA;\n",
              "      box-shadow: 0px 1px 2px rgba(60, 64, 67, 0.3), 0px 1px 3px 1px rgba(60, 64, 67, 0.15);\n",
              "      fill: #174EA6;\n",
              "    }\n",
              "\n",
              "    .colab-df-buttons div {\n",
              "      margin-bottom: 4px;\n",
              "    }\n",
              "\n",
              "    [theme=dark] .colab-df-convert {\n",
              "      background-color: #3B4455;\n",
              "      fill: #D2E3FC;\n",
              "    }\n",
              "\n",
              "    [theme=dark] .colab-df-convert:hover {\n",
              "      background-color: #434B5C;\n",
              "      box-shadow: 0px 1px 3px 1px rgba(0, 0, 0, 0.15);\n",
              "      filter: drop-shadow(0px 1px 2px rgba(0, 0, 0, 0.3));\n",
              "      fill: #FFFFFF;\n",
              "    }\n",
              "  </style>\n",
              "\n",
              "    <script>\n",
              "      const buttonEl =\n",
              "        document.querySelector('#df-dec85c07-4b01-4ed2-81e8-6187a4329759 button.colab-df-convert');\n",
              "      buttonEl.style.display =\n",
              "        google.colab.kernel.accessAllowed ? 'block' : 'none';\n",
              "\n",
              "      async function convertToInteractive(key) {\n",
              "        const element = document.querySelector('#df-dec85c07-4b01-4ed2-81e8-6187a4329759');\n",
              "        const dataTable =\n",
              "          await google.colab.kernel.invokeFunction('convertToInteractive',\n",
              "                                                    [key], {});\n",
              "        if (!dataTable) return;\n",
              "\n",
              "        const docLinkHtml = 'Like what you see? Visit the ' +\n",
              "          '<a target=\"_blank\" href=https://colab.research.google.com/notebooks/data_table.ipynb>data table notebook</a>'\n",
              "          + ' to learn more about interactive tables.';\n",
              "        element.innerHTML = '';\n",
              "        dataTable['output_type'] = 'display_data';\n",
              "        await google.colab.output.renderOutput(dataTable, element);\n",
              "        const docLink = document.createElement('div');\n",
              "        docLink.innerHTML = docLinkHtml;\n",
              "        element.appendChild(docLink);\n",
              "      }\n",
              "    </script>\n",
              "  </div>\n",
              "\n",
              "\n",
              "<div id=\"df-134bb0e4-0439-47df-9861-2518de1024a6\">\n",
              "  <button class=\"colab-df-quickchart\" onclick=\"quickchart('df-134bb0e4-0439-47df-9861-2518de1024a6')\"\n",
              "            title=\"Suggest charts\"\n",
              "            style=\"display:none;\">\n",
              "\n",
              "<svg xmlns=\"http://www.w3.org/2000/svg\" height=\"24px\"viewBox=\"0 0 24 24\"\n",
              "     width=\"24px\">\n",
              "    <g>\n",
              "        <path d=\"M19 3H5c-1.1 0-2 .9-2 2v14c0 1.1.9 2 2 2h14c1.1 0 2-.9 2-2V5c0-1.1-.9-2-2-2zM9 17H7v-7h2v7zm4 0h-2V7h2v10zm4 0h-2v-4h2v4z\"/>\n",
              "    </g>\n",
              "</svg>\n",
              "  </button>\n",
              "\n",
              "<style>\n",
              "  .colab-df-quickchart {\n",
              "      --bg-color: #E8F0FE;\n",
              "      --fill-color: #1967D2;\n",
              "      --hover-bg-color: #E2EBFA;\n",
              "      --hover-fill-color: #174EA6;\n",
              "      --disabled-fill-color: #AAA;\n",
              "      --disabled-bg-color: #DDD;\n",
              "  }\n",
              "\n",
              "  [theme=dark] .colab-df-quickchart {\n",
              "      --bg-color: #3B4455;\n",
              "      --fill-color: #D2E3FC;\n",
              "      --hover-bg-color: #434B5C;\n",
              "      --hover-fill-color: #FFFFFF;\n",
              "      --disabled-bg-color: #3B4455;\n",
              "      --disabled-fill-color: #666;\n",
              "  }\n",
              "\n",
              "  .colab-df-quickchart {\n",
              "    background-color: var(--bg-color);\n",
              "    border: none;\n",
              "    border-radius: 50%;\n",
              "    cursor: pointer;\n",
              "    display: none;\n",
              "    fill: var(--fill-color);\n",
              "    height: 32px;\n",
              "    padding: 0;\n",
              "    width: 32px;\n",
              "  }\n",
              "\n",
              "  .colab-df-quickchart:hover {\n",
              "    background-color: var(--hover-bg-color);\n",
              "    box-shadow: 0 1px 2px rgba(60, 64, 67, 0.3), 0 1px 3px 1px rgba(60, 64, 67, 0.15);\n",
              "    fill: var(--button-hover-fill-color);\n",
              "  }\n",
              "\n",
              "  .colab-df-quickchart-complete:disabled,\n",
              "  .colab-df-quickchart-complete:disabled:hover {\n",
              "    background-color: var(--disabled-bg-color);\n",
              "    fill: var(--disabled-fill-color);\n",
              "    box-shadow: none;\n",
              "  }\n",
              "\n",
              "  .colab-df-spinner {\n",
              "    border: 2px solid var(--fill-color);\n",
              "    border-color: transparent;\n",
              "    border-bottom-color: var(--fill-color);\n",
              "    animation:\n",
              "      spin 1s steps(1) infinite;\n",
              "  }\n",
              "\n",
              "  @keyframes spin {\n",
              "    0% {\n",
              "      border-color: transparent;\n",
              "      border-bottom-color: var(--fill-color);\n",
              "      border-left-color: var(--fill-color);\n",
              "    }\n",
              "    20% {\n",
              "      border-color: transparent;\n",
              "      border-left-color: var(--fill-color);\n",
              "      border-top-color: var(--fill-color);\n",
              "    }\n",
              "    30% {\n",
              "      border-color: transparent;\n",
              "      border-left-color: var(--fill-color);\n",
              "      border-top-color: var(--fill-color);\n",
              "      border-right-color: var(--fill-color);\n",
              "    }\n",
              "    40% {\n",
              "      border-color: transparent;\n",
              "      border-right-color: var(--fill-color);\n",
              "      border-top-color: var(--fill-color);\n",
              "    }\n",
              "    60% {\n",
              "      border-color: transparent;\n",
              "      border-right-color: var(--fill-color);\n",
              "    }\n",
              "    80% {\n",
              "      border-color: transparent;\n",
              "      border-right-color: var(--fill-color);\n",
              "      border-bottom-color: var(--fill-color);\n",
              "    }\n",
              "    90% {\n",
              "      border-color: transparent;\n",
              "      border-bottom-color: var(--fill-color);\n",
              "    }\n",
              "  }\n",
              "</style>\n",
              "\n",
              "  <script>\n",
              "    async function quickchart(key) {\n",
              "      const quickchartButtonEl =\n",
              "        document.querySelector('#' + key + ' button');\n",
              "      quickchartButtonEl.disabled = true;  // To prevent multiple clicks.\n",
              "      quickchartButtonEl.classList.add('colab-df-spinner');\n",
              "      try {\n",
              "        const charts = await google.colab.kernel.invokeFunction(\n",
              "            'suggestCharts', [key], {});\n",
              "      } catch (error) {\n",
              "        console.error('Error during call to suggestCharts:', error);\n",
              "      }\n",
              "      quickchartButtonEl.classList.remove('colab-df-spinner');\n",
              "      quickchartButtonEl.classList.add('colab-df-quickchart-complete');\n",
              "    }\n",
              "    (() => {\n",
              "      let quickchartButtonEl =\n",
              "        document.querySelector('#df-134bb0e4-0439-47df-9861-2518de1024a6 button');\n",
              "      quickchartButtonEl.style.display =\n",
              "        google.colab.kernel.accessAllowed ? 'block' : 'none';\n",
              "    })();\n",
              "  </script>\n",
              "</div>\n",
              "\n",
              "    </div>\n",
              "  </div>\n"
            ]
          },
          "metadata": {},
          "execution_count": 24
        }
      ]
    },
    {
      "cell_type": "code",
      "source": [],
      "metadata": {
        "id": "eVkhMwniA_6z"
      },
      "execution_count": 24,
      "outputs": []
    },
    {
      "cell_type": "markdown",
      "source": [
        "# Modelos de Regressão Linear"
      ],
      "metadata": {
        "id": "m9nRLQT1IyL_"
      }
    },
    {
      "cell_type": "code",
      "source": [
        "base.columns"
      ],
      "metadata": {
        "colab": {
          "base_uri": "https://localhost:8080/"
        },
        "id": "gcSYtmoUdIaO",
        "outputId": "611bbfa2-8d3c-4e28-d741-e89109041c4b"
      },
      "execution_count": 25,
      "outputs": [
        {
          "output_type": "execute_result",
          "data": {
            "text/plain": [
              "Index(['acesso', 'acordo', 'datadisparo', 'sms_entregue', 'sms_enviado',\n",
              "       'sms_naoentregue', 'sms_rejeitado', 'sms_invalido', 'data_atraso',\n",
              "       'valor', 'qtd_hist_acessos', 'sms_total_tent', 'idade', 'dias_atraso',\n",
              "       '_Friday', '_Monday', '_Saturday', '_Sunday', '_Thursday', '_Tuesday',\n",
              "       '_Wednesday', '_F', '_M', '_U', '_Claro', '_Nextel', '_Oi', '_Outros',\n",
              "       '_Tim', '_Vivo', '_A', '_B', '_C', '_D', '_E', '_F', '_G', '_H',\n",
              "       '_1/2 A 1 SM', '_10 A 20 SM', '_2 A 4 SM', '_4 A 10 SM',\n",
              "       '_ACIMA DE 20 SM', '_ATE 2 SM', '_DE 1 A 1-5 SM', '_SEM INFORMACAO'],\n",
              "      dtype='object')"
            ]
          },
          "metadata": {},
          "execution_count": 25
        }
      ]
    },
    {
      "cell_type": "markdown",
      "source": [
        "## Modelo de regressão para variável alvo: \"acesso\""
      ],
      "metadata": {
        "id": "F5QDCBZPdPnp"
      }
    },
    {
      "cell_type": "code",
      "source": [
        "# Caso base dia_semana: '_Saturday'\n",
        "# Caso base genero: '_U'\n",
        "# Caso base operadora: '_Outros'\n",
        "# Caso base utilizacaoweb: '_A'\n",
        "# Caso base rendaestimada: '_SEM INFORMACAO'\n",
        "# definição de variáveis\n",
        "Y = base['acesso']\n",
        "X = base[['sms_entregue','sms_enviado','sms_naoentregue','sms_rejeitado','sms_invalido','valor',\n",
        "        'qtd_hist_acessos','sms_total_tent','idade','dias_atraso','_Friday', '_Monday','_Thursday', '_Tuesday','_Wednesday',\n",
        "        '_F','_M','_Claro','_Nextel','_Oi','_Tim','_Vivo','_B','_C','_D','_E','_F','_G','_H',\n",
        "        '_1/2 A 1 SM','_10 A 20 SM','_2 A 4 SM','_4 A 10 SM','_ACIMA DE 20 SM','_ATE 2 SM','_DE 1 A 1-5 SM']]"
      ],
      "metadata": {
        "id": "lnTOmZhzkJSy"
      },
      "execution_count": 26,
      "outputs": []
    },
    {
      "cell_type": "code",
      "source": [
        "# vamos deixar o sklearn separar as variáveis em dois grupos treino e teste\n",
        "X_train, X_test, y_train, y_test = train_test_split(X, Y, test_size=0.2, random_state=42)"
      ],
      "metadata": {
        "id": "bpXc5N2mJS3I"
      },
      "execution_count": 27,
      "outputs": []
    },
    {
      "cell_type": "code",
      "source": [
        "# cria o modelo e o treina com as variáveis separadas para treino\n",
        "modelo1 = linear_model.LinearRegression()\n",
        "modelo1.fit(X_train, y_train)"
      ],
      "metadata": {
        "colab": {
          "base_uri": "https://localhost:8080/",
          "height": 75
        },
        "id": "9PRVTqa_JSyM",
        "outputId": "eded7956-be5a-4f80-fee2-4b3f9a97db6e"
      },
      "execution_count": 28,
      "outputs": [
        {
          "output_type": "execute_result",
          "data": {
            "text/plain": [
              "LinearRegression()"
            ],
            "text/html": [
              "<style>#sk-container-id-1 {color: black;background-color: white;}#sk-container-id-1 pre{padding: 0;}#sk-container-id-1 div.sk-toggleable {background-color: white;}#sk-container-id-1 label.sk-toggleable__label {cursor: pointer;display: block;width: 100%;margin-bottom: 0;padding: 0.3em;box-sizing: border-box;text-align: center;}#sk-container-id-1 label.sk-toggleable__label-arrow:before {content: \"▸\";float: left;margin-right: 0.25em;color: #696969;}#sk-container-id-1 label.sk-toggleable__label-arrow:hover:before {color: black;}#sk-container-id-1 div.sk-estimator:hover label.sk-toggleable__label-arrow:before {color: black;}#sk-container-id-1 div.sk-toggleable__content {max-height: 0;max-width: 0;overflow: hidden;text-align: left;background-color: #f0f8ff;}#sk-container-id-1 div.sk-toggleable__content pre {margin: 0.2em;color: black;border-radius: 0.25em;background-color: #f0f8ff;}#sk-container-id-1 input.sk-toggleable__control:checked~div.sk-toggleable__content {max-height: 200px;max-width: 100%;overflow: auto;}#sk-container-id-1 input.sk-toggleable__control:checked~label.sk-toggleable__label-arrow:before {content: \"▾\";}#sk-container-id-1 div.sk-estimator input.sk-toggleable__control:checked~label.sk-toggleable__label {background-color: #d4ebff;}#sk-container-id-1 div.sk-label input.sk-toggleable__control:checked~label.sk-toggleable__label {background-color: #d4ebff;}#sk-container-id-1 input.sk-hidden--visually {border: 0;clip: rect(1px 1px 1px 1px);clip: rect(1px, 1px, 1px, 1px);height: 1px;margin: -1px;overflow: hidden;padding: 0;position: absolute;width: 1px;}#sk-container-id-1 div.sk-estimator {font-family: monospace;background-color: #f0f8ff;border: 1px dotted black;border-radius: 0.25em;box-sizing: border-box;margin-bottom: 0.5em;}#sk-container-id-1 div.sk-estimator:hover {background-color: #d4ebff;}#sk-container-id-1 div.sk-parallel-item::after {content: \"\";width: 100%;border-bottom: 1px solid gray;flex-grow: 1;}#sk-container-id-1 div.sk-label:hover label.sk-toggleable__label {background-color: #d4ebff;}#sk-container-id-1 div.sk-serial::before {content: \"\";position: absolute;border-left: 1px solid gray;box-sizing: border-box;top: 0;bottom: 0;left: 50%;z-index: 0;}#sk-container-id-1 div.sk-serial {display: flex;flex-direction: column;align-items: center;background-color: white;padding-right: 0.2em;padding-left: 0.2em;position: relative;}#sk-container-id-1 div.sk-item {position: relative;z-index: 1;}#sk-container-id-1 div.sk-parallel {display: flex;align-items: stretch;justify-content: center;background-color: white;position: relative;}#sk-container-id-1 div.sk-item::before, #sk-container-id-1 div.sk-parallel-item::before {content: \"\";position: absolute;border-left: 1px solid gray;box-sizing: border-box;top: 0;bottom: 0;left: 50%;z-index: -1;}#sk-container-id-1 div.sk-parallel-item {display: flex;flex-direction: column;z-index: 1;position: relative;background-color: white;}#sk-container-id-1 div.sk-parallel-item:first-child::after {align-self: flex-end;width: 50%;}#sk-container-id-1 div.sk-parallel-item:last-child::after {align-self: flex-start;width: 50%;}#sk-container-id-1 div.sk-parallel-item:only-child::after {width: 0;}#sk-container-id-1 div.sk-dashed-wrapped {border: 1px dashed gray;margin: 0 0.4em 0.5em 0.4em;box-sizing: border-box;padding-bottom: 0.4em;background-color: white;}#sk-container-id-1 div.sk-label label {font-family: monospace;font-weight: bold;display: inline-block;line-height: 1.2em;}#sk-container-id-1 div.sk-label-container {text-align: center;}#sk-container-id-1 div.sk-container {/* jupyter's `normalize.less` sets `[hidden] { display: none; }` but bootstrap.min.css set `[hidden] { display: none !important; }` so we also need the `!important` here to be able to override the default hidden behavior on the sphinx rendered scikit-learn.org. See: https://github.com/scikit-learn/scikit-learn/issues/21755 */display: inline-block !important;position: relative;}#sk-container-id-1 div.sk-text-repr-fallback {display: none;}</style><div id=\"sk-container-id-1\" class=\"sk-top-container\"><div class=\"sk-text-repr-fallback\"><pre>LinearRegression()</pre><b>In a Jupyter environment, please rerun this cell to show the HTML representation or trust the notebook. <br />On GitHub, the HTML representation is unable to render, please try loading this page with nbviewer.org.</b></div><div class=\"sk-container\" hidden><div class=\"sk-item\"><div class=\"sk-estimator sk-toggleable\"><input class=\"sk-toggleable__control sk-hidden--visually\" id=\"sk-estimator-id-1\" type=\"checkbox\" checked><label for=\"sk-estimator-id-1\" class=\"sk-toggleable__label sk-toggleable__label-arrow\">LinearRegression</label><div class=\"sk-toggleable__content\"><pre>LinearRegression()</pre></div></div></div></div></div>"
            ]
          },
          "metadata": {},
          "execution_count": 28
        }
      ]
    },
    {
      "cell_type": "code",
      "source": [
        "# Exibe os coeficientes do modelo na tela\n",
        "a = modelo1.intercept_\n",
        "b = modelo1.coef_\n",
        "print(f\"O intercepto é: {a:.4f}\")\n",
        "print(f\"Os coeficientes angulares do modelo são: {b}\")"
      ],
      "metadata": {
        "colab": {
          "base_uri": "https://localhost:8080/"
        },
        "id": "c1myecI9JSqW",
        "outputId": "d0ab74d6-4589-4837-8753-659914bc9ebc"
      },
      "execution_count": 29,
      "outputs": [
        {
          "output_type": "stream",
          "name": "stdout",
          "text": [
            "O intercepto é: 0.0778\n",
            "Os coeficientes angulares do modelo são: [-5.85787091e-04 -1.52792623e-03 -1.93226943e-03  1.18825405e-03\n",
            " -2.78835115e-15  2.79179140e-06  6.23263913e-02 -2.31235714e-03\n",
            " -2.36472961e-04  2.22108255e-07 -3.05752796e-03 -5.89163387e-03\n",
            "  4.81331465e-04 -1.25502392e-02 -1.04468915e-03  6.26335998e-04\n",
            " -3.74678395e-03 -2.05358010e-03 -9.05121439e-03 -1.57280135e-02\n",
            " -1.05286351e-02 -1.01217092e-02 -1.02601236e-02 -2.44530664e-03\n",
            " -4.30655682e-03 -6.07065428e-03 -6.63915964e-03  6.26335998e-04\n",
            " -3.74678395e-03 -7.79480645e-03 -1.00544440e-02 -4.80672978e-02\n",
            " -2.52502916e-02 -2.53389919e-02 -2.72325997e-02 -2.67061892e-02\n",
            " -2.55649602e-02 -7.27496712e-02]\n"
          ]
        }
      ]
    },
    {
      "cell_type": "code",
      "source": [
        "# Para avaliar a qualidade do modelo usamos a biblioteca metrics do sklearn\n",
        "# Valores preditos pelo modelo\n",
        "yhat = modelo1.predict(X_test)"
      ],
      "metadata": {
        "id": "aFjzNOgF_MhP"
      },
      "execution_count": 30,
      "outputs": []
    },
    {
      "cell_type": "code",
      "source": [
        "# Coeficiente de determinação do modelo\n",
        "# varia de 0 a 1 e indica o poder de explicação do modelo\n",
        "r_sq = metrics.r2_score(y_test,yhat)\n",
        "print(f\"Coeficiente de determinação r2 = {r_sq:.4f}\")"
      ],
      "metadata": {
        "colab": {
          "base_uri": "https://localhost:8080/"
        },
        "id": "Csc0EBFH_Mew",
        "outputId": "9b35842f-6154-43b5-fae1-bdbea3eb903b"
      },
      "execution_count": 31,
      "outputs": [
        {
          "output_type": "stream",
          "name": "stdout",
          "text": [
            "Coeficiente de determinação r2 = 0.0616\n"
          ]
        }
      ]
    },
    {
      "cell_type": "code",
      "source": [
        "# auc (area under curve) é uma métrica que indica quão bom o modelo é para classificar verdadeiros positivos (tpr) sobre falsos positivos (fpr).\n",
        "# O valor de auc deve estar acima de 0.5 (modelo \"bobo\", sem qualquer poder preditivo). E vai até 1.0 (modelo perfeito).\n",
        "fpr, tpr, thresholds = metrics.roc_curve(y_test, yhat)\n",
        "auc = metrics.auc(fpr,tpr)\n",
        "print(auc)"
      ],
      "metadata": {
        "id": "cn33fTLVDRd1",
        "colab": {
          "base_uri": "https://localhost:8080/"
        },
        "outputId": "b501d42b-57b2-4e6b-ab7b-43bc7c612664"
      },
      "execution_count": 32,
      "outputs": [
        {
          "output_type": "stream",
          "name": "stdout",
          "text": [
            "0.7693007539138526\n"
          ]
        }
      ]
    },
    {
      "cell_type": "code",
      "source": [
        "# Gráfico da curva ROC\n",
        "plt.figure(figsize=(5,5), dpi=150)\n",
        "plt.plot(fpr, tpr, ls='-', label='LinReg (auc = %0.3f)' % auc)\n",
        "plt.plot([0,1],[0,1], ls='--')\n",
        "plt.xlabel('Taxa de Falso Positivo (fpr)')\n",
        "plt.ylabel('Taxa de Verdadeiro Positivo (tpr)')\n",
        "plt.title('Curva ROC - Modelo de Reg. Linear para Acesso')\n",
        "plt.legend()\n",
        "plt.show()"
      ],
      "metadata": {
        "colab": {
          "base_uri": "https://localhost:8080/",
          "height": 718
        },
        "id": "Wd-WbJD4RhHX",
        "outputId": "dd2f0e41-4f2a-40c6-f241-280a56ad2644"
      },
      "execution_count": 33,
      "outputs": [
        {
          "output_type": "display_data",
          "data": {
            "text/plain": [
              "<Figure size 750x750 with 1 Axes>"
            ],
            "image/png": "[encoded data removed]"
          },
          "metadata": {}
        }
      ]
    },
    {
      "cell_type": "code",
      "source": [
        "# Encontra o limiar da probabilidade de corte que maximiza a auc (lift)\n",
        "max_lift = np.argmax(tpr - fpr)\n",
        "optimal_threshold = thresholds[max_lift]\n",
        "yhat_binary = (yhat > optimal_threshold).astype(int)\n",
        "print(f\"Threshold ótimo: {optimal_threshold:.5f}\")"
      ],
      "metadata": {
        "colab": {
          "base_uri": "https://localhost:8080/"
        },
        "id": "YiaDNXjNQlo9",
        "outputId": "ea2bc827-6fbb-42bf-fa2d-0dc682e45e4e"
      },
      "execution_count": 34,
      "outputs": [
        {
          "output_type": "stream",
          "name": "stdout",
          "text": [
            "Threshold ótimo: 0.03053\n"
          ]
        }
      ]
    },
    {
      "cell_type": "code",
      "source": [
        "# Acurácia (quanto o modelo acerta em relação à realidade) e Precisão (taxa de acertos de valores positivos: tp / (tp + fp))\n",
        "acur = metrics.accuracy_score(y_test, yhat_binary)\n",
        "prec = metrics.precision_score(y_test, yhat_binary)\n",
        "print(f'Acurácia do modelo = {acur:.1%}')\n",
        "print(f'Precisão do modelo = {prec:.1%}')"
      ],
      "metadata": {
        "colab": {
          "base_uri": "https://localhost:8080/"
        },
        "id": "LR7P5TufMAYp",
        "outputId": "4d1d6c02-f590-4951-c9e5-afb705759560"
      },
      "execution_count": 35,
      "outputs": [
        {
          "output_type": "stream",
          "name": "stdout",
          "text": [
            "Acurácia do modelo = 77.5%\n",
            "Precisão do modelo = 8.0%\n"
          ]
        }
      ]
    },
    {
      "cell_type": "code",
      "source": [
        "# taxa de sensibilidade\n",
        "sensibilidade = metrics.recall_score(y_test, yhat_binary)\n",
        "print(f'Sensibilidade do modelo = {sensibilidade:.1%}')"
      ],
      "metadata": {
        "id": "IHikFK0xV5xF",
        "colab": {
          "base_uri": "https://localhost:8080/"
        },
        "outputId": "bdfba51a-c5cf-4387-b909-102b2e514ed9"
      },
      "execution_count": 36,
      "outputs": [
        {
          "output_type": "stream",
          "name": "stdout",
          "text": [
            "Sensibilidade do modelo = 63.3%\n"
          ]
        }
      ]
    },
    {
      "cell_type": "code",
      "source": [
        "# taxa de especificidade\n",
        "# matriz de confusão\n",
        "conf_matrix = metrics.confusion_matrix(y_test, yhat_binary)\n",
        "\n",
        "# Calcular a especificidade\n",
        "especificidade = conf_matrix[0, 0] / (conf_matrix[0, 0] + conf_matrix[0, 1])\n",
        "print(f'Especificidade do modelo = {especificidade:.1%}')"
      ],
      "metadata": {
        "colab": {
          "base_uri": "https://localhost:8080/"
        },
        "id": "zGRihYBYm5OA",
        "outputId": "5856aa52-40b9-407f-a471-e42cf18c3a9e"
      },
      "execution_count": 37,
      "outputs": [
        {
          "output_type": "stream",
          "name": "stdout",
          "text": [
            "Especificidade do modelo = 78.0%\n"
          ]
        }
      ]
    },
    {
      "cell_type": "markdown",
      "source": [
        "## Modelo de regressão para variável alvo: \"acordo\""
      ],
      "metadata": {
        "id": "nk5J6oHRV68g"
      }
    },
    {
      "cell_type": "code",
      "source": [
        "# Vamos seguir os mesmos passos anteriores\n",
        "# primeiro separa as variáveis\n",
        "Y = base['acordo']\n",
        "X = base[['sms_entregue','sms_enviado','sms_naoentregue','sms_rejeitado','sms_invalido','valor',\n",
        "        'qtd_hist_acessos','sms_total_tent','idade','dias_atraso','_Friday', '_Monday','_Thursday', '_Tuesday','_Wednesday',\n",
        "        '_F','_M','_Claro','_Nextel','_Oi','_Tim','_Vivo','_B','_C','_D','_E','_F','_G','_H',\n",
        "        '_1/2 A 1 SM','_10 A 20 SM','_2 A 4 SM','_4 A 10 SM','_ACIMA DE 20 SM','_ATE 2 SM','_DE 1 A 1-5 SM']]"
      ],
      "metadata": {
        "id": "rr9V6xGGV5pT"
      },
      "execution_count": 38,
      "outputs": []
    },
    {
      "cell_type": "code",
      "source": [
        "# Separa as variáveis em dois grupos treino e teste\n",
        "X_train, X_test, y_train, y_test = train_test_split(X, Y, test_size=0.2, random_state=42)"
      ],
      "metadata": {
        "id": "Sbg1WXP5WTfk"
      },
      "execution_count": 39,
      "outputs": []
    },
    {
      "cell_type": "code",
      "source": [
        "# cria o modelo e o treina com as variáveis separadas para treino\n",
        "modelo2 = linear_model.LinearRegression()\n",
        "modelo2.fit(X_train, y_train)"
      ],
      "metadata": {
        "colab": {
          "base_uri": "https://localhost:8080/",
          "height": 75
        },
        "id": "xrdNUZEyWTPt",
        "outputId": "df5917ac-c394-4390-d55c-c5aa3bf45352"
      },
      "execution_count": 40,
      "outputs": [
        {
          "output_type": "execute_result",
          "data": {
            "text/plain": [
              "LinearRegression()"
            ],
            "text/html": [
              "<style>#sk-container-id-2 {color: black;background-color: white;}#sk-container-id-2 pre{padding: 0;}#sk-container-id-2 div.sk-toggleable {background-color: white;}#sk-container-id-2 label.sk-toggleable__label {cursor: pointer;display: block;width: 100%;margin-bottom: 0;padding: 0.3em;box-sizing: border-box;text-align: center;}#sk-container-id-2 label.sk-toggleable__label-arrow:before {content: \"▸\";float: left;margin-right: 0.25em;color: #696969;}#sk-container-id-2 label.sk-toggleable__label-arrow:hover:before {color: black;}#sk-container-id-2 div.sk-estimator:hover label.sk-toggleable__label-arrow:before {color: black;}#sk-container-id-2 div.sk-toggleable__content {max-height: 0;max-width: 0;overflow: hidden;text-align: left;background-color: #f0f8ff;}#sk-container-id-2 div.sk-toggleable__content pre {margin: 0.2em;color: black;border-radius: 0.25em;background-color: #f0f8ff;}#sk-container-id-2 input.sk-toggleable__control:checked~div.sk-toggleable__content {max-height: 200px;max-width: 100%;overflow: auto;}#sk-container-id-2 input.sk-toggleable__control:checked~label.sk-toggleable__label-arrow:before {content: \"▾\";}#sk-container-id-2 div.sk-estimator input.sk-toggleable__control:checked~label.sk-toggleable__label {background-color: #d4ebff;}#sk-container-id-2 div.sk-label input.sk-toggleable__control:checked~label.sk-toggleable__label {background-color: #d4ebff;}#sk-container-id-2 input.sk-hidden--visually {border: 0;clip: rect(1px 1px 1px 1px);clip: rect(1px, 1px, 1px, 1px);height: 1px;margin: -1px;overflow: hidden;padding: 0;position: absolute;width: 1px;}#sk-container-id-2 div.sk-estimator {font-family: monospace;background-color: #f0f8ff;border: 1px dotted black;border-radius: 0.25em;box-sizing: border-box;margin-bottom: 0.5em;}#sk-container-id-2 div.sk-estimator:hover {background-color: #d4ebff;}#sk-container-id-2 div.sk-parallel-item::after {content: \"\";width: 100%;border-bottom: 1px solid gray;flex-grow: 1;}#sk-container-id-2 div.sk-label:hover label.sk-toggleable__label {background-color: #d4ebff;}#sk-container-id-2 div.sk-serial::before {content: \"\";position: absolute;border-left: 1px solid gray;box-sizing: border-box;top: 0;bottom: 0;left: 50%;z-index: 0;}#sk-container-id-2 div.sk-serial {display: flex;flex-direction: column;align-items: center;background-color: white;padding-right: 0.2em;padding-left: 0.2em;position: relative;}#sk-container-id-2 div.sk-item {position: relative;z-index: 1;}#sk-container-id-2 div.sk-parallel {display: flex;align-items: stretch;justify-content: center;background-color: white;position: relative;}#sk-container-id-2 div.sk-item::before, #sk-container-id-2 div.sk-parallel-item::before {content: \"\";position: absolute;border-left: 1px solid gray;box-sizing: border-box;top: 0;bottom: 0;left: 50%;z-index: -1;}#sk-container-id-2 div.sk-parallel-item {display: flex;flex-direction: column;z-index: 1;position: relative;background-color: white;}#sk-container-id-2 div.sk-parallel-item:first-child::after {align-self: flex-end;width: 50%;}#sk-container-id-2 div.sk-parallel-item:last-child::after {align-self: flex-start;width: 50%;}#sk-container-id-2 div.sk-parallel-item:only-child::after {width: 0;}#sk-container-id-2 div.sk-dashed-wrapped {border: 1px dashed gray;margin: 0 0.4em 0.5em 0.4em;box-sizing: border-box;padding-bottom: 0.4em;background-color: white;}#sk-container-id-2 div.sk-label label {font-family: monospace;font-weight: bold;display: inline-block;line-height: 1.2em;}#sk-container-id-2 div.sk-label-container {text-align: center;}#sk-container-id-2 div.sk-container {/* jupyter's `normalize.less` sets `[hidden] { display: none; }` but bootstrap.min.css set `[hidden] { display: none !important; }` so we also need the `!important` here to be able to override the default hidden behavior on the sphinx rendered scikit-learn.org. See: https://github.com/scikit-learn/scikit-learn/issues/21755 */display: inline-block !important;position: relative;}#sk-container-id-2 div.sk-text-repr-fallback {display: none;}</style><div id=\"sk-container-id-2\" class=\"sk-top-container\"><div class=\"sk-text-repr-fallback\"><pre>LinearRegression()</pre><b>In a Jupyter environment, please rerun this cell to show the HTML representation or trust the notebook. <br />On GitHub, the HTML representation is unable to render, please try loading this page with nbviewer.org.</b></div><div class=\"sk-container\" hidden><div class=\"sk-item\"><div class=\"sk-estimator sk-toggleable\"><input class=\"sk-toggleable__control sk-hidden--visually\" id=\"sk-estimator-id-2\" type=\"checkbox\" checked><label for=\"sk-estimator-id-2\" class=\"sk-toggleable__label sk-toggleable__label-arrow\">LinearRegression</label><div class=\"sk-toggleable__content\"><pre>LinearRegression()</pre></div></div></div></div></div>"
            ]
          },
          "metadata": {},
          "execution_count": 40
        }
      ]
    },
    {
      "cell_type": "code",
      "source": [
        "# Exibe os coeficientes do modelo na tela\n",
        "a = modelo2.intercept_\n",
        "b = modelo2.coef_\n",
        "print(f\"O intercepto é: {a:.4f}\")\n",
        "print(f\"Os coeficientes angulares do modelo são: {b}\")"
      ],
      "metadata": {
        "colab": {
          "base_uri": "https://localhost:8080/"
        },
        "id": "jkPDmGuFV5hG",
        "outputId": "6bc05bbd-1d4e-481b-fad5-8df0274a626a"
      },
      "execution_count": 41,
      "outputs": [
        {
          "output_type": "stream",
          "name": "stdout",
          "text": [
            "O intercepto é: 0.0058\n",
            "Os coeficientes angulares do modelo são: [ 1.10019356e-04  2.56210664e-06 -2.19483724e-04  9.88005997e-05\n",
            " -1.01157418e-15 -3.32105329e-06  4.40759899e-03 -2.89868957e-04\n",
            " -2.79374119e-05  1.95764323e-07  7.09849846e-04 -2.99538130e-04\n",
            "  1.20563238e-03 -6.90821634e-04  1.24895155e-03 -8.65440031e-06\n",
            " -5.40494616e-04 -4.83634524e-04 -3.61732432e-03 -5.28334111e-03\n",
            " -4.06616013e-03 -3.34978915e-03 -3.23126906e-03 -4.71754754e-04\n",
            " -9.51169890e-04 -4.25994704e-04 -8.31994365e-04 -8.65440031e-06\n",
            " -5.40494616e-04 -1.40407086e-03 -1.36508387e-03  7.16974870e-04\n",
            "  4.60301080e-03  3.19610906e-03  3.56866292e-03  3.15367255e-03\n",
            "  3.29975006e-03 -2.12538509e-03]\n"
          ]
        }
      ]
    },
    {
      "cell_type": "code",
      "source": [
        "# Para avaliar a qualidade do modelo usamos a biblioteca metrics do sklearn\n",
        "# Valores preditos pelo modelo\n",
        "yhat = modelo2.predict(X_test)"
      ],
      "metadata": {
        "id": "7-kc7b6eWt3U"
      },
      "execution_count": 42,
      "outputs": []
    },
    {
      "cell_type": "code",
      "source": [
        "# Coeficiente de determinação do modelo\n",
        "# varia de 0 a 1 e indica o poder de explicação do modelo\n",
        "r_sq = metrics.r2_score(y_test,yhat)\n",
        "print(f\"Coeficiente de determinação r2 = {r_sq:.4f}\")"
      ],
      "metadata": {
        "colab": {
          "base_uri": "https://localhost:8080/"
        },
        "id": "7sIlJSdHWt0W",
        "outputId": "c28e5214-6cfb-48f3-b9df-269648a1e9f6"
      },
      "execution_count": 43,
      "outputs": [
        {
          "output_type": "stream",
          "name": "stdout",
          "text": [
            "Coeficiente de determinação r2 = 0.0031\n"
          ]
        }
      ]
    },
    {
      "cell_type": "code",
      "source": [
        "# auc (area under curve) é uma métrica que indica quão bom o modelo é para classificar verdadeiros positivos (tpr) sobre falsos positivos (fpr).\n",
        "# O valor de auc deve estar acima de 0.5 (modelo \"bobo\", sem qualquer poder preditivo). E vai até 1.0 (modelo perfeito).\n",
        "fpr, tpr, thresholds = metrics.roc_curve(y_test, yhat)\n",
        "auc = metrics.auc(fpr,tpr)\n",
        "print(auc)"
      ],
      "metadata": {
        "colab": {
          "base_uri": "https://localhost:8080/"
        },
        "id": "6EK6K1jwWtxs",
        "outputId": "c92f3ad0-4fe5-462b-aa4e-209b137d1f5d"
      },
      "execution_count": 44,
      "outputs": [
        {
          "output_type": "stream",
          "name": "stdout",
          "text": [
            "0.7328971861886258\n"
          ]
        }
      ]
    },
    {
      "cell_type": "code",
      "source": [
        "# Gráfico da curva ROC\n",
        "plt.figure(figsize=(5,5), dpi=150)\n",
        "plt.plot(fpr, tpr, ls='-', label='LinReg (auc = %0.3f)' % auc)\n",
        "plt.plot([0,1],[0,1], ls='--')\n",
        "plt.xlabel('Taxa de Falso Positivo (fpr)')\n",
        "plt.ylabel('Taxa de Verdadeiro Positivo (tpr)')\n",
        "plt.title('Curva ROC - Modelo de Reg. Linear para Acordo')\n",
        "plt.legend()\n",
        "plt.show()"
      ],
      "metadata": {
        "colab": {
          "base_uri": "https://localhost:8080/",
          "height": 718
        },
        "id": "VLsnqvklWttn",
        "outputId": "d1c84118-e369-4376-a0f0-137391506c13"
      },
      "execution_count": 45,
      "outputs": [
        {
          "output_type": "display_data",
          "data": {
            "text/plain": [
              "<Figure size 750x750 with 1 Axes>"
            ],
            "image/png": "[encoded data removed]"
          },
          "metadata": {}
        }
      ]
    },
    {
      "cell_type": "code",
      "source": [],
      "metadata": {
        "id": "1AuGYaTL4gv8"
      },
      "execution_count": 45,
      "outputs": []
    },
    {
      "cell_type": "code",
      "source": [
        "# Encontra o limiar da probabilidade de corte que maximiza a auc (lift)\n",
        "max_lift = np.argmax(tpr - fpr)\n",
        "optimal_threshold = thresholds[max_lift]\n",
        "yhat_binary = (yhat > optimal_threshold).astype(int)\n",
        "print(f\"Threshold ótimo: {optimal_threshold:.5f}\")"
      ],
      "metadata": {
        "colab": {
          "base_uri": "https://localhost:8080/"
        },
        "id": "VnnsIgCzf6jF",
        "outputId": "09e361fa-cfae-42ea-ed01-9f1a788ad590"
      },
      "execution_count": 46,
      "outputs": [
        {
          "output_type": "stream",
          "name": "stdout",
          "text": [
            "Threshold ótimo: 0.00410\n"
          ]
        }
      ]
    },
    {
      "cell_type": "code",
      "source": [
        "# Acurácia (quanto o modelo acerta em relação à realidade) e Precisão (taxa de acertos de valores positivos: tp / (tp + fp))\n",
        "acur = metrics.accuracy_score(y_test, yhat_binary)\n",
        "prec = metrics.precision_score(y_test, yhat_binary)\n",
        "print(f'Acurácia do modelo = {acur:.1%}')\n",
        "print(f'Precisão do modelo = {prec:.1%}')"
      ],
      "metadata": {
        "colab": {
          "base_uri": "https://localhost:8080/"
        },
        "id": "dqHPwzBrKxhj",
        "outputId": "c328a2c1-27f8-4468-cb4e-6f16dc0a1787"
      },
      "execution_count": 47,
      "outputs": [
        {
          "output_type": "stream",
          "name": "stdout",
          "text": [
            "Acurácia do modelo = 68.6%\n",
            "Precisão do modelo = 0.7%\n"
          ]
        }
      ]
    },
    {
      "cell_type": "code",
      "source": [
        "# taxa de sensibilidade\n",
        "sensibilidade = metrics.recall_score(y_test, yhat_binary)\n",
        "print(f'Sensibilidade do modelo = {sensibilidade:.1%}')"
      ],
      "metadata": {
        "colab": {
          "base_uri": "https://localhost:8080/"
        },
        "id": "REOSLAirpz27",
        "outputId": "2b6919c5-b961-482f-cc5a-3e5df4d1277a"
      },
      "execution_count": 48,
      "outputs": [
        {
          "output_type": "stream",
          "name": "stdout",
          "text": [
            "Sensibilidade do modelo = 66.6%\n"
          ]
        }
      ]
    },
    {
      "cell_type": "code",
      "source": [
        "# taxa de especificidade\n",
        "# matriz de confusão\n",
        "conf_matrix = metrics.confusion_matrix(y_test, yhat_binary)\n",
        "\n",
        "# Calcular a especificidade\n",
        "especificidade = conf_matrix[0, 0] / (conf_matrix[0, 0] + conf_matrix[0, 1])\n",
        "print(f'Especificidade do modelo = {especificidade:.1%}')"
      ],
      "metadata": {
        "colab": {
          "base_uri": "https://localhost:8080/"
        },
        "id": "W7zZl57upzz1",
        "outputId": "45efafb2-2bcc-4e57-ee4a-b0517f4e1669"
      },
      "execution_count": 49,
      "outputs": [
        {
          "output_type": "stream",
          "name": "stdout",
          "text": [
            "Especificidade do modelo = 68.6%\n"
          ]
        }
      ]
    }
  ]
}