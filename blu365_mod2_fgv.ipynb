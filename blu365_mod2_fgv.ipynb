{
  "nbformat": 4,
  "nbformat_minor": 0,
  "metadata": {
    "colab": {
      "provenance": [],
      "mount_file_id": "1u6o5Jp9S90DGvykCam0I9pt-AooacHzf",
      "authorship_tag": "ABX9TyPDejPYISJ8ky67wGt2hwie",
      "include_colab_link": true
    },
    "kernelspec": {
      "name": "python3",
      "display_name": "Python 3"
    },
    "language_info": {
      "name": "python"
    }
  },
  "cells": [
    {
      "cell_type": "markdown",
      "metadata": {
        "id": "view-in-github",
        "colab_type": "text"
      },
      "source": [
        "<a href=\"https://colab.research.google.com/github/atc857/linregblu365/blob/main/blu365_mod2_fgv.ipynb\" target=\"_parent\"><img src=\"https://colab.research.google.com/assets/colab-badge.svg\" alt=\"Open In Colab\"/></a>"
      ]
    },
    {
      "cell_type": "markdown",
      "source": [
        "**Integrantes do Grupo**:\n",
        "\n",
        "André Telles Campos\n",
        "\n",
        "Jeann Wilson C. Aguiar\n",
        "\n",
        "Leandro Moura\n",
        "\n",
        "Thálita\n",
        "\n"
      ],
      "metadata": {
        "id": "cYhM43v_2xYq"
      }
    },
    {
      "cell_type": "markdown",
      "source": [
        "**Instruções**\n",
        "\n",
        "Descrição: a base em anexo, da empresa Blu365, trata de um problema de recuperação de crédito. No arquivo .xlsx a base propriamente dita. Nos arquivos .pdf e .mp4 temos uma apresentação explicando o modelo a ser desenvolvido, feita pelo head de Data Science da empresa, Sr.João Netto (ex-FGV).\n",
        "\n",
        "No arquivo: dados brutos e descrição das principais variáveis nome do arquivo: blu365_dataset_recuperação_de_crédito.xlsx\n",
        "\n",
        "A disciplina é inicial: o negócio é entender o processo, escolher as variáveis de entrada, limpar os dados, criar o modelo e avaliar. Não é necessário se preocupar em selecionar as melhores variáveis, reduzir categorias etc. Precisa apenas escolher as variáveis, codificar, separar em treino e teste, calcular os parâmetros (possivelmente pelo solver do excel), testar o modelo e avaliar com a curva ROC.\n",
        "\n",
        "Fazer apenas o modelo de regressão linear."
      ],
      "metadata": {
        "id": "TiII_-OkSX5D"
      }
    },
    {
      "cell_type": "markdown",
      "source": [
        "**Dicionário de dados**\n",
        "\n",
        "|  Variável |  Descrição |\n",
        "|---|---|\n",
        "|datadisparo   |  Data do disparo de SMS |\n",
        "|  ddd | ddd do telefone para o qual o SMS foi enviado  |\n",
        "| sms_entregue  | quantidade histórica de SMSs com status de \"entregue\" para esse número  |\n",
        "| sms_enviado  | quantidade histórica de SMSs com status de \"enviado\" para esse número  |\n",
        "| sms_naoentregue  | quantidade histórica de SMSs com status de \"não entregue\" para esse número  |\n",
        "| sms_rejeitado  | quantidade histórica de SMSs com status de \"rejeitado\" para esse número  |\n",
        "| sms_invalido  | quantidade histórica de SMSs com status de \"invalido\" para esse número  |\n",
        "| data_atraso  | data de atraso da dívida  |\n",
        "| valor  | valor total da dívida em atraso  |\n",
        "| operadora  | operadora do celular do inadimplente  |\n",
        "| qtd_hist_acessos  | quantidade histórica de acessos da pessoa na plataforma BLU  |\n",
        "| data_maisrecente_acesso  | data do acesso mais recente  |\n",
        "| data_maisantiga_acesso  | data do acesso mais antigo  |\n",
        "| sms_total_tent  | total histórico de tentativas de envio de SMSs para o número  |\n",
        "| idade  | idade  |\n",
        "| genero  | genero  |\n",
        "| compradoronline  | índice de A (mais alto) a H indicando se a pessoa tem costume de comprar online |\n",
        "| vendedoronline  | índice de A (mais alto) a H indicando se a pessoa tem costume de vender online  |\n",
        "| utilizacaoweb  | índice de A (mais alto) a H indicando se a pessoa tem costume de usar a web  |\n",
        "|rendaestimada | renda estimada da pessoa |\n",
        "| acesso | variável a ser prevista: se a pessoa acessou ou não o site após o disparo |\n",
        "| acordo | variável a ser prevista: se a pessoa fez ou não um acordo no site após o disparo |\n"
      ],
      "metadata": {
        "id": "Zh5eFcRUDPzm"
      }
    },
    {
      "cell_type": "code",
      "source": [
        "# Instalação do pacote de análise estatística\n",
        "#!pip install pingouin --quiet"
      ],
      "metadata": {
        "id": "HejhXHsq0DRc"
      },
      "execution_count": 1,
      "outputs": []
    },
    {
      "cell_type": "code",
      "execution_count": 2,
      "metadata": {
        "id": "bbZy-LbbQM8n"
      },
      "outputs": [],
      "source": [
        "# Importação das bibliotecas necessárias\n",
        "#import pingouin as pg\n",
        "import pandas as pd\n",
        "import numpy as np\n",
        "import seaborn as sns\n",
        "from matplotlib import pyplot as plt\n",
        "from sklearn import linear_model\n",
        "from sklearn.model_selection import train_test_split\n",
        "from sklearn import metrics\n",
        "#from datetime import datetime"
      ]
    },
    {
      "cell_type": "code",
      "source": [
        "# Leitura do arquivo Excel\n",
        "dir_file = \"/content/drive/MyDrive/Colab Notebooks/FGV/blu365_dataset_recuperação_de_crédito.xlsx\"\n",
        "df = pd.read_excel(dir_file, sheet_name=\"dados\")"
      ],
      "metadata": {
        "id": "4qAmw4GXQaHA"
      },
      "execution_count": 3,
      "outputs": []
    },
    {
      "cell_type": "code",
      "source": [
        "df.head()"
      ],
      "metadata": {
        "colab": {
          "base_uri": "https://localhost:8080/",
          "height": 256
        },
        "id": "QRnZXiLZRt_W",
        "outputId": "6c3a15c7-70f8-4ad8-9c7a-0e3742836910"
      },
      "execution_count": 4,
      "outputs": [
        {
          "output_type": "execute_result",
          "data": {
            "text/plain": [
              "  datadisparo  ddd  sms_entregue  sms_enviado  sms_naoentregue  sms_rejeitado  \\\n",
              "0  2020-05-19   62             0            0                0              0   \n",
              "1  2020-04-27   67             3            0                0              0   \n",
              "2  2020-05-14   51             1            0                0              0   \n",
              "3  2020-05-13   51             0            0                0              0   \n",
              "4  2020-05-25   62             0            0               12              0   \n",
              "\n",
              "   sms_invalido data_atraso   valor operadora  ...  data_maisantiga_acesso  \\\n",
              "0             0  2019-05-24  126.21     Claro  ...                     NaT   \n",
              "1             0  2017-04-14  244.29      Vivo  ...                     NaT   \n",
              "2             0  2019-09-04   51.00     Claro  ...                     NaT   \n",
              "3             0  2019-11-14  307.91       Tim  ...                     NaT   \n",
              "4             0  2017-03-14  154.12       Tim  ...                     NaT   \n",
              "\n",
              "  sms_total_tent idade  genero  compradoronline vendedoronline utilizacaoweb  \\\n",
              "0              0  22.0       M                H              H             H   \n",
              "1              3  56.0       F                D              H             D   \n",
              "2              1  45.0       M                B              H             B   \n",
              "3              0  35.0       F                B              H             B   \n",
              "4             12  43.0       F                A              H             A   \n",
              "\n",
              "  rendaestimada acesso acordo  \n",
              "0           NaN      0      0  \n",
              "1      ATE 2 SM      0      0  \n",
              "2      ATE 2 SM      0      0  \n",
              "3     4 A 10 SM      0      0  \n",
              "4           NaN      0      0  \n",
              "\n",
              "[5 rows x 22 columns]"
            ],
            "text/html": [
              "\n",
              "  <div id=\"df-5dc4f49f-24e4-41ee-8652-6e3860b5087c\" class=\"colab-df-container\">\n",
              "    <div>\n",
              "<style scoped>\n",
              "    .dataframe tbody tr th:only-of-type {\n",
              "        vertical-align: middle;\n",
              "    }\n",
              "\n",
              "    .dataframe tbody tr th {\n",
              "        vertical-align: top;\n",
              "    }\n",
              "\n",
              "    .dataframe thead th {\n",
              "        text-align: right;\n",
              "    }\n",
              "</style>\n",
              "<table border=\"1\" class=\"dataframe\">\n",
              "  <thead>\n",
              "    <tr style=\"text-align: right;\">\n",
              "      <th></th>\n",
              "      <th>datadisparo</th>\n",
              "      <th>ddd</th>\n",
              "      <th>sms_entregue</th>\n",
              "      <th>sms_enviado</th>\n",
              "      <th>sms_naoentregue</th>\n",
              "      <th>sms_rejeitado</th>\n",
              "      <th>sms_invalido</th>\n",
              "      <th>data_atraso</th>\n",
              "      <th>valor</th>\n",
              "      <th>operadora</th>\n",
              "      <th>...</th>\n",
              "      <th>data_maisantiga_acesso</th>\n",
              "      <th>sms_total_tent</th>\n",
              "      <th>idade</th>\n",
              "      <th>genero</th>\n",
              "      <th>compradoronline</th>\n",
              "      <th>vendedoronline</th>\n",
              "      <th>utilizacaoweb</th>\n",
              "      <th>rendaestimada</th>\n",
              "      <th>acesso</th>\n",
              "      <th>acordo</th>\n",
              "    </tr>\n",
              "  </thead>\n",
              "  <tbody>\n",
              "    <tr>\n",
              "      <th>0</th>\n",
              "      <td>2020-05-19</td>\n",
              "      <td>62</td>\n",
              "      <td>0</td>\n",
              "      <td>0</td>\n",
              "      <td>0</td>\n",
              "      <td>0</td>\n",
              "      <td>0</td>\n",
              "      <td>2019-05-24</td>\n",
              "      <td>126.21</td>\n",
              "      <td>Claro</td>\n",
              "      <td>...</td>\n",
              "      <td>NaT</td>\n",
              "      <td>0</td>\n",
              "      <td>22.0</td>\n",
              "      <td>M</td>\n",
              "      <td>H</td>\n",
              "      <td>H</td>\n",
              "      <td>H</td>\n",
              "      <td>NaN</td>\n",
              "      <td>0</td>\n",
              "      <td>0</td>\n",
              "    </tr>\n",
              "    <tr>\n",
              "      <th>1</th>\n",
              "      <td>2020-04-27</td>\n",
              "      <td>67</td>\n",
              "      <td>3</td>\n",
              "      <td>0</td>\n",
              "      <td>0</td>\n",
              "      <td>0</td>\n",
              "      <td>0</td>\n",
              "      <td>2017-04-14</td>\n",
              "      <td>244.29</td>\n",
              "      <td>Vivo</td>\n",
              "      <td>...</td>\n",
              "      <td>NaT</td>\n",
              "      <td>3</td>\n",
              "      <td>56.0</td>\n",
              "      <td>F</td>\n",
              "      <td>D</td>\n",
              "      <td>H</td>\n",
              "      <td>D</td>\n",
              "      <td>ATE 2 SM</td>\n",
              "      <td>0</td>\n",
              "      <td>0</td>\n",
              "    </tr>\n",
              "    <tr>\n",
              "      <th>2</th>\n",
              "      <td>2020-05-14</td>\n",
              "      <td>51</td>\n",
              "      <td>1</td>\n",
              "      <td>0</td>\n",
              "      <td>0</td>\n",
              "      <td>0</td>\n",
              "      <td>0</td>\n",
              "      <td>2019-09-04</td>\n",
              "      <td>51.00</td>\n",
              "      <td>Claro</td>\n",
              "      <td>...</td>\n",
              "      <td>NaT</td>\n",
              "      <td>1</td>\n",
              "      <td>45.0</td>\n",
              "      <td>M</td>\n",
              "      <td>B</td>\n",
              "      <td>H</td>\n",
              "      <td>B</td>\n",
              "      <td>ATE 2 SM</td>\n",
              "      <td>0</td>\n",
              "      <td>0</td>\n",
              "    </tr>\n",
              "    <tr>\n",
              "      <th>3</th>\n",
              "      <td>2020-05-13</td>\n",
              "      <td>51</td>\n",
              "      <td>0</td>\n",
              "      <td>0</td>\n",
              "      <td>0</td>\n",
              "      <td>0</td>\n",
              "      <td>0</td>\n",
              "      <td>2019-11-14</td>\n",
              "      <td>307.91</td>\n",
              "      <td>Tim</td>\n",
              "      <td>...</td>\n",
              "      <td>NaT</td>\n",
              "      <td>0</td>\n",
              "      <td>35.0</td>\n",
              "      <td>F</td>\n",
              "      <td>B</td>\n",
              "      <td>H</td>\n",
              "      <td>B</td>\n",
              "      <td>4 A 10 SM</td>\n",
              "      <td>0</td>\n",
              "      <td>0</td>\n",
              "    </tr>\n",
              "    <tr>\n",
              "      <th>4</th>\n",
              "      <td>2020-05-25</td>\n",
              "      <td>62</td>\n",
              "      <td>0</td>\n",
              "      <td>0</td>\n",
              "      <td>12</td>\n",
              "      <td>0</td>\n",
              "      <td>0</td>\n",
              "      <td>2017-03-14</td>\n",
              "      <td>154.12</td>\n",
              "      <td>Tim</td>\n",
              "      <td>...</td>\n",
              "      <td>NaT</td>\n",
              "      <td>12</td>\n",
              "      <td>43.0</td>\n",
              "      <td>F</td>\n",
              "      <td>A</td>\n",
              "      <td>H</td>\n",
              "      <td>A</td>\n",
              "      <td>NaN</td>\n",
              "      <td>0</td>\n",
              "      <td>0</td>\n",
              "    </tr>\n",
              "  </tbody>\n",
              "</table>\n",
              "<p>5 rows × 22 columns</p>\n",
              "</div>\n",
              "    <div class=\"colab-df-buttons\">\n",
              "\n",
              "  <div class=\"colab-df-container\">\n",
              "    <button class=\"colab-df-convert\" onclick=\"convertToInteractive('df-5dc4f49f-24e4-41ee-8652-6e3860b5087c')\"\n",
              "            title=\"Convert this dataframe to an interactive table.\"\n",
              "            style=\"display:none;\">\n",
              "\n",
              "  <svg xmlns=\"http://www.w3.org/2000/svg\" height=\"24px\" viewBox=\"0 -960 960 960\">\n",
              "    <path d=\"M120-120v-720h720v720H120Zm60-500h600v-160H180v160Zm220 220h160v-160H400v160Zm0 220h160v-160H400v160ZM180-400h160v-160H180v160Zm440 0h160v-160H620v160ZM180-180h160v-160H180v160Zm440 0h160v-160H620v160Z\"/>\n",
              "  </svg>\n",
              "    </button>\n",
              "\n",
              "  <style>\n",
              "    .colab-df-container {\n",
              "      display:flex;\n",
              "      gap: 12px;\n",
              "    }\n",
              "\n",
              "    .colab-df-convert {\n",
              "      background-color: #E8F0FE;\n",
              "      border: none;\n",
              "      border-radius: 50%;\n",
              "      cursor: pointer;\n",
              "      display: none;\n",
              "      fill: #1967D2;\n",
              "      height: 32px;\n",
              "      padding: 0 0 0 0;\n",
              "      width: 32px;\n",
              "    }\n",
              "\n",
              "    .colab-df-convert:hover {\n",
              "      background-color: #E2EBFA;\n",
              "      box-shadow: 0px 1px 2px rgba(60, 64, 67, 0.3), 0px 1px 3px 1px rgba(60, 64, 67, 0.15);\n",
              "      fill: #174EA6;\n",
              "    }\n",
              "\n",
              "    .colab-df-buttons div {\n",
              "      margin-bottom: 4px;\n",
              "    }\n",
              "\n",
              "    [theme=dark] .colab-df-convert {\n",
              "      background-color: #3B4455;\n",
              "      fill: #D2E3FC;\n",
              "    }\n",
              "\n",
              "    [theme=dark] .colab-df-convert:hover {\n",
              "      background-color: #434B5C;\n",
              "      box-shadow: 0px 1px 3px 1px rgba(0, 0, 0, 0.15);\n",
              "      filter: drop-shadow(0px 1px 2px rgba(0, 0, 0, 0.3));\n",
              "      fill: #FFFFFF;\n",
              "    }\n",
              "  </style>\n",
              "\n",
              "    <script>\n",
              "      const buttonEl =\n",
              "        document.querySelector('#df-5dc4f49f-24e4-41ee-8652-6e3860b5087c button.colab-df-convert');\n",
              "      buttonEl.style.display =\n",
              "        google.colab.kernel.accessAllowed ? 'block' : 'none';\n",
              "\n",
              "      async function convertToInteractive(key) {\n",
              "        const element = document.querySelector('#df-5dc4f49f-24e4-41ee-8652-6e3860b5087c');\n",
              "        const dataTable =\n",
              "          await google.colab.kernel.invokeFunction('convertToInteractive',\n",
              "                                                    [key], {});\n",
              "        if (!dataTable) return;\n",
              "\n",
              "        const docLinkHtml = 'Like what you see? Visit the ' +\n",
              "          '<a target=\"_blank\" href=https://colab.research.google.com/notebooks/data_table.ipynb>data table notebook</a>'\n",
              "          + ' to learn more about interactive tables.';\n",
              "        element.innerHTML = '';\n",
              "        dataTable['output_type'] = 'display_data';\n",
              "        await google.colab.output.renderOutput(dataTable, element);\n",
              "        const docLink = document.createElement('div');\n",
              "        docLink.innerHTML = docLinkHtml;\n",
              "        element.appendChild(docLink);\n",
              "      }\n",
              "    </script>\n",
              "  </div>\n",
              "\n",
              "\n",
              "<div id=\"df-188222c7-3dca-47a9-9dc3-ad836a8bfc12\">\n",
              "  <button class=\"colab-df-quickchart\" onclick=\"quickchart('df-188222c7-3dca-47a9-9dc3-ad836a8bfc12')\"\n",
              "            title=\"Suggest charts\"\n",
              "            style=\"display:none;\">\n",
              "\n",
              "<svg xmlns=\"http://www.w3.org/2000/svg\" height=\"24px\"viewBox=\"0 0 24 24\"\n",
              "     width=\"24px\">\n",
              "    <g>\n",
              "        <path d=\"M19 3H5c-1.1 0-2 .9-2 2v14c0 1.1.9 2 2 2h14c1.1 0 2-.9 2-2V5c0-1.1-.9-2-2-2zM9 17H7v-7h2v7zm4 0h-2V7h2v10zm4 0h-2v-4h2v4z\"/>\n",
              "    </g>\n",
              "</svg>\n",
              "  </button>\n",
              "\n",
              "<style>\n",
              "  .colab-df-quickchart {\n",
              "      --bg-color: #E8F0FE;\n",
              "      --fill-color: #1967D2;\n",
              "      --hover-bg-color: #E2EBFA;\n",
              "      --hover-fill-color: #174EA6;\n",
              "      --disabled-fill-color: #AAA;\n",
              "      --disabled-bg-color: #DDD;\n",
              "  }\n",
              "\n",
              "  [theme=dark] .colab-df-quickchart {\n",
              "      --bg-color: #3B4455;\n",
              "      --fill-color: #D2E3FC;\n",
              "      --hover-bg-color: #434B5C;\n",
              "      --hover-fill-color: #FFFFFF;\n",
              "      --disabled-bg-color: #3B4455;\n",
              "      --disabled-fill-color: #666;\n",
              "  }\n",
              "\n",
              "  .colab-df-quickchart {\n",
              "    background-color: var(--bg-color);\n",
              "    border: none;\n",
              "    border-radius: 50%;\n",
              "    cursor: pointer;\n",
              "    display: none;\n",
              "    fill: var(--fill-color);\n",
              "    height: 32px;\n",
              "    padding: 0;\n",
              "    width: 32px;\n",
              "  }\n",
              "\n",
              "  .colab-df-quickchart:hover {\n",
              "    background-color: var(--hover-bg-color);\n",
              "    box-shadow: 0 1px 2px rgba(60, 64, 67, 0.3), 0 1px 3px 1px rgba(60, 64, 67, 0.15);\n",
              "    fill: var(--button-hover-fill-color);\n",
              "  }\n",
              "\n",
              "  .colab-df-quickchart-complete:disabled,\n",
              "  .colab-df-quickchart-complete:disabled:hover {\n",
              "    background-color: var(--disabled-bg-color);\n",
              "    fill: var(--disabled-fill-color);\n",
              "    box-shadow: none;\n",
              "  }\n",
              "\n",
              "  .colab-df-spinner {\n",
              "    border: 2px solid var(--fill-color);\n",
              "    border-color: transparent;\n",
              "    border-bottom-color: var(--fill-color);\n",
              "    animation:\n",
              "      spin 1s steps(1) infinite;\n",
              "  }\n",
              "\n",
              "  @keyframes spin {\n",
              "    0% {\n",
              "      border-color: transparent;\n",
              "      border-bottom-color: var(--fill-color);\n",
              "      border-left-color: var(--fill-color);\n",
              "    }\n",
              "    20% {\n",
              "      border-color: transparent;\n",
              "      border-left-color: var(--fill-color);\n",
              "      border-top-color: var(--fill-color);\n",
              "    }\n",
              "    30% {\n",
              "      border-color: transparent;\n",
              "      border-left-color: var(--fill-color);\n",
              "      border-top-color: var(--fill-color);\n",
              "      border-right-color: var(--fill-color);\n",
              "    }\n",
              "    40% {\n",
              "      border-color: transparent;\n",
              "      border-right-color: var(--fill-color);\n",
              "      border-top-color: var(--fill-color);\n",
              "    }\n",
              "    60% {\n",
              "      border-color: transparent;\n",
              "      border-right-color: var(--fill-color);\n",
              "    }\n",
              "    80% {\n",
              "      border-color: transparent;\n",
              "      border-right-color: var(--fill-color);\n",
              "      border-bottom-color: var(--fill-color);\n",
              "    }\n",
              "    90% {\n",
              "      border-color: transparent;\n",
              "      border-bottom-color: var(--fill-color);\n",
              "    }\n",
              "  }\n",
              "</style>\n",
              "\n",
              "  <script>\n",
              "    async function quickchart(key) {\n",
              "      const quickchartButtonEl =\n",
              "        document.querySelector('#' + key + ' button');\n",
              "      quickchartButtonEl.disabled = true;  // To prevent multiple clicks.\n",
              "      quickchartButtonEl.classList.add('colab-df-spinner');\n",
              "      try {\n",
              "        const charts = await google.colab.kernel.invokeFunction(\n",
              "            'suggestCharts', [key], {});\n",
              "      } catch (error) {\n",
              "        console.error('Error during call to suggestCharts:', error);\n",
              "      }\n",
              "      quickchartButtonEl.classList.remove('colab-df-spinner');\n",
              "      quickchartButtonEl.classList.add('colab-df-quickchart-complete');\n",
              "    }\n",
              "    (() => {\n",
              "      let quickchartButtonEl =\n",
              "        document.querySelector('#df-188222c7-3dca-47a9-9dc3-ad836a8bfc12 button');\n",
              "      quickchartButtonEl.style.display =\n",
              "        google.colab.kernel.accessAllowed ? 'block' : 'none';\n",
              "    })();\n",
              "  </script>\n",
              "</div>\n",
              "\n",
              "    </div>\n",
              "  </div>\n"
            ]
          },
          "metadata": {},
          "execution_count": 4
        }
      ]
    },
    {
      "cell_type": "code",
      "source": [
        "df.info()"
      ],
      "metadata": {
        "colab": {
          "base_uri": "https://localhost:8080/"
        },
        "id": "BKklmX-hTjaa",
        "outputId": "5ee7dcb1-5fb9-4bce-f71c-8a2f881a40e9"
      },
      "execution_count": 5,
      "outputs": [
        {
          "output_type": "stream",
          "name": "stdout",
          "text": [
            "<class 'pandas.core.frame.DataFrame'>\n",
            "RangeIndex: 686383 entries, 0 to 686382\n",
            "Data columns (total 22 columns):\n",
            " #   Column                   Non-Null Count   Dtype         \n",
            "---  ------                   --------------   -----         \n",
            " 0   datadisparo              686383 non-null  datetime64[ns]\n",
            " 1   ddd                      686383 non-null  int64         \n",
            " 2   sms_entregue             686383 non-null  int64         \n",
            " 3   sms_enviado              686383 non-null  int64         \n",
            " 4   sms_naoentregue          686383 non-null  int64         \n",
            " 5   sms_rejeitado            686383 non-null  int64         \n",
            " 6   sms_invalido             686383 non-null  int64         \n",
            " 7   data_atraso              686383 non-null  datetime64[ns]\n",
            " 8   valor                    686383 non-null  float64       \n",
            " 9   operadora                686383 non-null  object        \n",
            " 10  qtd_hist_acessos         686383 non-null  int64         \n",
            " 11  data_maisrecente_acesso  77512 non-null   datetime64[ns]\n",
            " 12  data_maisantiga_acesso   77512 non-null   datetime64[ns]\n",
            " 13  sms_total_tent           686383 non-null  int64         \n",
            " 14  idade                    684648 non-null  float64       \n",
            " 15  genero                   684650 non-null  object        \n",
            " 16  compradoronline          684650 non-null  object        \n",
            " 17  vendedoronline           684650 non-null  object        \n",
            " 18  utilizacaoweb            684650 non-null  object        \n",
            " 19  rendaestimada            520483 non-null  object        \n",
            " 20  acesso                   686383 non-null  int64         \n",
            " 21  acordo                   686383 non-null  int64         \n",
            "dtypes: datetime64[ns](4), float64(2), int64(10), object(6)\n",
            "memory usage: 115.2+ MB\n"
          ]
        }
      ]
    },
    {
      "cell_type": "code",
      "source": [
        "# Verifica a quantidade de valores ausentes nas colunas\n",
        "df.isnull().sum()"
      ],
      "metadata": {
        "colab": {
          "base_uri": "https://localhost:8080/"
        },
        "id": "8Ag-IM7Mvisn",
        "outputId": "d12fa2ee-1523-4b94-b808-758e8352a072"
      },
      "execution_count": 6,
      "outputs": [
        {
          "output_type": "execute_result",
          "data": {
            "text/plain": [
              "datadisparo                     0\n",
              "ddd                             0\n",
              "sms_entregue                    0\n",
              "sms_enviado                     0\n",
              "sms_naoentregue                 0\n",
              "sms_rejeitado                   0\n",
              "sms_invalido                    0\n",
              "data_atraso                     0\n",
              "valor                           0\n",
              "operadora                       0\n",
              "qtd_hist_acessos                0\n",
              "data_maisrecente_acesso    608871\n",
              "data_maisantiga_acesso     608871\n",
              "sms_total_tent                  0\n",
              "idade                        1735\n",
              "genero                       1733\n",
              "compradoronline              1733\n",
              "vendedoronline               1733\n",
              "utilizacaoweb                1733\n",
              "rendaestimada              165900\n",
              "acesso                          0\n",
              "acordo                          0\n",
              "dtype: int64"
            ]
          },
          "metadata": {},
          "execution_count": 6
        }
      ]
    },
    {
      "cell_type": "code",
      "source": [
        "# Resumo das principais medidas estatísitcas do dataset\n",
        "df.describe()"
      ],
      "metadata": {
        "colab": {
          "base_uri": "https://localhost:8080/",
          "height": 300
        },
        "id": "krWkWrmoV_Cr",
        "outputId": "b6ce7049-62b7-4807-cc13-f7a4a51defc0"
      },
      "execution_count": 7,
      "outputs": [
        {
          "output_type": "execute_result",
          "data": {
            "text/plain": [
              "                 ddd   sms_entregue    sms_enviado  sms_naoentregue  \\\n",
              "count  686383.000000  686383.000000  686383.000000    686383.000000   \n",
              "mean       54.100716       2.225027       0.050928         0.938616   \n",
              "std        11.441091       3.472402       0.649311         2.474068   \n",
              "min        11.000000       0.000000       0.000000         0.000000   \n",
              "25%        44.000000       0.000000       0.000000         0.000000   \n",
              "50%        54.000000       0.000000       0.000000         0.000000   \n",
              "75%        62.000000       3.000000       0.000000         0.000000   \n",
              "max        99.000000      23.000000      20.000000        22.000000   \n",
              "\n",
              "       sms_rejeitado  sms_invalido          valor  qtd_hist_acessos  \\\n",
              "count  686383.000000      686383.0  686383.000000     686383.000000   \n",
              "mean        0.002046           0.0     268.770910          0.182840   \n",
              "std         0.185847           0.0     291.660576          0.655077   \n",
              "min         0.000000           0.0       5.300000          0.000000   \n",
              "25%         0.000000           0.0     110.520000          0.000000   \n",
              "50%         0.000000           0.0     225.970000          0.000000   \n",
              "75%         0.000000           0.0     343.995000          0.000000   \n",
              "max        18.000000           0.0   61952.930000         20.000000   \n",
              "\n",
              "       sms_total_tent          idade         acesso         acordo  \n",
              "count   686383.000000  684648.000000  686383.000000  686383.000000  \n",
              "mean         3.208181      40.644479       0.027453       0.003374  \n",
              "std          3.755364      14.697298       0.163398       0.057990  \n",
              "min          0.000000       6.000000       0.000000       0.000000  \n",
              "25%          0.000000      29.000000       0.000000       0.000000  \n",
              "50%          2.000000      38.000000       0.000000       0.000000  \n",
              "75%          5.000000      49.000000       0.000000       0.000000  \n",
              "max         23.000000     136.000000       1.000000       1.000000  "
            ],
            "text/html": [
              "\n",
              "  <div id=\"df-1ad7783d-c629-4887-a80e-6e0dec2860d4\" class=\"colab-df-container\">\n",
              "    <div>\n",
              "<style scoped>\n",
              "    .dataframe tbody tr th:only-of-type {\n",
              "        vertical-align: middle;\n",
              "    }\n",
              "\n",
              "    .dataframe tbody tr th {\n",
              "        vertical-align: top;\n",
              "    }\n",
              "\n",
              "    .dataframe thead th {\n",
              "        text-align: right;\n",
              "    }\n",
              "</style>\n",
              "<table border=\"1\" class=\"dataframe\">\n",
              "  <thead>\n",
              "    <tr style=\"text-align: right;\">\n",
              "      <th></th>\n",
              "      <th>ddd</th>\n",
              "      <th>sms_entregue</th>\n",
              "      <th>sms_enviado</th>\n",
              "      <th>sms_naoentregue</th>\n",
              "      <th>sms_rejeitado</th>\n",
              "      <th>sms_invalido</th>\n",
              "      <th>valor</th>\n",
              "      <th>qtd_hist_acessos</th>\n",
              "      <th>sms_total_tent</th>\n",
              "      <th>idade</th>\n",
              "      <th>acesso</th>\n",
              "      <th>acordo</th>\n",
              "    </tr>\n",
              "  </thead>\n",
              "  <tbody>\n",
              "    <tr>\n",
              "      <th>count</th>\n",
              "      <td>686383.000000</td>\n",
              "      <td>686383.000000</td>\n",
              "      <td>686383.000000</td>\n",
              "      <td>686383.000000</td>\n",
              "      <td>686383.000000</td>\n",
              "      <td>686383.0</td>\n",
              "      <td>686383.000000</td>\n",
              "      <td>686383.000000</td>\n",
              "      <td>686383.000000</td>\n",
              "      <td>684648.000000</td>\n",
              "      <td>686383.000000</td>\n",
              "      <td>686383.000000</td>\n",
              "    </tr>\n",
              "    <tr>\n",
              "      <th>mean</th>\n",
              "      <td>54.100716</td>\n",
              "      <td>2.225027</td>\n",
              "      <td>0.050928</td>\n",
              "      <td>0.938616</td>\n",
              "      <td>0.002046</td>\n",
              "      <td>0.0</td>\n",
              "      <td>268.770910</td>\n",
              "      <td>0.182840</td>\n",
              "      <td>3.208181</td>\n",
              "      <td>40.644479</td>\n",
              "      <td>0.027453</td>\n",
              "      <td>0.003374</td>\n",
              "    </tr>\n",
              "    <tr>\n",
              "      <th>std</th>\n",
              "      <td>11.441091</td>\n",
              "      <td>3.472402</td>\n",
              "      <td>0.649311</td>\n",
              "      <td>2.474068</td>\n",
              "      <td>0.185847</td>\n",
              "      <td>0.0</td>\n",
              "      <td>291.660576</td>\n",
              "      <td>0.655077</td>\n",
              "      <td>3.755364</td>\n",
              "      <td>14.697298</td>\n",
              "      <td>0.163398</td>\n",
              "      <td>0.057990</td>\n",
              "    </tr>\n",
              "    <tr>\n",
              "      <th>min</th>\n",
              "      <td>11.000000</td>\n",
              "      <td>0.000000</td>\n",
              "      <td>0.000000</td>\n",
              "      <td>0.000000</td>\n",
              "      <td>0.000000</td>\n",
              "      <td>0.0</td>\n",
              "      <td>5.300000</td>\n",
              "      <td>0.000000</td>\n",
              "      <td>0.000000</td>\n",
              "      <td>6.000000</td>\n",
              "      <td>0.000000</td>\n",
              "      <td>0.000000</td>\n",
              "    </tr>\n",
              "    <tr>\n",
              "      <th>25%</th>\n",
              "      <td>44.000000</td>\n",
              "      <td>0.000000</td>\n",
              "      <td>0.000000</td>\n",
              "      <td>0.000000</td>\n",
              "      <td>0.000000</td>\n",
              "      <td>0.0</td>\n",
              "      <td>110.520000</td>\n",
              "      <td>0.000000</td>\n",
              "      <td>0.000000</td>\n",
              "      <td>29.000000</td>\n",
              "      <td>0.000000</td>\n",
              "      <td>0.000000</td>\n",
              "    </tr>\n",
              "    <tr>\n",
              "      <th>50%</th>\n",
              "      <td>54.000000</td>\n",
              "      <td>0.000000</td>\n",
              "      <td>0.000000</td>\n",
              "      <td>0.000000</td>\n",
              "      <td>0.000000</td>\n",
              "      <td>0.0</td>\n",
              "      <td>225.970000</td>\n",
              "      <td>0.000000</td>\n",
              "      <td>2.000000</td>\n",
              "      <td>38.000000</td>\n",
              "      <td>0.000000</td>\n",
              "      <td>0.000000</td>\n",
              "    </tr>\n",
              "    <tr>\n",
              "      <th>75%</th>\n",
              "      <td>62.000000</td>\n",
              "      <td>3.000000</td>\n",
              "      <td>0.000000</td>\n",
              "      <td>0.000000</td>\n",
              "      <td>0.000000</td>\n",
              "      <td>0.0</td>\n",
              "      <td>343.995000</td>\n",
              "      <td>0.000000</td>\n",
              "      <td>5.000000</td>\n",
              "      <td>49.000000</td>\n",
              "      <td>0.000000</td>\n",
              "      <td>0.000000</td>\n",
              "    </tr>\n",
              "    <tr>\n",
              "      <th>max</th>\n",
              "      <td>99.000000</td>\n",
              "      <td>23.000000</td>\n",
              "      <td>20.000000</td>\n",
              "      <td>22.000000</td>\n",
              "      <td>18.000000</td>\n",
              "      <td>0.0</td>\n",
              "      <td>61952.930000</td>\n",
              "      <td>20.000000</td>\n",
              "      <td>23.000000</td>\n",
              "      <td>136.000000</td>\n",
              "      <td>1.000000</td>\n",
              "      <td>1.000000</td>\n",
              "    </tr>\n",
              "  </tbody>\n",
              "</table>\n",
              "</div>\n",
              "    <div class=\"colab-df-buttons\">\n",
              "\n",
              "  <div class=\"colab-df-container\">\n",
              "    <button class=\"colab-df-convert\" onclick=\"convertToInteractive('df-1ad7783d-c629-4887-a80e-6e0dec2860d4')\"\n",
              "            title=\"Convert this dataframe to an interactive table.\"\n",
              "            style=\"display:none;\">\n",
              "\n",
              "  <svg xmlns=\"http://www.w3.org/2000/svg\" height=\"24px\" viewBox=\"0 -960 960 960\">\n",
              "    <path d=\"M120-120v-720h720v720H120Zm60-500h600v-160H180v160Zm220 220h160v-160H400v160Zm0 220h160v-160H400v160ZM180-400h160v-160H180v160Zm440 0h160v-160H620v160ZM180-180h160v-160H180v160Zm440 0h160v-160H620v160Z\"/>\n",
              "  </svg>\n",
              "    </button>\n",
              "\n",
              "  <style>\n",
              "    .colab-df-container {\n",
              "      display:flex;\n",
              "      gap: 12px;\n",
              "    }\n",
              "\n",
              "    .colab-df-convert {\n",
              "      background-color: #E8F0FE;\n",
              "      border: none;\n",
              "      border-radius: 50%;\n",
              "      cursor: pointer;\n",
              "      display: none;\n",
              "      fill: #1967D2;\n",
              "      height: 32px;\n",
              "      padding: 0 0 0 0;\n",
              "      width: 32px;\n",
              "    }\n",
              "\n",
              "    .colab-df-convert:hover {\n",
              "      background-color: #E2EBFA;\n",
              "      box-shadow: 0px 1px 2px rgba(60, 64, 67, 0.3), 0px 1px 3px 1px rgba(60, 64, 67, 0.15);\n",
              "      fill: #174EA6;\n",
              "    }\n",
              "\n",
              "    .colab-df-buttons div {\n",
              "      margin-bottom: 4px;\n",
              "    }\n",
              "\n",
              "    [theme=dark] .colab-df-convert {\n",
              "      background-color: #3B4455;\n",
              "      fill: #D2E3FC;\n",
              "    }\n",
              "\n",
              "    [theme=dark] .colab-df-convert:hover {\n",
              "      background-color: #434B5C;\n",
              "      box-shadow: 0px 1px 3px 1px rgba(0, 0, 0, 0.15);\n",
              "      filter: drop-shadow(0px 1px 2px rgba(0, 0, 0, 0.3));\n",
              "      fill: #FFFFFF;\n",
              "    }\n",
              "  </style>\n",
              "\n",
              "    <script>\n",
              "      const buttonEl =\n",
              "        document.querySelector('#df-1ad7783d-c629-4887-a80e-6e0dec2860d4 button.colab-df-convert');\n",
              "      buttonEl.style.display =\n",
              "        google.colab.kernel.accessAllowed ? 'block' : 'none';\n",
              "\n",
              "      async function convertToInteractive(key) {\n",
              "        const element = document.querySelector('#df-1ad7783d-c629-4887-a80e-6e0dec2860d4');\n",
              "        const dataTable =\n",
              "          await google.colab.kernel.invokeFunction('convertToInteractive',\n",
              "                                                    [key], {});\n",
              "        if (!dataTable) return;\n",
              "\n",
              "        const docLinkHtml = 'Like what you see? Visit the ' +\n",
              "          '<a target=\"_blank\" href=https://colab.research.google.com/notebooks/data_table.ipynb>data table notebook</a>'\n",
              "          + ' to learn more about interactive tables.';\n",
              "        element.innerHTML = '';\n",
              "        dataTable['output_type'] = 'display_data';\n",
              "        await google.colab.output.renderOutput(dataTable, element);\n",
              "        const docLink = document.createElement('div');\n",
              "        docLink.innerHTML = docLinkHtml;\n",
              "        element.appendChild(docLink);\n",
              "      }\n",
              "    </script>\n",
              "  </div>\n",
              "\n",
              "\n",
              "<div id=\"df-2566d670-a12b-4c94-9cff-083f43855e81\">\n",
              "  <button class=\"colab-df-quickchart\" onclick=\"quickchart('df-2566d670-a12b-4c94-9cff-083f43855e81')\"\n",
              "            title=\"Suggest charts\"\n",
              "            style=\"display:none;\">\n",
              "\n",
              "<svg xmlns=\"http://www.w3.org/2000/svg\" height=\"24px\"viewBox=\"0 0 24 24\"\n",
              "     width=\"24px\">\n",
              "    <g>\n",
              "        <path d=\"M19 3H5c-1.1 0-2 .9-2 2v14c0 1.1.9 2 2 2h14c1.1 0 2-.9 2-2V5c0-1.1-.9-2-2-2zM9 17H7v-7h2v7zm4 0h-2V7h2v10zm4 0h-2v-4h2v4z\"/>\n",
              "    </g>\n",
              "</svg>\n",
              "  </button>\n",
              "\n",
              "<style>\n",
              "  .colab-df-quickchart {\n",
              "      --bg-color: #E8F0FE;\n",
              "      --fill-color: #1967D2;\n",
              "      --hover-bg-color: #E2EBFA;\n",
              "      --hover-fill-color: #174EA6;\n",
              "      --disabled-fill-color: #AAA;\n",
              "      --disabled-bg-color: #DDD;\n",
              "  }\n",
              "\n",
              "  [theme=dark] .colab-df-quickchart {\n",
              "      --bg-color: #3B4455;\n",
              "      --fill-color: #D2E3FC;\n",
              "      --hover-bg-color: #434B5C;\n",
              "      --hover-fill-color: #FFFFFF;\n",
              "      --disabled-bg-color: #3B4455;\n",
              "      --disabled-fill-color: #666;\n",
              "  }\n",
              "\n",
              "  .colab-df-quickchart {\n",
              "    background-color: var(--bg-color);\n",
              "    border: none;\n",
              "    border-radius: 50%;\n",
              "    cursor: pointer;\n",
              "    display: none;\n",
              "    fill: var(--fill-color);\n",
              "    height: 32px;\n",
              "    padding: 0;\n",
              "    width: 32px;\n",
              "  }\n",
              "\n",
              "  .colab-df-quickchart:hover {\n",
              "    background-color: var(--hover-bg-color);\n",
              "    box-shadow: 0 1px 2px rgba(60, 64, 67, 0.3), 0 1px 3px 1px rgba(60, 64, 67, 0.15);\n",
              "    fill: var(--button-hover-fill-color);\n",
              "  }\n",
              "\n",
              "  .colab-df-quickchart-complete:disabled,\n",
              "  .colab-df-quickchart-complete:disabled:hover {\n",
              "    background-color: var(--disabled-bg-color);\n",
              "    fill: var(--disabled-fill-color);\n",
              "    box-shadow: none;\n",
              "  }\n",
              "\n",
              "  .colab-df-spinner {\n",
              "    border: 2px solid var(--fill-color);\n",
              "    border-color: transparent;\n",
              "    border-bottom-color: var(--fill-color);\n",
              "    animation:\n",
              "      spin 1s steps(1) infinite;\n",
              "  }\n",
              "\n",
              "  @keyframes spin {\n",
              "    0% {\n",
              "      border-color: transparent;\n",
              "      border-bottom-color: var(--fill-color);\n",
              "      border-left-color: var(--fill-color);\n",
              "    }\n",
              "    20% {\n",
              "      border-color: transparent;\n",
              "      border-left-color: var(--fill-color);\n",
              "      border-top-color: var(--fill-color);\n",
              "    }\n",
              "    30% {\n",
              "      border-color: transparent;\n",
              "      border-left-color: var(--fill-color);\n",
              "      border-top-color: var(--fill-color);\n",
              "      border-right-color: var(--fill-color);\n",
              "    }\n",
              "    40% {\n",
              "      border-color: transparent;\n",
              "      border-right-color: var(--fill-color);\n",
              "      border-top-color: var(--fill-color);\n",
              "    }\n",
              "    60% {\n",
              "      border-color: transparent;\n",
              "      border-right-color: var(--fill-color);\n",
              "    }\n",
              "    80% {\n",
              "      border-color: transparent;\n",
              "      border-right-color: var(--fill-color);\n",
              "      border-bottom-color: var(--fill-color);\n",
              "    }\n",
              "    90% {\n",
              "      border-color: transparent;\n",
              "      border-bottom-color: var(--fill-color);\n",
              "    }\n",
              "  }\n",
              "</style>\n",
              "\n",
              "  <script>\n",
              "    async function quickchart(key) {\n",
              "      const quickchartButtonEl =\n",
              "        document.querySelector('#' + key + ' button');\n",
              "      quickchartButtonEl.disabled = true;  // To prevent multiple clicks.\n",
              "      quickchartButtonEl.classList.add('colab-df-spinner');\n",
              "      try {\n",
              "        const charts = await google.colab.kernel.invokeFunction(\n",
              "            'suggestCharts', [key], {});\n",
              "      } catch (error) {\n",
              "        console.error('Error during call to suggestCharts:', error);\n",
              "      }\n",
              "      quickchartButtonEl.classList.remove('colab-df-spinner');\n",
              "      quickchartButtonEl.classList.add('colab-df-quickchart-complete');\n",
              "    }\n",
              "    (() => {\n",
              "      let quickchartButtonEl =\n",
              "        document.querySelector('#df-2566d670-a12b-4c94-9cff-083f43855e81 button');\n",
              "      quickchartButtonEl.style.display =\n",
              "        google.colab.kernel.accessAllowed ? 'block' : 'none';\n",
              "    })();\n",
              "  </script>\n",
              "</div>\n",
              "\n",
              "    </div>\n",
              "  </div>\n"
            ]
          },
          "metadata": {},
          "execution_count": 7
        }
      ]
    },
    {
      "cell_type": "code",
      "source": [
        "# Mapa de calor para a correlação entre variáveis\n",
        "plt.figure(figsize=(12,8))\n",
        "sns.heatmap(df.corr(), annot=True, cmap=\"Blues\")\n",
        "plt.show()"
      ],
      "metadata": {
        "colab": {
          "base_uri": "https://localhost:8080/",
          "height": 846
        },
        "id": "J1B_niYRHQ0V",
        "outputId": "555be363-ccf1-445c-e89e-92588ec0e6cb"
      },
      "execution_count": 8,
      "outputs": [
        {
          "output_type": "stream",
          "name": "stderr",
          "text": [
            "<ipython-input-8-d6e0f38d264e>:3: FutureWarning: The default value of numeric_only in DataFrame.corr is deprecated. In a future version, it will default to False. Select only valid columns or specify the value of numeric_only to silence this warning.\n",
            "  sns.heatmap(df.corr(), annot=True, cmap=\"Blues\")\n"
          ]
        },
        {
          "output_type": "display_data",
          "data": {
            "text/plain": [
              "<Figure size 1200x800 with 2 Axes>"
            ],
            "image/png": "[encoded data removed]"
          },
          "metadata": {}
        }
      ]
    },
    {
      "cell_type": "markdown",
      "source": [
        "# Manipulação de variáveis\n",
        "\n",
        "Preparação da base de dados"
      ],
      "metadata": {
        "id": "B0jBn614ufa6"
      }
    },
    {
      "cell_type": "markdown",
      "source": [
        "Vamos considerar um modelo com as seguintes variáveis inicialmente:\n",
        "\n",
        "- acesso-acordo\n",
        "- datadisparo\n",
        "- ddd\n",
        "- sms_entregue\n",
        "- sms_enviado\n",
        "- sms_naoentregue\n",
        "- sms_rejeitado\n",
        "- sms_invalido\n",
        "- data_atraso\n",
        "- valor\n",
        "- operadora\n",
        "- qtd_hist_acessos\n",
        "- sms_total_tent\n",
        "- idade\n",
        "- genero\n",
        "- utilizacaoweb\n",
        "- rendaestimada\n",
        "- dias_atraso = datadisparo - data_atraso\n",
        "- dia_semana = datadisparo.dt.dayofweek"
      ],
      "metadata": {
        "id": "rF5TA_YIRgRt"
      }
    },
    {
      "cell_type": "code",
      "source": [
        "df.columns"
      ],
      "metadata": {
        "colab": {
          "base_uri": "https://localhost:8080/"
        },
        "id": "oKrQF1-tW56D",
        "outputId": "5d8a96a3-5e64-47d1-e651-bebd21f7716f"
      },
      "execution_count": 9,
      "outputs": [
        {
          "output_type": "execute_result",
          "data": {
            "text/plain": [
              "Index(['datadisparo', 'ddd', 'sms_entregue', 'sms_enviado', 'sms_naoentregue',\n",
              "       'sms_rejeitado', 'sms_invalido', 'data_atraso', 'valor', 'operadora',\n",
              "       'qtd_hist_acessos', 'data_maisrecente_acesso', 'data_maisantiga_acesso',\n",
              "       'sms_total_tent', 'idade', 'genero', 'compradoronline',\n",
              "       'vendedoronline', 'utilizacaoweb', 'rendaestimada', 'acesso', 'acordo'],\n",
              "      dtype='object')"
            ]
          },
          "metadata": {},
          "execution_count": 9
        }
      ]
    },
    {
      "cell_type": "code",
      "source": [
        "# Copia a base original para um dataframe apenas com as colunas de interesse do modelo\n",
        "base = df[['acesso','acordo','datadisparo','ddd','sms_entregue','sms_enviado','sms_naoentregue','sms_rejeitado',\n",
        "           'sms_invalido','data_atraso','valor','operadora','qtd_hist_acessos',\n",
        "           'sms_total_tent','idade','genero','utilizacaoweb','rendaestimada']]"
      ],
      "metadata": {
        "id": "2Z0MOe5oWFQ5"
      },
      "execution_count": 10,
      "outputs": []
    },
    {
      "cell_type": "code",
      "source": [
        "base.info()"
      ],
      "metadata": {
        "colab": {
          "base_uri": "https://localhost:8080/"
        },
        "id": "QgnBOtIrZXDg",
        "outputId": "88ab5be0-3272-49e9-a13c-1ce0cef6a087"
      },
      "execution_count": 11,
      "outputs": [
        {
          "output_type": "stream",
          "name": "stdout",
          "text": [
            "<class 'pandas.core.frame.DataFrame'>\n",
            "RangeIndex: 686383 entries, 0 to 686382\n",
            "Data columns (total 18 columns):\n",
            " #   Column            Non-Null Count   Dtype         \n",
            "---  ------            --------------   -----         \n",
            " 0   acesso            686383 non-null  int64         \n",
            " 1   acordo            686383 non-null  int64         \n",
            " 2   datadisparo       686383 non-null  datetime64[ns]\n",
            " 3   ddd               686383 non-null  int64         \n",
            " 4   sms_entregue      686383 non-null  int64         \n",
            " 5   sms_enviado       686383 non-null  int64         \n",
            " 6   sms_naoentregue   686383 non-null  int64         \n",
            " 7   sms_rejeitado     686383 non-null  int64         \n",
            " 8   sms_invalido      686383 non-null  int64         \n",
            " 9   data_atraso       686383 non-null  datetime64[ns]\n",
            " 10  valor             686383 non-null  float64       \n",
            " 11  operadora         686383 non-null  object        \n",
            " 12  qtd_hist_acessos  686383 non-null  int64         \n",
            " 13  sms_total_tent    686383 non-null  int64         \n",
            " 14  idade             684648 non-null  float64       \n",
            " 15  genero            684650 non-null  object        \n",
            " 16  utilizacaoweb     684650 non-null  object        \n",
            " 17  rendaestimada     520483 non-null  object        \n",
            "dtypes: datetime64[ns](2), float64(2), int64(10), object(4)\n",
            "memory usage: 94.3+ MB\n"
          ]
        }
      ]
    },
    {
      "cell_type": "code",
      "source": [
        "# Estratégia para lidar com os dados faltantes\n",
        "# Uma opção é eliminar esses dados da base .dropna()\n",
        "# Outra opção é preencher as células com algum valor representativo (por exemplo, zero ou valor anterior ou valor médio etc.) .fillna()\n",
        "base.dropna(inplace=True)"
      ],
      "metadata": {
        "colab": {
          "base_uri": "https://localhost:8080/"
        },
        "id": "wTjBZCV1b_oy",
        "outputId": "a955dece-d624-46ac-c34f-f32e128aee41"
      },
      "execution_count": 12,
      "outputs": [
        {
          "output_type": "stream",
          "name": "stderr",
          "text": [
            "<ipython-input-12-597b8d2fa6c0>:4: SettingWithCopyWarning: \n",
            "A value is trying to be set on a copy of a slice from a DataFrame\n",
            "\n",
            "See the caveats in the documentation: https://pandas.pydata.org/pandas-docs/stable/user_guide/indexing.html#returning-a-view-versus-a-copy\n",
            "  base.dropna(inplace=True)\n"
          ]
        }
      ]
    },
    {
      "cell_type": "code",
      "source": [
        "# Tamanho da base após retirada das linhas com valores ausentes\n",
        "base.shape"
      ],
      "metadata": {
        "colab": {
          "base_uri": "https://localhost:8080/"
        },
        "id": "vxwDrcFwcIiM",
        "outputId": "0d656449-6508-44f8-ad39-2f3b23622ade"
      },
      "execution_count": 13,
      "outputs": [
        {
          "output_type": "execute_result",
          "data": {
            "text/plain": [
              "(520483, 18)"
            ]
          },
          "metadata": {},
          "execution_count": 13
        }
      ]
    },
    {
      "cell_type": "code",
      "source": [
        "# Cria coluna de dias de atraso da dívida até a data do disparo\n",
        "base['dias_atraso'] = base['datadisparo'] - base['data_atraso']"
      ],
      "metadata": {
        "id": "l6Vlhte9BADL",
        "colab": {
          "base_uri": "https://localhost:8080/"
        },
        "outputId": "7d448081-7539-403c-b260-84de381c12da"
      },
      "execution_count": 14,
      "outputs": [
        {
          "output_type": "stream",
          "name": "stderr",
          "text": [
            "<ipython-input-14-cf14615f91ed>:2: SettingWithCopyWarning: \n",
            "A value is trying to be set on a copy of a slice from a DataFrame.\n",
            "Try using .loc[row_indexer,col_indexer] = value instead\n",
            "\n",
            "See the caveats in the documentation: https://pandas.pydata.org/pandas-docs/stable/user_guide/indexing.html#returning-a-view-versus-a-copy\n",
            "  base['dias_atraso'] = base['datadisparo'] - base['data_atraso']\n"
          ]
        }
      ]
    },
    {
      "cell_type": "code",
      "source": [
        "# Converte a coluna dias_atraso em inteiro\n",
        "base['dias_atraso'] = base['dias_atraso'].dt.days"
      ],
      "metadata": {
        "id": "kkYinVE0A_9f",
        "colab": {
          "base_uri": "https://localhost:8080/"
        },
        "outputId": "7de24c26-95cd-4f47-905b-f91baa9067b6"
      },
      "execution_count": 15,
      "outputs": [
        {
          "output_type": "stream",
          "name": "stderr",
          "text": [
            "<ipython-input-15-dde3e983d18a>:2: SettingWithCopyWarning: \n",
            "A value is trying to be set on a copy of a slice from a DataFrame.\n",
            "Try using .loc[row_indexer,col_indexer] = value instead\n",
            "\n",
            "See the caveats in the documentation: https://pandas.pydata.org/pandas-docs/stable/user_guide/indexing.html#returning-a-view-versus-a-copy\n",
            "  base['dias_atraso'] = base['dias_atraso'].dt.days\n"
          ]
        }
      ]
    },
    {
      "cell_type": "code",
      "source": [
        "# Cria coluna dia da semana a partir da coluna data de disparo\n",
        "base['dia_semana'] = base['datadisparo'].dt.day_name()"
      ],
      "metadata": {
        "colab": {
          "base_uri": "https://localhost:8080/"
        },
        "id": "ESJ3oiuKTlB5",
        "outputId": "99f8208c-fe02-41b1-c880-5d6c5815deaf"
      },
      "execution_count": 16,
      "outputs": [
        {
          "output_type": "stream",
          "name": "stderr",
          "text": [
            "<ipython-input-16-82a0442e4dab>:2: SettingWithCopyWarning: \n",
            "A value is trying to be set on a copy of a slice from a DataFrame.\n",
            "Try using .loc[row_indexer,col_indexer] = value instead\n",
            "\n",
            "See the caveats in the documentation: https://pandas.pydata.org/pandas-docs/stable/user_guide/indexing.html#returning-a-view-versus-a-copy\n",
            "  base['dia_semana'] = base['datadisparo'].dt.day_name()\n"
          ]
        }
      ]
    },
    {
      "cell_type": "code",
      "source": [
        "# Cria colunas dummy a partir da variável categórica dia_semana\n",
        "base = pd.get_dummies(base, columns=[\"dia_semana\"], prefix=\"\")"
      ],
      "metadata": {
        "id": "oM-ouXtmR7hE"
      },
      "execution_count": 17,
      "outputs": []
    },
    {
      "cell_type": "code",
      "source": [
        "# Cria colunas dummy a partir da variável categórica genero\n",
        "base = pd.get_dummies(base, columns=[\"genero\"], prefix=\"\")"
      ],
      "metadata": {
        "id": "FuBbfPOtR7cK"
      },
      "execution_count": 18,
      "outputs": []
    },
    {
      "cell_type": "code",
      "source": [
        "# Cria colunas dummy a partir da variável categórica operadora\n",
        "base = pd.get_dummies(base, columns=[\"operadora\"], prefix=\"\")"
      ],
      "metadata": {
        "id": "p8VVf1dVVoBb"
      },
      "execution_count": 19,
      "outputs": []
    },
    {
      "cell_type": "code",
      "source": [
        "# Cria colunas dummy a partir da variável categórica utilizacaoweb\n",
        "base = pd.get_dummies(base, columns=[\"utilizacaoweb\"], prefix=\"\")"
      ],
      "metadata": {
        "id": "1wV2I1AwbX5a"
      },
      "execution_count": 20,
      "outputs": []
    },
    {
      "cell_type": "code",
      "source": [
        "# Cria colunas dummy a partir da variável categórica rendaestimada\n",
        "base = pd.get_dummies(base, columns=[\"rendaestimada\"], prefix=\"\")"
      ],
      "metadata": {
        "id": "9GULDRWSbXzY"
      },
      "execution_count": 21,
      "outputs": []
    },
    {
      "cell_type": "code",
      "source": [
        "base.info()"
      ],
      "metadata": {
        "colab": {
          "base_uri": "https://localhost:8080/"
        },
        "id": "UDDvv7mEcmUI",
        "outputId": "0949b669-f2ae-4524-e031-1a6a738aa6d8"
      },
      "execution_count": 22,
      "outputs": [
        {
          "output_type": "stream",
          "name": "stdout",
          "text": [
            "<class 'pandas.core.frame.DataFrame'>\n",
            "Int64Index: 520483 entries, 1 to 686382\n",
            "Data columns (total 46 columns):\n",
            " #   Column            Non-Null Count   Dtype         \n",
            "---  ------            --------------   -----         \n",
            " 0   acesso            520483 non-null  int64         \n",
            " 1   acordo            520483 non-null  int64         \n",
            " 2   datadisparo       520483 non-null  datetime64[ns]\n",
            " 3   ddd               520483 non-null  int64         \n",
            " 4   sms_entregue      520483 non-null  int64         \n",
            " 5   sms_enviado       520483 non-null  int64         \n",
            " 6   sms_naoentregue   520483 non-null  int64         \n",
            " 7   sms_rejeitado     520483 non-null  int64         \n",
            " 8   sms_invalido      520483 non-null  int64         \n",
            " 9   data_atraso       520483 non-null  datetime64[ns]\n",
            " 10  valor             520483 non-null  float64       \n",
            " 11  qtd_hist_acessos  520483 non-null  int64         \n",
            " 12  sms_total_tent    520483 non-null  int64         \n",
            " 13  idade             520483 non-null  float64       \n",
            " 14  dias_atraso       520483 non-null  int64         \n",
            " 15  _Friday           520483 non-null  uint8         \n",
            " 16  _Monday           520483 non-null  uint8         \n",
            " 17  _Saturday         520483 non-null  uint8         \n",
            " 18  _Thursday         520483 non-null  uint8         \n",
            " 19  _Tuesday          520483 non-null  uint8         \n",
            " 20  _Wednesday        520483 non-null  uint8         \n",
            " 21  _F                520483 non-null  uint8         \n",
            " 22  _M                520483 non-null  uint8         \n",
            " 23  _U                520483 non-null  uint8         \n",
            " 24  _Claro            520483 non-null  uint8         \n",
            " 25  _Nextel           520483 non-null  uint8         \n",
            " 26  _Oi               520483 non-null  uint8         \n",
            " 27  _Outros           520483 non-null  uint8         \n",
            " 28  _Tim              520483 non-null  uint8         \n",
            " 29  _Vivo             520483 non-null  uint8         \n",
            " 30  _A                520483 non-null  uint8         \n",
            " 31  _B                520483 non-null  uint8         \n",
            " 32  _C                520483 non-null  uint8         \n",
            " 33  _D                520483 non-null  uint8         \n",
            " 34  _E                520483 non-null  uint8         \n",
            " 35  _F                520483 non-null  uint8         \n",
            " 36  _G                520483 non-null  uint8         \n",
            " 37  _H                520483 non-null  uint8         \n",
            " 38  _1/2 A 1 SM       520483 non-null  uint8         \n",
            " 39  _10 A 20 SM       520483 non-null  uint8         \n",
            " 40  _2 A 4 SM         520483 non-null  uint8         \n",
            " 41  _4 A 10 SM        520483 non-null  uint8         \n",
            " 42  _ACIMA DE 20 SM   520483 non-null  uint8         \n",
            " 43  _ATE 2 SM         520483 non-null  uint8         \n",
            " 44  _DE 1 A 1,5 SM    520483 non-null  uint8         \n",
            " 45  _SEM INFORMACAO   520483 non-null  uint8         \n",
            "dtypes: datetime64[ns](2), float64(2), int64(11), uint8(31)\n",
            "memory usage: 78.9 MB\n"
          ]
        }
      ]
    },
    {
      "cell_type": "code",
      "source": [],
      "metadata": {
        "id": "HNDoN01fVvi0"
      },
      "execution_count": 22,
      "outputs": []
    },
    {
      "cell_type": "code",
      "source": [],
      "metadata": {
        "id": "e42Q0igdVvbb"
      },
      "execution_count": 22,
      "outputs": []
    },
    {
      "cell_type": "code",
      "source": [
        "base.head()"
      ],
      "metadata": {
        "colab": {
          "base_uri": "https://localhost:8080/",
          "height": 288
        },
        "id": "UlSniF32UF3r",
        "outputId": "0342f48c-a912-44fd-eca8-7ce2614c6268"
      },
      "execution_count": 23,
      "outputs": [
        {
          "output_type": "execute_result",
          "data": {
            "text/plain": [
              "   acesso  acordo datadisparo  ddd  sms_entregue  sms_enviado  \\\n",
              "1       0       0  2020-04-27   67             3            0   \n",
              "2       0       0  2020-05-14   51             1            0   \n",
              "3       0       0  2020-05-13   51             0            0   \n",
              "5       0       0  2020-05-19   48             0            0   \n",
              "6       0       0  2020-05-13   64             0            0   \n",
              "\n",
              "   sms_naoentregue  sms_rejeitado  sms_invalido data_atraso  ...  _G  _H  \\\n",
              "1                0              0             0  2017-04-14  ...   0   0   \n",
              "2                0              0             0  2019-09-04  ...   0   0   \n",
              "3                0              0             0  2019-11-14  ...   0   0   \n",
              "5                1              0             0  2019-07-27  ...   0   0   \n",
              "6                0              0             0  2019-10-15  ...   1   0   \n",
              "\n",
              "   _1/2 A 1 SM  _10 A 20 SM  _2 A 4 SM  _4 A 10 SM  _ACIMA DE 20 SM  \\\n",
              "1            0            0          0           0                0   \n",
              "2            0            0          0           0                0   \n",
              "3            0            0          0           1                0   \n",
              "5            0            0          1           0                0   \n",
              "6            0            0          0           0                0   \n",
              "\n",
              "   _ATE 2 SM  _DE 1 A 1,5 SM  _SEM INFORMACAO  \n",
              "1          1               0                0  \n",
              "2          1               0                0  \n",
              "3          0               0                0  \n",
              "5          0               0                0  \n",
              "6          1               0                0  \n",
              "\n",
              "[5 rows x 46 columns]"
            ],
            "text/html": [
              "\n",
              "  <div id=\"df-665a75ac-a14d-45cb-a055-acbf72d3d189\" class=\"colab-df-container\">\n",
              "    <div>\n",
              "<style scoped>\n",
              "    .dataframe tbody tr th:only-of-type {\n",
              "        vertical-align: middle;\n",
              "    }\n",
              "\n",
              "    .dataframe tbody tr th {\n",
              "        vertical-align: top;\n",
              "    }\n",
              "\n",
              "    .dataframe thead th {\n",
              "        text-align: right;\n",
              "    }\n",
              "</style>\n",
              "<table border=\"1\" class=\"dataframe\">\n",
              "  <thead>\n",
              "    <tr style=\"text-align: right;\">\n",
              "      <th></th>\n",
              "      <th>acesso</th>\n",
              "      <th>acordo</th>\n",
              "      <th>datadisparo</th>\n",
              "      <th>ddd</th>\n",
              "      <th>sms_entregue</th>\n",
              "      <th>sms_enviado</th>\n",
              "      <th>sms_naoentregue</th>\n",
              "      <th>sms_rejeitado</th>\n",
              "      <th>sms_invalido</th>\n",
              "      <th>data_atraso</th>\n",
              "      <th>...</th>\n",
              "      <th>_G</th>\n",
              "      <th>_H</th>\n",
              "      <th>_1/2 A 1 SM</th>\n",
              "      <th>_10 A 20 SM</th>\n",
              "      <th>_2 A 4 SM</th>\n",
              "      <th>_4 A 10 SM</th>\n",
              "      <th>_ACIMA DE 20 SM</th>\n",
              "      <th>_ATE 2 SM</th>\n",
              "      <th>_DE 1 A 1,5 SM</th>\n",
              "      <th>_SEM INFORMACAO</th>\n",
              "    </tr>\n",
              "  </thead>\n",
              "  <tbody>\n",
              "    <tr>\n",
              "      <th>1</th>\n",
              "      <td>0</td>\n",
              "      <td>0</td>\n",
              "      <td>2020-04-27</td>\n",
              "      <td>67</td>\n",
              "      <td>3</td>\n",
              "      <td>0</td>\n",
              "      <td>0</td>\n",
              "      <td>0</td>\n",
              "      <td>0</td>\n",
              "      <td>2017-04-14</td>\n",
              "      <td>...</td>\n",
              "      <td>0</td>\n",
              "      <td>0</td>\n",
              "      <td>0</td>\n",
              "      <td>0</td>\n",
              "      <td>0</td>\n",
              "      <td>0</td>\n",
              "      <td>0</td>\n",
              "      <td>1</td>\n",
              "      <td>0</td>\n",
              "      <td>0</td>\n",
              "    </tr>\n",
              "    <tr>\n",
              "      <th>2</th>\n",
              "      <td>0</td>\n",
              "      <td>0</td>\n",
              "      <td>2020-05-14</td>\n",
              "      <td>51</td>\n",
              "      <td>1</td>\n",
              "      <td>0</td>\n",
              "      <td>0</td>\n",
              "      <td>0</td>\n",
              "      <td>0</td>\n",
              "      <td>2019-09-04</td>\n",
              "      <td>...</td>\n",
              "      <td>0</td>\n",
              "      <td>0</td>\n",
              "      <td>0</td>\n",
              "      <td>0</td>\n",
              "      <td>0</td>\n",
              "      <td>0</td>\n",
              "      <td>0</td>\n",
              "      <td>1</td>\n",
              "      <td>0</td>\n",
              "      <td>0</td>\n",
              "    </tr>\n",
              "    <tr>\n",
              "      <th>3</th>\n",
              "      <td>0</td>\n",
              "      <td>0</td>\n",
              "      <td>2020-05-13</td>\n",
              "      <td>51</td>\n",
              "      <td>0</td>\n",
              "      <td>0</td>\n",
              "      <td>0</td>\n",
              "      <td>0</td>\n",
              "      <td>0</td>\n",
              "      <td>2019-11-14</td>\n",
              "      <td>...</td>\n",
              "      <td>0</td>\n",
              "      <td>0</td>\n",
              "      <td>0</td>\n",
              "      <td>0</td>\n",
              "      <td>0</td>\n",
              "      <td>1</td>\n",
              "      <td>0</td>\n",
              "      <td>0</td>\n",
              "      <td>0</td>\n",
              "      <td>0</td>\n",
              "    </tr>\n",
              "    <tr>\n",
              "      <th>5</th>\n",
              "      <td>0</td>\n",
              "      <td>0</td>\n",
              "      <td>2020-05-19</td>\n",
              "      <td>48</td>\n",
              "      <td>0</td>\n",
              "      <td>0</td>\n",
              "      <td>1</td>\n",
              "      <td>0</td>\n",
              "      <td>0</td>\n",
              "      <td>2019-07-27</td>\n",
              "      <td>...</td>\n",
              "      <td>0</td>\n",
              "      <td>0</td>\n",
              "      <td>0</td>\n",
              "      <td>0</td>\n",
              "      <td>1</td>\n",
              "      <td>0</td>\n",
              "      <td>0</td>\n",
              "      <td>0</td>\n",
              "      <td>0</td>\n",
              "      <td>0</td>\n",
              "    </tr>\n",
              "    <tr>\n",
              "      <th>6</th>\n",
              "      <td>0</td>\n",
              "      <td>0</td>\n",
              "      <td>2020-05-13</td>\n",
              "      <td>64</td>\n",
              "      <td>0</td>\n",
              "      <td>0</td>\n",
              "      <td>0</td>\n",
              "      <td>0</td>\n",
              "      <td>0</td>\n",
              "      <td>2019-10-15</td>\n",
              "      <td>...</td>\n",
              "      <td>1</td>\n",
              "      <td>0</td>\n",
              "      <td>0</td>\n",
              "      <td>0</td>\n",
              "      <td>0</td>\n",
              "      <td>0</td>\n",
              "      <td>0</td>\n",
              "      <td>1</td>\n",
              "      <td>0</td>\n",
              "      <td>0</td>\n",
              "    </tr>\n",
              "  </tbody>\n",
              "</table>\n",
              "<p>5 rows × 46 columns</p>\n",
              "</div>\n",
              "    <div class=\"colab-df-buttons\">\n",
              "\n",
              "  <div class=\"colab-df-container\">\n",
              "    <button class=\"colab-df-convert\" onclick=\"convertToInteractive('df-665a75ac-a14d-45cb-a055-acbf72d3d189')\"\n",
              "            title=\"Convert this dataframe to an interactive table.\"\n",
              "            style=\"display:none;\">\n",
              "\n",
              "  <svg xmlns=\"http://www.w3.org/2000/svg\" height=\"24px\" viewBox=\"0 -960 960 960\">\n",
              "    <path d=\"M120-120v-720h720v720H120Zm60-500h600v-160H180v160Zm220 220h160v-160H400v160Zm0 220h160v-160H400v160ZM180-400h160v-160H180v160Zm440 0h160v-160H620v160ZM180-180h160v-160H180v160Zm440 0h160v-160H620v160Z\"/>\n",
              "  </svg>\n",
              "    </button>\n",
              "\n",
              "  <style>\n",
              "    .colab-df-container {\n",
              "      display:flex;\n",
              "      gap: 12px;\n",
              "    }\n",
              "\n",
              "    .colab-df-convert {\n",
              "      background-color: #E8F0FE;\n",
              "      border: none;\n",
              "      border-radius: 50%;\n",
              "      cursor: pointer;\n",
              "      display: none;\n",
              "      fill: #1967D2;\n",
              "      height: 32px;\n",
              "      padding: 0 0 0 0;\n",
              "      width: 32px;\n",
              "    }\n",
              "\n",
              "    .colab-df-convert:hover {\n",
              "      background-color: #E2EBFA;\n",
              "      box-shadow: 0px 1px 2px rgba(60, 64, 67, 0.3), 0px 1px 3px 1px rgba(60, 64, 67, 0.15);\n",
              "      fill: #174EA6;\n",
              "    }\n",
              "\n",
              "    .colab-df-buttons div {\n",
              "      margin-bottom: 4px;\n",
              "    }\n",
              "\n",
              "    [theme=dark] .colab-df-convert {\n",
              "      background-color: #3B4455;\n",
              "      fill: #D2E3FC;\n",
              "    }\n",
              "\n",
              "    [theme=dark] .colab-df-convert:hover {\n",
              "      background-color: #434B5C;\n",
              "      box-shadow: 0px 1px 3px 1px rgba(0, 0, 0, 0.15);\n",
              "      filter: drop-shadow(0px 1px 2px rgba(0, 0, 0, 0.3));\n",
              "      fill: #FFFFFF;\n",
              "    }\n",
              "  </style>\n",
              "\n",
              "    <script>\n",
              "      const buttonEl =\n",
              "        document.querySelector('#df-665a75ac-a14d-45cb-a055-acbf72d3d189 button.colab-df-convert');\n",
              "      buttonEl.style.display =\n",
              "        google.colab.kernel.accessAllowed ? 'block' : 'none';\n",
              "\n",
              "      async function convertToInteractive(key) {\n",
              "        const element = document.querySelector('#df-665a75ac-a14d-45cb-a055-acbf72d3d189');\n",
              "        const dataTable =\n",
              "          await google.colab.kernel.invokeFunction('convertToInteractive',\n",
              "                                                    [key], {});\n",
              "        if (!dataTable) return;\n",
              "\n",
              "        const docLinkHtml = 'Like what you see? Visit the ' +\n",
              "          '<a target=\"_blank\" href=https://colab.research.google.com/notebooks/data_table.ipynb>data table notebook</a>'\n",
              "          + ' to learn more about interactive tables.';\n",
              "        element.innerHTML = '';\n",
              "        dataTable['output_type'] = 'display_data';\n",
              "        await google.colab.output.renderOutput(dataTable, element);\n",
              "        const docLink = document.createElement('div');\n",
              "        docLink.innerHTML = docLinkHtml;\n",
              "        element.appendChild(docLink);\n",
              "      }\n",
              "    </script>\n",
              "  </div>\n",
              "\n",
              "\n",
              "<div id=\"df-aaaec268-dfbb-4f12-b344-4e61c717b45a\">\n",
              "  <button class=\"colab-df-quickchart\" onclick=\"quickchart('df-aaaec268-dfbb-4f12-b344-4e61c717b45a')\"\n",
              "            title=\"Suggest charts\"\n",
              "            style=\"display:none;\">\n",
              "\n",
              "<svg xmlns=\"http://www.w3.org/2000/svg\" height=\"24px\"viewBox=\"0 0 24 24\"\n",
              "     width=\"24px\">\n",
              "    <g>\n",
              "        <path d=\"M19 3H5c-1.1 0-2 .9-2 2v14c0 1.1.9 2 2 2h14c1.1 0 2-.9 2-2V5c0-1.1-.9-2-2-2zM9 17H7v-7h2v7zm4 0h-2V7h2v10zm4 0h-2v-4h2v4z\"/>\n",
              "    </g>\n",
              "</svg>\n",
              "  </button>\n",
              "\n",
              "<style>\n",
              "  .colab-df-quickchart {\n",
              "      --bg-color: #E8F0FE;\n",
              "      --fill-color: #1967D2;\n",
              "      --hover-bg-color: #E2EBFA;\n",
              "      --hover-fill-color: #174EA6;\n",
              "      --disabled-fill-color: #AAA;\n",
              "      --disabled-bg-color: #DDD;\n",
              "  }\n",
              "\n",
              "  [theme=dark] .colab-df-quickchart {\n",
              "      --bg-color: #3B4455;\n",
              "      --fill-color: #D2E3FC;\n",
              "      --hover-bg-color: #434B5C;\n",
              "      --hover-fill-color: #FFFFFF;\n",
              "      --disabled-bg-color: #3B4455;\n",
              "      --disabled-fill-color: #666;\n",
              "  }\n",
              "\n",
              "  .colab-df-quickchart {\n",
              "    background-color: var(--bg-color);\n",
              "    border: none;\n",
              "    border-radius: 50%;\n",
              "    cursor: pointer;\n",
              "    display: none;\n",
              "    fill: var(--fill-color);\n",
              "    height: 32px;\n",
              "    padding: 0;\n",
              "    width: 32px;\n",
              "  }\n",
              "\n",
              "  .colab-df-quickchart:hover {\n",
              "    background-color: var(--hover-bg-color);\n",
              "    box-shadow: 0 1px 2px rgba(60, 64, 67, 0.3), 0 1px 3px 1px rgba(60, 64, 67, 0.15);\n",
              "    fill: var(--button-hover-fill-color);\n",
              "  }\n",
              "\n",
              "  .colab-df-quickchart-complete:disabled,\n",
              "  .colab-df-quickchart-complete:disabled:hover {\n",
              "    background-color: var(--disabled-bg-color);\n",
              "    fill: var(--disabled-fill-color);\n",
              "    box-shadow: none;\n",
              "  }\n",
              "\n",
              "  .colab-df-spinner {\n",
              "    border: 2px solid var(--fill-color);\n",
              "    border-color: transparent;\n",
              "    border-bottom-color: var(--fill-color);\n",
              "    animation:\n",
              "      spin 1s steps(1) infinite;\n",
              "  }\n",
              "\n",
              "  @keyframes spin {\n",
              "    0% {\n",
              "      border-color: transparent;\n",
              "      border-bottom-color: var(--fill-color);\n",
              "      border-left-color: var(--fill-color);\n",
              "    }\n",
              "    20% {\n",
              "      border-color: transparent;\n",
              "      border-left-color: var(--fill-color);\n",
              "      border-top-color: var(--fill-color);\n",
              "    }\n",
              "    30% {\n",
              "      border-color: transparent;\n",
              "      border-left-color: var(--fill-color);\n",
              "      border-top-color: var(--fill-color);\n",
              "      border-right-color: var(--fill-color);\n",
              "    }\n",
              "    40% {\n",
              "      border-color: transparent;\n",
              "      border-right-color: var(--fill-color);\n",
              "      border-top-color: var(--fill-color);\n",
              "    }\n",
              "    60% {\n",
              "      border-color: transparent;\n",
              "      border-right-color: var(--fill-color);\n",
              "    }\n",
              "    80% {\n",
              "      border-color: transparent;\n",
              "      border-right-color: var(--fill-color);\n",
              "      border-bottom-color: var(--fill-color);\n",
              "    }\n",
              "    90% {\n",
              "      border-color: transparent;\n",
              "      border-bottom-color: var(--fill-color);\n",
              "    }\n",
              "  }\n",
              "</style>\n",
              "\n",
              "  <script>\n",
              "    async function quickchart(key) {\n",
              "      const quickchartButtonEl =\n",
              "        document.querySelector('#' + key + ' button');\n",
              "      quickchartButtonEl.disabled = true;  // To prevent multiple clicks.\n",
              "      quickchartButtonEl.classList.add('colab-df-spinner');\n",
              "      try {\n",
              "        const charts = await google.colab.kernel.invokeFunction(\n",
              "            'suggestCharts', [key], {});\n",
              "      } catch (error) {\n",
              "        console.error('Error during call to suggestCharts:', error);\n",
              "      }\n",
              "      quickchartButtonEl.classList.remove('colab-df-spinner');\n",
              "      quickchartButtonEl.classList.add('colab-df-quickchart-complete');\n",
              "    }\n",
              "    (() => {\n",
              "      let quickchartButtonEl =\n",
              "        document.querySelector('#df-aaaec268-dfbb-4f12-b344-4e61c717b45a button');\n",
              "      quickchartButtonEl.style.display =\n",
              "        google.colab.kernel.accessAllowed ? 'block' : 'none';\n",
              "    })();\n",
              "  </script>\n",
              "</div>\n",
              "\n",
              "    </div>\n",
              "  </div>\n"
            ]
          },
          "metadata": {},
          "execution_count": 23
        }
      ]
    },
    {
      "cell_type": "code",
      "source": [],
      "metadata": {
        "id": "eVkhMwniA_6z"
      },
      "execution_count": 23,
      "outputs": []
    },
    {
      "cell_type": "markdown",
      "source": [
        "# Modelos de Regressão Linear"
      ],
      "metadata": {
        "id": "m9nRLQT1IyL_"
      }
    },
    {
      "cell_type": "code",
      "source": [
        "base.columns"
      ],
      "metadata": {
        "colab": {
          "base_uri": "https://localhost:8080/"
        },
        "id": "gcSYtmoUdIaO",
        "outputId": "5706298a-fde6-4b61-9620-5b69f34ce6f0"
      },
      "execution_count": 24,
      "outputs": [
        {
          "output_type": "execute_result",
          "data": {
            "text/plain": [
              "Index(['acesso', 'acordo', 'datadisparo', 'ddd', 'sms_entregue', 'sms_enviado',\n",
              "       'sms_naoentregue', 'sms_rejeitado', 'sms_invalido', 'data_atraso',\n",
              "       'valor', 'qtd_hist_acessos', 'sms_total_tent', 'idade', 'dias_atraso',\n",
              "       '_Friday', '_Monday', '_Saturday', '_Thursday', '_Tuesday',\n",
              "       '_Wednesday', '_F', '_M', '_U', '_Claro', '_Nextel', '_Oi', '_Outros',\n",
              "       '_Tim', '_Vivo', '_A', '_B', '_C', '_D', '_E', '_F', '_G', '_H',\n",
              "       '_1/2 A 1 SM', '_10 A 20 SM', '_2 A 4 SM', '_4 A 10 SM',\n",
              "       '_ACIMA DE 20 SM', '_ATE 2 SM', '_DE 1 A 1,5 SM', '_SEM INFORMACAO'],\n",
              "      dtype='object')"
            ]
          },
          "metadata": {},
          "execution_count": 24
        }
      ]
    },
    {
      "cell_type": "markdown",
      "source": [
        "## Modelo de regressão para variável alvo: \"acesso\""
      ],
      "metadata": {
        "id": "F5QDCBZPdPnp"
      }
    },
    {
      "cell_type": "code",
      "source": [
        "# Caso base dia_semana: '_Saturday'\n",
        "# Caso base genero: '_U'\n",
        "# Caso base operadora: '_Outros'\n",
        "# Caso base utilizacaoweb: '_A'\n",
        "# Caso base rendaestimada: '_SEM INFORMACAO'\n",
        "# definição de variáveis\n",
        "Y = base['acesso']\n",
        "X = base[['sms_entregue','sms_enviado','sms_naoentregue','sms_rejeitado','sms_invalido','valor',\n",
        "        'qtd_hist_acessos','sms_total_tent','idade','dias_atraso','_Friday', '_Monday','_Thursday', '_Tuesday','_Wednesday',\n",
        "        '_F','_M','_Claro','_Nextel','_Oi','_Tim','_Vivo','_B','_C','_D','_E','_F','_G','_H',\n",
        "        '_1/2 A 1 SM','_10 A 20 SM','_2 A 4 SM','_4 A 10 SM','_ACIMA DE 20 SM','_ATE 2 SM','_DE 1 A 1,5 SM']]"
      ],
      "metadata": {
        "id": "lnTOmZhzkJSy"
      },
      "execution_count": 44,
      "outputs": []
    },
    {
      "cell_type": "code",
      "source": [
        "# vamos deixar o sklearn separar as variáveis em dois grupos treino e teste\n",
        "X_train, X_test, y_train, y_test = train_test_split(X, Y, test_size=0.2, random_state=42)"
      ],
      "metadata": {
        "id": "bpXc5N2mJS3I"
      },
      "execution_count": 45,
      "outputs": []
    },
    {
      "cell_type": "code",
      "source": [
        "# cria o modelo e o treina com as variáveis separadas para treino\n",
        "modelo1 = linear_model.LinearRegression()\n",
        "modelo1.fit(X_train, y_train)"
      ],
      "metadata": {
        "colab": {
          "base_uri": "https://localhost:8080/",
          "height": 75
        },
        "id": "9PRVTqa_JSyM",
        "outputId": "31798cd7-8193-4f49-c493-64142a88b192"
      },
      "execution_count": 46,
      "outputs": [
        {
          "output_type": "execute_result",
          "data": {
            "text/plain": [
              "LinearRegression()"
            ],
            "text/html": [
              "<style>#sk-container-id-3 {color: black;background-color: white;}#sk-container-id-3 pre{padding: 0;}#sk-container-id-3 div.sk-toggleable {background-color: white;}#sk-container-id-3 label.sk-toggleable__label {cursor: pointer;display: block;width: 100%;margin-bottom: 0;padding: 0.3em;box-sizing: border-box;text-align: center;}#sk-container-id-3 label.sk-toggleable__label-arrow:before {content: \"▸\";float: left;margin-right: 0.25em;color: #696969;}#sk-container-id-3 label.sk-toggleable__label-arrow:hover:before {color: black;}#sk-container-id-3 div.sk-estimator:hover label.sk-toggleable__label-arrow:before {color: black;}#sk-container-id-3 div.sk-toggleable__content {max-height: 0;max-width: 0;overflow: hidden;text-align: left;background-color: #f0f8ff;}#sk-container-id-3 div.sk-toggleable__content pre {margin: 0.2em;color: black;border-radius: 0.25em;background-color: #f0f8ff;}#sk-container-id-3 input.sk-toggleable__control:checked~div.sk-toggleable__content {max-height: 200px;max-width: 100%;overflow: auto;}#sk-container-id-3 input.sk-toggleable__control:checked~label.sk-toggleable__label-arrow:before {content: \"▾\";}#sk-container-id-3 div.sk-estimator input.sk-toggleable__control:checked~label.sk-toggleable__label {background-color: #d4ebff;}#sk-container-id-3 div.sk-label input.sk-toggleable__control:checked~label.sk-toggleable__label {background-color: #d4ebff;}#sk-container-id-3 input.sk-hidden--visually {border: 0;clip: rect(1px 1px 1px 1px);clip: rect(1px, 1px, 1px, 1px);height: 1px;margin: -1px;overflow: hidden;padding: 0;position: absolute;width: 1px;}#sk-container-id-3 div.sk-estimator {font-family: monospace;background-color: #f0f8ff;border: 1px dotted black;border-radius: 0.25em;box-sizing: border-box;margin-bottom: 0.5em;}#sk-container-id-3 div.sk-estimator:hover {background-color: #d4ebff;}#sk-container-id-3 div.sk-parallel-item::after {content: \"\";width: 100%;border-bottom: 1px solid gray;flex-grow: 1;}#sk-container-id-3 div.sk-label:hover label.sk-toggleable__label {background-color: #d4ebff;}#sk-container-id-3 div.sk-serial::before {content: \"\";position: absolute;border-left: 1px solid gray;box-sizing: border-box;top: 0;bottom: 0;left: 50%;z-index: 0;}#sk-container-id-3 div.sk-serial {display: flex;flex-direction: column;align-items: center;background-color: white;padding-right: 0.2em;padding-left: 0.2em;position: relative;}#sk-container-id-3 div.sk-item {position: relative;z-index: 1;}#sk-container-id-3 div.sk-parallel {display: flex;align-items: stretch;justify-content: center;background-color: white;position: relative;}#sk-container-id-3 div.sk-item::before, #sk-container-id-3 div.sk-parallel-item::before {content: \"\";position: absolute;border-left: 1px solid gray;box-sizing: border-box;top: 0;bottom: 0;left: 50%;z-index: -1;}#sk-container-id-3 div.sk-parallel-item {display: flex;flex-direction: column;z-index: 1;position: relative;background-color: white;}#sk-container-id-3 div.sk-parallel-item:first-child::after {align-self: flex-end;width: 50%;}#sk-container-id-3 div.sk-parallel-item:last-child::after {align-self: flex-start;width: 50%;}#sk-container-id-3 div.sk-parallel-item:only-child::after {width: 0;}#sk-container-id-3 div.sk-dashed-wrapped {border: 1px dashed gray;margin: 0 0.4em 0.5em 0.4em;box-sizing: border-box;padding-bottom: 0.4em;background-color: white;}#sk-container-id-3 div.sk-label label {font-family: monospace;font-weight: bold;display: inline-block;line-height: 1.2em;}#sk-container-id-3 div.sk-label-container {text-align: center;}#sk-container-id-3 div.sk-container {/* jupyter's `normalize.less` sets `[hidden] { display: none; }` but bootstrap.min.css set `[hidden] { display: none !important; }` so we also need the `!important` here to be able to override the default hidden behavior on the sphinx rendered scikit-learn.org. See: https://github.com/scikit-learn/scikit-learn/issues/21755 */display: inline-block !important;position: relative;}#sk-container-id-3 div.sk-text-repr-fallback {display: none;}</style><div id=\"sk-container-id-3\" class=\"sk-top-container\"><div class=\"sk-text-repr-fallback\"><pre>LinearRegression()</pre><b>In a Jupyter environment, please rerun this cell to show the HTML representation or trust the notebook. <br />On GitHub, the HTML representation is unable to render, please try loading this page with nbviewer.org.</b></div><div class=\"sk-container\" hidden><div class=\"sk-item\"><div class=\"sk-estimator sk-toggleable\"><input class=\"sk-toggleable__control sk-hidden--visually\" id=\"sk-estimator-id-3\" type=\"checkbox\" checked><label for=\"sk-estimator-id-3\" class=\"sk-toggleable__label sk-toggleable__label-arrow\">LinearRegression</label><div class=\"sk-toggleable__content\"><pre>LinearRegression()</pre></div></div></div></div></div>"
            ]
          },
          "metadata": {},
          "execution_count": 46
        }
      ]
    },
    {
      "cell_type": "code",
      "source": [
        "# Exibe os coeficientes do modelo na tela\n",
        "a = modelo1.intercept_\n",
        "b = modelo1.coef_\n",
        "print(f\"O intercepto é: {a:.4f}\")\n",
        "print(f\"Os coeficientes angulares do modelo são: {b}\")"
      ],
      "metadata": {
        "colab": {
          "base_uri": "https://localhost:8080/"
        },
        "id": "c1myecI9JSqW",
        "outputId": "e9b67b71-c604-4515-bf26-560f4907eb88"
      },
      "execution_count": 47,
      "outputs": [
        {
          "output_type": "stream",
          "name": "stdout",
          "text": [
            "O intercepto é: 0.0741\n",
            "Os coeficientes angulares do modelo são: [-3.42361265e-04 -1.24426717e-03 -1.67758595e-03  1.34469182e-03\n",
            "  8.10766385e-16  3.08637270e-06  6.26977934e-02 -2.69862302e-03\n",
            " -2.37438907e-04 -8.71698776e-08  6.87025221e-03  5.51057850e-03\n",
            "  1.95104805e-03 -4.95030240e-03  1.54712806e-04  6.48927991e-04\n",
            " -3.85055708e-03 -2.12913792e-03 -9.01465639e-03 -1.60010796e-02\n",
            " -1.05183238e-02 -1.00356965e-02 -1.02395703e-02 -2.58022674e-03\n",
            " -4.48967543e-03 -6.30262206e-03 -6.88919736e-03  6.48927991e-04\n",
            " -3.85055708e-03 -8.06889083e-03 -1.03124398e-02 -4.53564333e-02\n",
            " -2.58212812e-02 -2.58915524e-02 -2.77567707e-02 -2.72089857e-02\n",
            " -2.61270058e-02 -7.26388854e-02]\n"
          ]
        }
      ]
    },
    {
      "cell_type": "code",
      "source": [
        "# Para avaliar a qualidade do modelo usamos a biblioteca metrics do sklearn\n",
        "# Valores preditos pelo modelo\n",
        "yhat = modelo1.predict(X_test)"
      ],
      "metadata": {
        "id": "aFjzNOgF_MhP"
      },
      "execution_count": 48,
      "outputs": []
    },
    {
      "cell_type": "code",
      "source": [
        "# Coeficiente de determinação do modelo\n",
        "# varia de 0 a 1 e indica o poder de explicação do modelo\n",
        "r_sq = metrics.r2_score(y_test,yhat)\n",
        "print(f\"Coeficiente de determinação r2 = {r_sq:.4f}\")"
      ],
      "metadata": {
        "colab": {
          "base_uri": "https://localhost:8080/"
        },
        "id": "Csc0EBFH_Mew",
        "outputId": "c4255afb-6a29-4db7-9ea4-63d93310a57f"
      },
      "execution_count": 49,
      "outputs": [
        {
          "output_type": "stream",
          "name": "stdout",
          "text": [
            "Coeficiente de determinação r2 = 0.0614\n"
          ]
        }
      ]
    },
    {
      "cell_type": "code",
      "source": [
        "# auc (area under curve) é uma métrica que indica quão bom o modelo é para classificar verdadeiros positivos (tpr) sobre falsos positivos (fpr).\n",
        "# O valor de auc deve estar acima de 0.5 (modelo \"bobo\", sem qualquer poder preditivo). E vai até 1.0 (modelo perfeito).\n",
        "fpr, tpr, threshold = metrics.roc_curve(y_test, yhat)\n",
        "auc = metrics.auc(fpr,tpr)\n",
        "print(auc)"
      ],
      "metadata": {
        "id": "cn33fTLVDRd1",
        "colab": {
          "base_uri": "https://localhost:8080/"
        },
        "outputId": "988672e8-c1d9-4844-caf1-fa614c9c1247"
      },
      "execution_count": 50,
      "outputs": [
        {
          "output_type": "stream",
          "name": "stdout",
          "text": [
            "0.7654917021777097\n"
          ]
        }
      ]
    },
    {
      "cell_type": "code",
      "source": [
        "# Gráfico da ROC\n",
        "plt.figure(figsize=(5,5), dpi=150)\n",
        "plt.plot(fpr, tpr, ls='-', label='LinReg (auc = %0.3f)' % auc)\n",
        "plt.plot([0,1],[0,1], ls='--')\n",
        "plt.xlabel('Taxa de Falso Positivo (fpr)')\n",
        "plt.ylabel('Taxa de Verdadeiro Positivo (tpr)')\n",
        "plt.title('Curva ROC - Modelo de Reg. Linear para Acesso')\n",
        "plt.legend()\n",
        "plt.show()"
      ],
      "metadata": {
        "colab": {
          "base_uri": "https://localhost:8080/",
          "height": 718
        },
        "id": "Wd-WbJD4RhHX",
        "outputId": "854b08cd-a3ad-429f-9bb8-cb79c47263d3"
      },
      "execution_count": 51,
      "outputs": [
        {
          "output_type": "display_data",
          "data": {
            "text/plain": [
              "<Figure size 750x750 with 1 Axes>"
            ],
            "image/png": "[encoded data removed]"
          },
          "metadata": {}
        }
      ]
    },
    {
      "cell_type": "code",
      "source": [],
      "metadata": {
        "id": "IHikFK0xV5xF"
      },
      "execution_count": null,
      "outputs": []
    },
    {
      "cell_type": "markdown",
      "source": [
        "## Modelo de regressão para variável alvo: \"acordo\""
      ],
      "metadata": {
        "id": "nk5J6oHRV68g"
      }
    },
    {
      "cell_type": "code",
      "source": [
        "# Vamos seguir os mesmos passos anteriores\n",
        "# primeiro separa as variáveis\n",
        "Y = base['acordo']\n",
        "X = base[['sms_entregue','sms_enviado','sms_naoentregue','sms_rejeitado','sms_invalido','valor',\n",
        "        'qtd_hist_acessos','sms_total_tent','idade','dias_atraso','_Friday', '_Monday','_Thursday', '_Tuesday','_Wednesday',\n",
        "        '_F','_M','_Claro','_Nextel','_Oi','_Tim','_Vivo','_B','_C','_D','_E','_F','_G','_H',\n",
        "        '_1/2 A 1 SM','_10 A 20 SM','_2 A 4 SM','_4 A 10 SM','_ACIMA DE 20 SM','_ATE 2 SM','_DE 1 A 1,5 SM']]"
      ],
      "metadata": {
        "id": "rr9V6xGGV5pT"
      },
      "execution_count": 36,
      "outputs": []
    },
    {
      "cell_type": "code",
      "source": [
        "# Separa as variáveis em dois grupos treino e teste\n",
        "X_train, X_test, y_train, y_test = train_test_split(X, Y, test_size=0.2, random_state=42)"
      ],
      "metadata": {
        "id": "Sbg1WXP5WTfk"
      },
      "execution_count": 37,
      "outputs": []
    },
    {
      "cell_type": "code",
      "source": [
        "# cria o modelo e o treina com as variáveis separadas para treino\n",
        "modelo2 = linear_model.LinearRegression()\n",
        "modelo2.fit(X_train, y_train)"
      ],
      "metadata": {
        "colab": {
          "base_uri": "https://localhost:8080/",
          "height": 75
        },
        "id": "xrdNUZEyWTPt",
        "outputId": "92af95b0-feef-4263-e22a-13d38eeec1b6"
      },
      "execution_count": 38,
      "outputs": [
        {
          "output_type": "execute_result",
          "data": {
            "text/plain": [
              "LinearRegression()"
            ],
            "text/html": [
              "<style>#sk-container-id-2 {color: black;background-color: white;}#sk-container-id-2 pre{padding: 0;}#sk-container-id-2 div.sk-toggleable {background-color: white;}#sk-container-id-2 label.sk-toggleable__label {cursor: pointer;display: block;width: 100%;margin-bottom: 0;padding: 0.3em;box-sizing: border-box;text-align: center;}#sk-container-id-2 label.sk-toggleable__label-arrow:before {content: \"▸\";float: left;margin-right: 0.25em;color: #696969;}#sk-container-id-2 label.sk-toggleable__label-arrow:hover:before {color: black;}#sk-container-id-2 div.sk-estimator:hover label.sk-toggleable__label-arrow:before {color: black;}#sk-container-id-2 div.sk-toggleable__content {max-height: 0;max-width: 0;overflow: hidden;text-align: left;background-color: #f0f8ff;}#sk-container-id-2 div.sk-toggleable__content pre {margin: 0.2em;color: black;border-radius: 0.25em;background-color: #f0f8ff;}#sk-container-id-2 input.sk-toggleable__control:checked~div.sk-toggleable__content {max-height: 200px;max-width: 100%;overflow: auto;}#sk-container-id-2 input.sk-toggleable__control:checked~label.sk-toggleable__label-arrow:before {content: \"▾\";}#sk-container-id-2 div.sk-estimator input.sk-toggleable__control:checked~label.sk-toggleable__label {background-color: #d4ebff;}#sk-container-id-2 div.sk-label input.sk-toggleable__control:checked~label.sk-toggleable__label {background-color: #d4ebff;}#sk-container-id-2 input.sk-hidden--visually {border: 0;clip: rect(1px 1px 1px 1px);clip: rect(1px, 1px, 1px, 1px);height: 1px;margin: -1px;overflow: hidden;padding: 0;position: absolute;width: 1px;}#sk-container-id-2 div.sk-estimator {font-family: monospace;background-color: #f0f8ff;border: 1px dotted black;border-radius: 0.25em;box-sizing: border-box;margin-bottom: 0.5em;}#sk-container-id-2 div.sk-estimator:hover {background-color: #d4ebff;}#sk-container-id-2 div.sk-parallel-item::after {content: \"\";width: 100%;border-bottom: 1px solid gray;flex-grow: 1;}#sk-container-id-2 div.sk-label:hover label.sk-toggleable__label {background-color: #d4ebff;}#sk-container-id-2 div.sk-serial::before {content: \"\";position: absolute;border-left: 1px solid gray;box-sizing: border-box;top: 0;bottom: 0;left: 50%;z-index: 0;}#sk-container-id-2 div.sk-serial {display: flex;flex-direction: column;align-items: center;background-color: white;padding-right: 0.2em;padding-left: 0.2em;position: relative;}#sk-container-id-2 div.sk-item {position: relative;z-index: 1;}#sk-container-id-2 div.sk-parallel {display: flex;align-items: stretch;justify-content: center;background-color: white;position: relative;}#sk-container-id-2 div.sk-item::before, #sk-container-id-2 div.sk-parallel-item::before {content: \"\";position: absolute;border-left: 1px solid gray;box-sizing: border-box;top: 0;bottom: 0;left: 50%;z-index: -1;}#sk-container-id-2 div.sk-parallel-item {display: flex;flex-direction: column;z-index: 1;position: relative;background-color: white;}#sk-container-id-2 div.sk-parallel-item:first-child::after {align-self: flex-end;width: 50%;}#sk-container-id-2 div.sk-parallel-item:last-child::after {align-self: flex-start;width: 50%;}#sk-container-id-2 div.sk-parallel-item:only-child::after {width: 0;}#sk-container-id-2 div.sk-dashed-wrapped {border: 1px dashed gray;margin: 0 0.4em 0.5em 0.4em;box-sizing: border-box;padding-bottom: 0.4em;background-color: white;}#sk-container-id-2 div.sk-label label {font-family: monospace;font-weight: bold;display: inline-block;line-height: 1.2em;}#sk-container-id-2 div.sk-label-container {text-align: center;}#sk-container-id-2 div.sk-container {/* jupyter's `normalize.less` sets `[hidden] { display: none; }` but bootstrap.min.css set `[hidden] { display: none !important; }` so we also need the `!important` here to be able to override the default hidden behavior on the sphinx rendered scikit-learn.org. See: https://github.com/scikit-learn/scikit-learn/issues/21755 */display: inline-block !important;position: relative;}#sk-container-id-2 div.sk-text-repr-fallback {display: none;}</style><div id=\"sk-container-id-2\" class=\"sk-top-container\"><div class=\"sk-text-repr-fallback\"><pre>LinearRegression()</pre><b>In a Jupyter environment, please rerun this cell to show the HTML representation or trust the notebook. <br />On GitHub, the HTML representation is unable to render, please try loading this page with nbviewer.org.</b></div><div class=\"sk-container\" hidden><div class=\"sk-item\"><div class=\"sk-estimator sk-toggleable\"><input class=\"sk-toggleable__control sk-hidden--visually\" id=\"sk-estimator-id-2\" type=\"checkbox\" checked><label for=\"sk-estimator-id-2\" class=\"sk-toggleable__label sk-toggleable__label-arrow\">LinearRegression</label><div class=\"sk-toggleable__content\"><pre>LinearRegression()</pre></div></div></div></div></div>"
            ]
          },
          "metadata": {},
          "execution_count": 38
        }
      ]
    },
    {
      "cell_type": "code",
      "source": [
        "# Exibe os coeficientes do modelo na tela\n",
        "a = modelo2.intercept_\n",
        "b = modelo2.coef_\n",
        "print(f\"O intercepto é: {a:.4f}\")\n",
        "print(f\"Os coeficientes angulares do modelo são: {b}\")"
      ],
      "metadata": {
        "colab": {
          "base_uri": "https://localhost:8080/"
        },
        "id": "jkPDmGuFV5hG",
        "outputId": "ae4ad528-b610-42ac-9309-8737ded329b9"
      },
      "execution_count": 39,
      "outputs": [
        {
          "output_type": "stream",
          "name": "stdout",
          "text": [
            "O intercepto é: 0.0023\n",
            "Os coeficientes angulares do modelo são: [ 1.00765259e-04  3.80612940e-05 -2.28444530e-04  8.83778366e-05\n",
            "  3.45386155e-16 -3.26297623e-06  4.65170902e-03 -2.77728945e-04\n",
            " -2.80724359e-05  1.28794700e-07  5.26310593e-03  3.77256679e-03\n",
            "  4.44275675e-03  3.34778500e-03  4.14173660e-03 -6.00085094e-06\n",
            " -5.49039794e-04 -4.88255320e-04 -3.60799469e-03 -5.24685142e-03\n",
            " -4.05322159e-03 -3.32313104e-03 -3.21678470e-03 -4.80625251e-04\n",
            " -9.60281093e-04 -4.36453954e-04 -8.49810589e-04 -6.00085094e-06\n",
            " -5.49039794e-04 -1.43124827e-03 -1.40634578e-03  9.43665714e-04\n",
            "  4.53254721e-03  3.13408503e-03  3.50800940e-03  3.09775720e-03\n",
            "  3.23442838e-03 -2.24966316e-03]\n"
          ]
        }
      ]
    },
    {
      "cell_type": "code",
      "source": [
        "# Para avaliar a qualidade do modelo usamos a biblioteca metrics do sklearn\n",
        "# Valores preditos pelo modelo\n",
        "yhat = modelo2.predict(X_test)"
      ],
      "metadata": {
        "id": "7-kc7b6eWt3U"
      },
      "execution_count": 40,
      "outputs": []
    },
    {
      "cell_type": "code",
      "source": [
        "# Coeficiente de determinação do modelo\n",
        "# varia de 0 a 1 e indica o poder de explicação do modelo\n",
        "r_sq = metrics.r2_score(y_test,yhat)\n",
        "print(f\"Coeficiente de determinação r2 = {r_sq:.4f}\")"
      ],
      "metadata": {
        "colab": {
          "base_uri": "https://localhost:8080/"
        },
        "id": "7sIlJSdHWt0W",
        "outputId": "13d149c3-1ff3-4390-9e54-38200aecefcb"
      },
      "execution_count": 41,
      "outputs": [
        {
          "output_type": "stream",
          "name": "stdout",
          "text": [
            "Coeficiente de determinação r2 = 0.0030\n"
          ]
        }
      ]
    },
    {
      "cell_type": "code",
      "source": [
        "# auc (area under curve) é uma métrica que indica quão bom o modelo é para classificar verdadeiros positivos (tpr) sobre falsos positivos (fpr).\n",
        "# O valor de auc deve estar acima de 0.5 (modelo \"bobo\", sem qualquer poder preditivo). E vai até 1.0 (modelo perfeito).\n",
        "fpr, tpr, threshold = metrics.roc_curve(y_test, yhat)\n",
        "auc = metrics.auc(fpr,tpr)\n",
        "print(auc)"
      ],
      "metadata": {
        "colab": {
          "base_uri": "https://localhost:8080/"
        },
        "id": "6EK6K1jwWtxs",
        "outputId": "3197f72c-6681-4c66-ccd6-6270091fa4fc"
      },
      "execution_count": 42,
      "outputs": [
        {
          "output_type": "stream",
          "name": "stdout",
          "text": [
            "0.7325824066854516\n"
          ]
        }
      ]
    },
    {
      "cell_type": "code",
      "source": [
        "# Gráfico da ROC\n",
        "plt.figure(figsize=(5,5), dpi=150)\n",
        "plt.plot(fpr, tpr, ls='-', label='LinReg (auc = %0.3f)' % auc)\n",
        "plt.plot([0,1],[0,1], ls='--')\n",
        "plt.xlabel('Taxa de Falso Positivo (fpr)')\n",
        "plt.ylabel('Taxa de Verdadeiro Positivo (tpr)')\n",
        "plt.title('Curva ROC - Modelo de Reg. Linear para Acordo')\n",
        "plt.legend()\n",
        "plt.show()"
      ],
      "metadata": {
        "colab": {
          "base_uri": "https://localhost:8080/",
          "height": 718
        },
        "id": "VLsnqvklWttn",
        "outputId": "ad8f1e6f-8ace-4c83-8e6b-f3f199387953"
      },
      "execution_count": 43,
      "outputs": [
        {
          "output_type": "display_data",
          "data": {
            "text/plain": [
              "<Figure size 750x750 with 1 Axes>"
            ],
            "image/png": "[encoded data removed]"
          },
          "metadata": {}
        }
      ]
    }
  ]
}